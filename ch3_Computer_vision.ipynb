{
  "nbformat": 4,
  "nbformat_minor": 0,
  "metadata": {
    "colab": {
      "provenance": [],
      "gpuType": "T4",
      "authorship_tag": "ABX9TyOo11x4mbDBYnxejkUcLNc+",
      "include_colab_link": true
    },
    "kernelspec": {
      "name": "python3",
      "display_name": "Python 3"
    },
    "language_info": {
      "name": "python"
    },
    "accelerator": "GPU"
  },
  "cells": [
    {
      "cell_type": "markdown",
      "metadata": {
        "id": "view-in-github",
        "colab_type": "text"
      },
      "source": [
        "<a href=\"https://colab.research.google.com/github/faryal-art/week4_pytorch/blob/main/ch3_Computer_vision.ipynb\" target=\"_parent\"><img src=\"https://colab.research.google.com/assets/colab-badge.svg\" alt=\"Open In Colab\"/></a>"
      ]
    },
    {
      "cell_type": "markdown",
      "source": [
        "# Ch:3 Computer vision and  Convolutional Neural Network with Pytorch"
      ],
      "metadata": {
        "id": "yjvwLknwOzPj"
      }
    },
    {
      "cell_type": "markdown",
      "source": [
        "**Computer vision** is the art of teaching a computer to see.\n",
        "\n",
        "We will not tell the computer what it is it will learn it itself\n",
        "\n",
        "* For example, it could involve building a model to classify whether a photo is of a cat or a dog (**binary classification**).\n",
        ".\n",
        "\n",
        "* Or whether a photo is of a cat, dog or chicken (**multi-class classification**).\n",
        "\n",
        "* Or identifying where a car appears in a video frame (**object detection**).\n",
        "\n",
        "* Or figuring out where different objects in an image can be separated (**panoptic segmentation**).\n",
        "\n",
        "\n",
        "\n"
      ],
      "metadata": {
        "id": "7jliFEeGOzMC"
      }
    },
    {
      "cell_type": "markdown",
      "source": [
        "### Types of problems computer vision deals with\n",
        "* Binary classification\n",
        "* Multiclass calsification\n",
        "* Object detection\n",
        "* Panoptic segmentation(identify different parts of images)"
      ],
      "metadata": {
        "id": "k8LGmyoiOzJN"
      }
    },
    {
      "cell_type": "markdown",
      "source": [
        "## What are we going to cover\n",
        "1. Getting vision dataset to work with udsing torchvision.datasets\n",
        "2. Architecture of a convolutional neural network(CNN) with pytorch\n",
        "3.  An end to end image classification problem\n",
        "4.  Steps in modelling with CNNS in pytorch\n",
        "  * Creating a CNN model with pytorch\n",
        "  * picking loss function and optimizer\n",
        "  * Training a model\n",
        "  * Evaluating a model\n"
      ],
      "metadata": {
        "id": "y5_cM7rrRrqP"
      }
    },
    {
      "cell_type": "markdown",
      "source": [
        "## Architecture of a  CNN\n",
        "* Input images (The image in which we have to discover patterns )\n",
        "* Input layer (Takes in  target images and preprocess them for further layers )\n",
        "* Convolution layer (Extracts /learns most important features from target images )\n",
        "* Hidden activation/ non-linear activation (Adds non-linearity to learned featurs _\n",
        "* pooling layer( Reduces the dimensionality of learned features )\n",
        "* output layer /linear layer (take learned features and outputs them in shape of target labels )\n",
        "* ouput activation (convert  output logits to prediction probabilities)\n",
        "\n"
      ],
      "metadata": {
        "id": "E49NYqzxRrmc"
      }
    },
    {
      "cell_type": "markdown",
      "source": [
        "## 0. Computer vision libraries in pytorch\n",
        "* `torchvision.dataset` -> get dataset and data loading functions fo computer vision\n",
        " * `torchvision.models` -> get pretrained computer vision models that you can use for your own problems\n",
        " * `torchvision.transforms` ->functions for manuplating your vision data (images) to be suitable for use with an ML model . it turns image data into numbers so we can use it with a machine learning model\n",
        " * `torch.utlis.data.Datasets` -> Base dataset class for pytorch( if we want to create our own dataset)\n",
        " * `torch.utils.data.DataLoader` -> creates a Python iterable over a dataset"
      ],
      "metadata": {
        "id": "-tgE3MkvW5_I"
      }
    },
    {
      "cell_type": "code",
      "source": [
        "#import pytorch\n",
        "import torch\n",
        "from torch import nn\n",
        "\n",
        "#import torchvision\n",
        "import torchvision\n",
        "from torchvision import datasets\n",
        "from torchvision import transforms\n",
        "from torchvision.transforms import ToTensor\n",
        "\n",
        "# import matplotlib for visualization\n",
        "import matplotlib.pyplot as plt\n",
        "\n",
        "#  check versions\n",
        "print(torch.__version__)\n",
        "print(torchvision.__version__)"
      ],
      "metadata": {
        "id": "FfAeGe85Ro-8",
        "colab": {
          "base_uri": "https://localhost:8080/"
        },
        "outputId": "d53d3daa-258d-49cb-b439-e71a0b5172a3"
      },
      "execution_count": null,
      "outputs": [
        {
          "output_type": "stream",
          "name": "stdout",
          "text": [
            "2.6.0+cu124\n",
            "0.21.0+cu124\n"
          ]
        }
      ]
    },
    {
      "cell_type": "markdown",
      "source": [
        "###1. Getting a dataset\n",
        "The dataset we are using is FashionMNist from torchvision.dataset\n"
      ],
      "metadata": {
        "id": "epdKnN-yf_ls"
      }
    },
    {
      "cell_type": "code",
      "source": [
        "from torchvision import datasets\n",
        "#training data\n",
        "train_data=datasets.FashionMNIST(\n",
        "    root=\"data\",# where we want to download the data / store the data (folder name )\n",
        "    train=True, #do we want the training dataset?\n",
        "    download=True, # do we want to download it yes/no?\n",
        "    transform=torchvision.transforms.ToTensor(), # how do we want to transform the data?\n",
        "    target_transform=None # how do we want to transform labels/targets?\n",
        "\n",
        ")\n",
        "test_data=datasets.FashionMNIST(\n",
        "    root=\"data\",\n",
        "    train=False,\n",
        "    download=True,\n",
        "    transform=ToTensor(),\n",
        "    target_transform=None\n",
        "\n",
        "\n",
        ")"
      ],
      "metadata": {
        "id": "oWch-lzFeV7F",
        "colab": {
          "base_uri": "https://localhost:8080/"
        },
        "outputId": "23d23ea5-eef3-48f4-b6f6-1fa5e2716b5a"
      },
      "execution_count": null,
      "outputs": [
        {
          "output_type": "stream",
          "name": "stderr",
          "text": [
            "100%|██████████| 26.4M/26.4M [00:01<00:00, 13.4MB/s]\n",
            "100%|██████████| 29.5k/29.5k [00:00<00:00, 212kB/s]\n",
            "100%|██████████| 4.42M/4.42M [00:01<00:00, 3.93MB/s]\n",
            "100%|██████████| 5.15k/5.15k [00:00<00:00, 26.9MB/s]\n"
          ]
        }
      ]
    },
    {
      "cell_type": "code",
      "source": [
        "# checking parameters and atributes of our data\n",
        "# check of both tarin and test data\n",
        "len(train_data),len(test_data)"
      ],
      "metadata": {
        "id": "dFELRaC2m8NX",
        "colab": {
          "base_uri": "https://localhost:8080/"
        },
        "outputId": "4f6ee691-9bb7-4d08-9d7f-5fa39fec7a4d"
      },
      "execution_count": null,
      "outputs": [
        {
          "output_type": "execute_result",
          "data": {
            "text/plain": [
              "(60000, 10000)"
            ]
          },
          "metadata": {},
          "execution_count": 4
        }
      ]
    },
    {
      "cell_type": "code",
      "source": [
        "# first training sample\n",
        "image,label=train_data[0]\n",
        "image,label"
      ],
      "metadata": {
        "id": "yNGdL4ikp0_m",
        "colab": {
          "base_uri": "https://localhost:8080/"
        },
        "outputId": "426917a3-d5de-42b4-befe-50cf2303770e"
      },
      "execution_count": null,
      "outputs": [
        {
          "output_type": "execute_result",
          "data": {
            "text/plain": [
              "(tensor([[[0.0000, 0.0000, 0.0000, 0.0000, 0.0000, 0.0000, 0.0000, 0.0000,\n",
              "           0.0000, 0.0000, 0.0000, 0.0000, 0.0000, 0.0000, 0.0000, 0.0000,\n",
              "           0.0000, 0.0000, 0.0000, 0.0000, 0.0000, 0.0000, 0.0000, 0.0000,\n",
              "           0.0000, 0.0000, 0.0000, 0.0000],\n",
              "          [0.0000, 0.0000, 0.0000, 0.0000, 0.0000, 0.0000, 0.0000, 0.0000,\n",
              "           0.0000, 0.0000, 0.0000, 0.0000, 0.0000, 0.0000, 0.0000, 0.0000,\n",
              "           0.0000, 0.0000, 0.0000, 0.0000, 0.0000, 0.0000, 0.0000, 0.0000,\n",
              "           0.0000, 0.0000, 0.0000, 0.0000],\n",
              "          [0.0000, 0.0000, 0.0000, 0.0000, 0.0000, 0.0000, 0.0000, 0.0000,\n",
              "           0.0000, 0.0000, 0.0000, 0.0000, 0.0000, 0.0000, 0.0000, 0.0000,\n",
              "           0.0000, 0.0000, 0.0000, 0.0000, 0.0000, 0.0000, 0.0000, 0.0000,\n",
              "           0.0000, 0.0000, 0.0000, 0.0000],\n",
              "          [0.0000, 0.0000, 0.0000, 0.0000, 0.0000, 0.0000, 0.0000, 0.0000,\n",
              "           0.0000, 0.0000, 0.0000, 0.0000, 0.0039, 0.0000, 0.0000, 0.0510,\n",
              "           0.2863, 0.0000, 0.0000, 0.0039, 0.0157, 0.0000, 0.0000, 0.0000,\n",
              "           0.0000, 0.0039, 0.0039, 0.0000],\n",
              "          [0.0000, 0.0000, 0.0000, 0.0000, 0.0000, 0.0000, 0.0000, 0.0000,\n",
              "           0.0000, 0.0000, 0.0000, 0.0000, 0.0118, 0.0000, 0.1412, 0.5333,\n",
              "           0.4980, 0.2431, 0.2118, 0.0000, 0.0000, 0.0000, 0.0039, 0.0118,\n",
              "           0.0157, 0.0000, 0.0000, 0.0118],\n",
              "          [0.0000, 0.0000, 0.0000, 0.0000, 0.0000, 0.0000, 0.0000, 0.0000,\n",
              "           0.0000, 0.0000, 0.0000, 0.0000, 0.0235, 0.0000, 0.4000, 0.8000,\n",
              "           0.6902, 0.5255, 0.5647, 0.4824, 0.0902, 0.0000, 0.0000, 0.0000,\n",
              "           0.0000, 0.0471, 0.0392, 0.0000],\n",
              "          [0.0000, 0.0000, 0.0000, 0.0000, 0.0000, 0.0000, 0.0000, 0.0000,\n",
              "           0.0000, 0.0000, 0.0000, 0.0000, 0.0000, 0.0000, 0.6078, 0.9255,\n",
              "           0.8118, 0.6980, 0.4196, 0.6118, 0.6314, 0.4275, 0.2510, 0.0902,\n",
              "           0.3020, 0.5098, 0.2824, 0.0588],\n",
              "          [0.0000, 0.0000, 0.0000, 0.0000, 0.0000, 0.0000, 0.0000, 0.0000,\n",
              "           0.0000, 0.0000, 0.0000, 0.0039, 0.0000, 0.2706, 0.8118, 0.8745,\n",
              "           0.8549, 0.8471, 0.8471, 0.6392, 0.4980, 0.4745, 0.4784, 0.5725,\n",
              "           0.5529, 0.3451, 0.6745, 0.2588],\n",
              "          [0.0000, 0.0000, 0.0000, 0.0000, 0.0000, 0.0000, 0.0000, 0.0000,\n",
              "           0.0000, 0.0039, 0.0039, 0.0039, 0.0000, 0.7843, 0.9098, 0.9098,\n",
              "           0.9137, 0.8980, 0.8745, 0.8745, 0.8431, 0.8353, 0.6431, 0.4980,\n",
              "           0.4824, 0.7686, 0.8980, 0.0000],\n",
              "          [0.0000, 0.0000, 0.0000, 0.0000, 0.0000, 0.0000, 0.0000, 0.0000,\n",
              "           0.0000, 0.0000, 0.0000, 0.0000, 0.0000, 0.7176, 0.8824, 0.8471,\n",
              "           0.8745, 0.8941, 0.9216, 0.8902, 0.8784, 0.8706, 0.8784, 0.8667,\n",
              "           0.8745, 0.9608, 0.6784, 0.0000],\n",
              "          [0.0000, 0.0000, 0.0000, 0.0000, 0.0000, 0.0000, 0.0000, 0.0000,\n",
              "           0.0000, 0.0000, 0.0000, 0.0000, 0.0000, 0.7569, 0.8941, 0.8549,\n",
              "           0.8353, 0.7765, 0.7059, 0.8314, 0.8235, 0.8275, 0.8353, 0.8745,\n",
              "           0.8627, 0.9529, 0.7922, 0.0000],\n",
              "          [0.0000, 0.0000, 0.0000, 0.0000, 0.0000, 0.0000, 0.0000, 0.0000,\n",
              "           0.0000, 0.0039, 0.0118, 0.0000, 0.0471, 0.8588, 0.8627, 0.8314,\n",
              "           0.8549, 0.7529, 0.6627, 0.8902, 0.8157, 0.8549, 0.8784, 0.8314,\n",
              "           0.8863, 0.7725, 0.8196, 0.2039],\n",
              "          [0.0000, 0.0000, 0.0000, 0.0000, 0.0000, 0.0000, 0.0000, 0.0000,\n",
              "           0.0000, 0.0000, 0.0235, 0.0000, 0.3882, 0.9569, 0.8706, 0.8627,\n",
              "           0.8549, 0.7961, 0.7765, 0.8667, 0.8431, 0.8353, 0.8706, 0.8627,\n",
              "           0.9608, 0.4667, 0.6549, 0.2196],\n",
              "          [0.0000, 0.0000, 0.0000, 0.0000, 0.0000, 0.0000, 0.0000, 0.0000,\n",
              "           0.0000, 0.0157, 0.0000, 0.0000, 0.2157, 0.9255, 0.8941, 0.9020,\n",
              "           0.8941, 0.9412, 0.9098, 0.8353, 0.8549, 0.8745, 0.9176, 0.8510,\n",
              "           0.8510, 0.8196, 0.3608, 0.0000],\n",
              "          [0.0000, 0.0000, 0.0039, 0.0157, 0.0235, 0.0275, 0.0078, 0.0000,\n",
              "           0.0000, 0.0000, 0.0000, 0.0000, 0.9294, 0.8863, 0.8510, 0.8745,\n",
              "           0.8706, 0.8588, 0.8706, 0.8667, 0.8471, 0.8745, 0.8980, 0.8431,\n",
              "           0.8549, 1.0000, 0.3020, 0.0000],\n",
              "          [0.0000, 0.0118, 0.0000, 0.0000, 0.0000, 0.0000, 0.0000, 0.0000,\n",
              "           0.0000, 0.2431, 0.5686, 0.8000, 0.8941, 0.8118, 0.8353, 0.8667,\n",
              "           0.8549, 0.8157, 0.8275, 0.8549, 0.8784, 0.8745, 0.8588, 0.8431,\n",
              "           0.8784, 0.9569, 0.6235, 0.0000],\n",
              "          [0.0000, 0.0000, 0.0000, 0.0000, 0.0706, 0.1725, 0.3216, 0.4196,\n",
              "           0.7412, 0.8941, 0.8627, 0.8706, 0.8510, 0.8863, 0.7843, 0.8039,\n",
              "           0.8275, 0.9020, 0.8784, 0.9176, 0.6902, 0.7373, 0.9804, 0.9725,\n",
              "           0.9137, 0.9333, 0.8431, 0.0000],\n",
              "          [0.0000, 0.2235, 0.7333, 0.8157, 0.8784, 0.8667, 0.8784, 0.8157,\n",
              "           0.8000, 0.8392, 0.8157, 0.8196, 0.7843, 0.6235, 0.9608, 0.7569,\n",
              "           0.8078, 0.8745, 1.0000, 1.0000, 0.8667, 0.9176, 0.8667, 0.8275,\n",
              "           0.8627, 0.9098, 0.9647, 0.0000],\n",
              "          [0.0118, 0.7922, 0.8941, 0.8784, 0.8667, 0.8275, 0.8275, 0.8392,\n",
              "           0.8039, 0.8039, 0.8039, 0.8627, 0.9412, 0.3137, 0.5882, 1.0000,\n",
              "           0.8980, 0.8667, 0.7373, 0.6039, 0.7490, 0.8235, 0.8000, 0.8196,\n",
              "           0.8706, 0.8941, 0.8824, 0.0000],\n",
              "          [0.3843, 0.9137, 0.7765, 0.8235, 0.8706, 0.8980, 0.8980, 0.9176,\n",
              "           0.9765, 0.8627, 0.7608, 0.8431, 0.8510, 0.9451, 0.2549, 0.2863,\n",
              "           0.4157, 0.4588, 0.6588, 0.8588, 0.8667, 0.8431, 0.8510, 0.8745,\n",
              "           0.8745, 0.8784, 0.8980, 0.1137],\n",
              "          [0.2941, 0.8000, 0.8314, 0.8000, 0.7569, 0.8039, 0.8275, 0.8824,\n",
              "           0.8471, 0.7255, 0.7725, 0.8078, 0.7765, 0.8353, 0.9412, 0.7647,\n",
              "           0.8902, 0.9608, 0.9373, 0.8745, 0.8549, 0.8314, 0.8196, 0.8706,\n",
              "           0.8627, 0.8667, 0.9020, 0.2627],\n",
              "          [0.1882, 0.7961, 0.7176, 0.7608, 0.8353, 0.7725, 0.7255, 0.7451,\n",
              "           0.7608, 0.7529, 0.7922, 0.8392, 0.8588, 0.8667, 0.8627, 0.9255,\n",
              "           0.8824, 0.8471, 0.7804, 0.8078, 0.7294, 0.7098, 0.6941, 0.6745,\n",
              "           0.7098, 0.8039, 0.8078, 0.4510],\n",
              "          [0.0000, 0.4784, 0.8588, 0.7569, 0.7020, 0.6706, 0.7176, 0.7686,\n",
              "           0.8000, 0.8235, 0.8353, 0.8118, 0.8275, 0.8235, 0.7843, 0.7686,\n",
              "           0.7608, 0.7490, 0.7647, 0.7490, 0.7765, 0.7529, 0.6902, 0.6118,\n",
              "           0.6549, 0.6941, 0.8235, 0.3608],\n",
              "          [0.0000, 0.0000, 0.2902, 0.7412, 0.8314, 0.7490, 0.6863, 0.6745,\n",
              "           0.6863, 0.7098, 0.7255, 0.7373, 0.7412, 0.7373, 0.7569, 0.7765,\n",
              "           0.8000, 0.8196, 0.8235, 0.8235, 0.8275, 0.7373, 0.7373, 0.7608,\n",
              "           0.7529, 0.8471, 0.6667, 0.0000],\n",
              "          [0.0078, 0.0000, 0.0000, 0.0000, 0.2588, 0.7843, 0.8706, 0.9294,\n",
              "           0.9373, 0.9490, 0.9647, 0.9529, 0.9569, 0.8667, 0.8627, 0.7569,\n",
              "           0.7490, 0.7020, 0.7137, 0.7137, 0.7098, 0.6902, 0.6510, 0.6588,\n",
              "           0.3882, 0.2275, 0.0000, 0.0000],\n",
              "          [0.0000, 0.0000, 0.0000, 0.0000, 0.0000, 0.0000, 0.0000, 0.1569,\n",
              "           0.2392, 0.1725, 0.2824, 0.1608, 0.1373, 0.0000, 0.0000, 0.0000,\n",
              "           0.0000, 0.0000, 0.0000, 0.0000, 0.0000, 0.0000, 0.0000, 0.0000,\n",
              "           0.0000, 0.0000, 0.0000, 0.0000],\n",
              "          [0.0000, 0.0000, 0.0000, 0.0000, 0.0000, 0.0000, 0.0000, 0.0000,\n",
              "           0.0000, 0.0000, 0.0000, 0.0000, 0.0000, 0.0000, 0.0000, 0.0000,\n",
              "           0.0000, 0.0000, 0.0000, 0.0000, 0.0000, 0.0000, 0.0000, 0.0000,\n",
              "           0.0000, 0.0000, 0.0000, 0.0000],\n",
              "          [0.0000, 0.0000, 0.0000, 0.0000, 0.0000, 0.0000, 0.0000, 0.0000,\n",
              "           0.0000, 0.0000, 0.0000, 0.0000, 0.0000, 0.0000, 0.0000, 0.0000,\n",
              "           0.0000, 0.0000, 0.0000, 0.0000, 0.0000, 0.0000, 0.0000, 0.0000,\n",
              "           0.0000, 0.0000, 0.0000, 0.0000]]]),\n",
              " 9)"
            ]
          },
          "metadata": {},
          "execution_count": 5
        }
      ]
    },
    {
      "cell_type": "code",
      "source": [
        "# labels name\n",
        "class_names=train_data.classes\n",
        "class_names"
      ],
      "metadata": {
        "id": "RTPpjyR_vcFW",
        "colab": {
          "base_uri": "https://localhost:8080/"
        },
        "outputId": "25d4b06d-9541-4385-85a4-aae6889d6aa4"
      },
      "execution_count": null,
      "outputs": [
        {
          "output_type": "execute_result",
          "data": {
            "text/plain": [
              "['T-shirt/top',\n",
              " 'Trouser',\n",
              " 'Pullover',\n",
              " 'Dress',\n",
              " 'Coat',\n",
              " 'Sandal',\n",
              " 'Shirt',\n",
              " 'Sneaker',\n",
              " 'Bag',\n",
              " 'Ankle boot']"
            ]
          },
          "metadata": {},
          "execution_count": 6
        }
      ]
    },
    {
      "cell_type": "code",
      "source": [
        "class_to_idx=train_data.class_to_idx\n",
        "class_to_idx\n"
      ],
      "metadata": {
        "id": "s74o5E-5vOaA",
        "colab": {
          "base_uri": "https://localhost:8080/"
        },
        "outputId": "1e489dc9-032b-4593-b171-062994cc7f01"
      },
      "execution_count": null,
      "outputs": [
        {
          "output_type": "execute_result",
          "data": {
            "text/plain": [
              "{'T-shirt/top': 0,\n",
              " 'Trouser': 1,\n",
              " 'Pullover': 2,\n",
              " 'Dress': 3,\n",
              " 'Coat': 4,\n",
              " 'Sandal': 5,\n",
              " 'Shirt': 6,\n",
              " 'Sneaker': 7,\n",
              " 'Bag': 8,\n",
              " 'Ankle boot': 9}"
            ]
          },
          "metadata": {},
          "execution_count": 7
        }
      ]
    },
    {
      "cell_type": "code",
      "source": [
        "# check the target data\n",
        "label=train_data.targets\n",
        "label[:10]"
      ],
      "metadata": {
        "id": "FnTBAfSsrtJW",
        "colab": {
          "base_uri": "https://localhost:8080/"
        },
        "outputId": "3caef4a3-ffd9-4e8d-891f-2f98c2a8594a"
      },
      "execution_count": null,
      "outputs": [
        {
          "output_type": "execute_result",
          "data": {
            "text/plain": [
              "tensor([9, 0, 0, 3, 0, 2, 7, 2, 5, 5])"
            ]
          },
          "metadata": {},
          "execution_count": 8
        }
      ]
    },
    {
      "cell_type": "markdown",
      "source": [
        "### 1.1 check input and output shapes of data"
      ],
      "metadata": {
        "id": "R43HYVijz7CX"
      }
    },
    {
      "cell_type": "code",
      "source": [
        "# shape\n",
        "print(f\"image shape: {image.shape} ->[color channel,height ,width ]\")\n",
        "print(f\"No of image labels : {label}\")"
      ],
      "metadata": {
        "id": "hJBYBD0pvWJt",
        "colab": {
          "base_uri": "https://localhost:8080/"
        },
        "outputId": "4081f206-138e-488b-b024-ab7c6d079f87"
      },
      "execution_count": null,
      "outputs": [
        {
          "output_type": "stream",
          "name": "stdout",
          "text": [
            "image shape: torch.Size([1, 28, 28]) ->[color channel,height ,width ]\n",
            "No of image labels : tensor([9, 0, 0,  ..., 3, 0, 5])\n"
          ]
        }
      ]
    },
    {
      "cell_type": "markdown",
      "source": [
        "As we can see the shape shows us that image has only one color channel  [1,28,28]  \n",
        "\n",
        "As grey scale images has only one color channel"
      ],
      "metadata": {
        "id": "XJNfr48oy4cX"
      }
    },
    {
      "cell_type": "markdown",
      "source": [
        "### 1.2 Visualizing our images"
      ],
      "metadata": {
        "id": "Pa72Qfkq05aX"
      }
    },
    {
      "cell_type": "code",
      "source": [
        " import matplotlib.pyplot as plt\n",
        " image,label=train_data[0]\n",
        " print(f\"image shape: {image.shape}\")\n",
        " plt.imshow(image.squeeze()); # .squeeze() to remove the extra dimension that is causing error [1,28,28] ->[28,28]\n",
        " plt.title(label) # label 9-> Ankle boot\n",
        " plt.axis(False);\n"
      ],
      "metadata": {
        "id": "wCkZKptOvWGX",
        "colab": {
          "base_uri": "https://localhost:8080/",
          "height": 445
        },
        "outputId": "77b6c14a-5474-4630-ef19-a0460de119f8"
      },
      "execution_count": null,
      "outputs": [
        {
          "output_type": "stream",
          "name": "stdout",
          "text": [
            "image shape: torch.Size([1, 28, 28])\n"
          ]
        },
        {
          "output_type": "display_data",
          "data": {
            "text/plain": [
              "<Figure size 640x480 with 1 Axes>"
            ],
            "image/png": "[encoded data removed]"
          },
          "metadata": {}
        }
      ]
    },
    {
      "cell_type": "code",
      "source": [
        "import matplotlib.pyplot as plt\n",
        "image,label=train_data[1]\n",
        "print(f\"image shape: {image.shape}\")\n",
        "image\n",
        "plt.imshow(image.squeeze()); # .squeeze() to remove the extra dimension that is causing error [1,28,28] ->[28,28]\n",
        "plt.title(class_names[label])\n",
        "plt.axis(False);\n"
      ],
      "metadata": {
        "id": "C65_cac-2WNV",
        "colab": {
          "base_uri": "https://localhost:8080/",
          "height": 445
        },
        "outputId": "293b54a3-b8e6-4fe0-c1da-bd6ae98a406c"
      },
      "execution_count": null,
      "outputs": [
        {
          "output_type": "stream",
          "name": "stdout",
          "text": [
            "image shape: torch.Size([1, 28, 28])\n"
          ]
        },
        {
          "output_type": "display_data",
          "data": {
            "text/plain": [
              "<Figure size 640x480 with 1 Axes>"
            ],
            "image/png": "[encoded data removed]"
          },
          "metadata": {}
        }
      ]
    },
    {
      "cell_type": "code",
      "source": [
        "# plot image 0 in grey scale\n",
        "image,label=train_data[0]\n",
        "print(f\"image shape : {image.shape}\")\n",
        "plt.imshow(image.squeeze(),cmap=\"grey\")\n",
        "plt.title(class_names[label])\n",
        "plt.axis(False);"
      ],
      "metadata": {
        "id": "Adu4RrN7vWEA",
        "colab": {
          "base_uri": "https://localhost:8080/",
          "height": 445
        },
        "outputId": "a771b5d5-66b4-478f-a76a-4dd43aa0fe5b"
      },
      "execution_count": null,
      "outputs": [
        {
          "output_type": "stream",
          "name": "stdout",
          "text": [
            "image shape : torch.Size([1, 28, 28])\n"
          ]
        },
        {
          "output_type": "display_data",
          "data": {
            "text/plain": [
              "<Figure size 640x480 with 1 Axes>"
            ],
            "image/png": "[encoded data removed]"
          },
          "metadata": {}
        }
      ]
    },
    {
      "cell_type": "code",
      "source": [
        "#plot more random image\n",
        "torch.manual_seed(42)\n",
        "fig=plt.figure(figsize=(9,9))\n",
        "rows,col=4,4\n",
        "for i in range (1,rows*col+1):\n",
        "  random_index=torch.randint(0,len(train_data) , size=[1]).item() # randint will generate a random number range from 0 to the lenght of train data thst is (60000) in the case\n",
        "  img,label=train_data[random_index]\n",
        "  fig.add_subplot(rows,col,i)\n",
        "  plt.imshow(img.squeeze(),cmap=\"grey\" )\n",
        "  plt.title(class_names[label])\n",
        "  plt.axis(False);\n",
        "\n",
        "\n"
      ],
      "metadata": {
        "id": "HuGrsmf5vWBi",
        "colab": {
          "base_uri": "https://localhost:8080/",
          "height": 663
        },
        "outputId": "54ee46b9-8b36-4f0b-fe19-386c971cbede"
      },
      "execution_count": null,
      "outputs": [
        {
          "output_type": "display_data",
          "data": {
            "text/plain": [
              "<Figure size 900x900 with 16 Axes>"
            ],
            "image/png": "[encoded data removed]"
          },
          "metadata": {}
        }
      ]
    },
    {
      "cell_type": "markdown",
      "source": [
        "Do you think these items of clothing (images ) coulde be modelled with pure linear lines?  or do we need non-linearity"
      ],
      "metadata": {
        "id": "ZYA7Jkev9gnf"
      }
    },
    {
      "cell_type": "code",
      "source": [
        "train_data"
      ],
      "metadata": {
        "id": "--5mBK1N-JDf",
        "colab": {
          "base_uri": "https://localhost:8080/"
        },
        "outputId": "c08abf20-2e1e-412f-f6c8-aa643737b55a"
      },
      "execution_count": null,
      "outputs": [
        {
          "output_type": "execute_result",
          "data": {
            "text/plain": [
              "Dataset FashionMNIST\n",
              "    Number of datapoints: 60000\n",
              "    Root location: data\n",
              "    Split: Train\n",
              "    StandardTransform\n",
              "Transform: ToTensor()"
            ]
          },
          "metadata": {},
          "execution_count": 14
        }
      ]
    },
    {
      "cell_type": "code",
      "source": [
        "test_data"
      ],
      "metadata": {
        "id": "KEya8xFb-NNH",
        "colab": {
          "base_uri": "https://localhost:8080/"
        },
        "outputId": "df4751bc-4e48-4331-ce21-655e40a39917"
      },
      "execution_count": null,
      "outputs": [
        {
          "output_type": "execute_result",
          "data": {
            "text/plain": [
              "Dataset FashionMNIST\n",
              "    Number of datapoints: 10000\n",
              "    Root location: data\n",
              "    Split: Test\n",
              "    StandardTransform\n",
              "Transform: ToTensor()"
            ]
          },
          "metadata": {},
          "execution_count": 15
        }
      ]
    },
    {
      "cell_type": "markdown",
      "source": [
        "## Prepare dataloader\n",
        "Right now our data is in th form of pytorch datasets\n",
        "\n",
        "\n",
        "We need to convert it from dataset (which is collection of all our data ) to dataloader\n",
        "\n",
        "Dataloader turns our data into python iterable\n",
        "\n",
        "More specifically  we need to turn out data into batches(or mini-batches)\n",
        "\n",
        "Why would we do this?\n",
        "1. it is more computationally efficient, as we break down our train_dataset(instead of passing all 60000 images at once /one hit ) to 32 images at a time(batch size of 32.\n",
        "2. It gives our neural network more chances to update gradient per epoch.  \n"
      ],
      "metadata": {
        "id": "4QXdGZtw98Az"
      }
    },
    {
      "cell_type": "code",
      "source": [
        "# turn dataset into dataloader\n",
        "from torch.utils.data import DataLoader\n",
        "BATCH_SIZE=32\n",
        "\n",
        "#tarin dataloader\n",
        "train_dataloader=DataLoader(dataset=train_data,\n",
        "    batch_size=BATCH_SIZE,\n",
        "    shuffle=True\n",
        ")\n",
        "#shuffle enable the model to learn/ explore the patterns instead of remembering the same order in which images are present\n",
        "#test dataloader\n",
        "test_dataloader=DataLoader(\n",
        "    dataset=test_data,\n",
        "    batch_size=BATCH_SIZE,\n",
        "    shuffle=False\n",
        ")\n"
      ],
      "metadata": {
        "id": "vVLZr8HV5UWf"
      },
      "execution_count": null,
      "outputs": []
    },
    {
      "cell_type": "code",
      "source": [
        "train_dataloader,test_dataloader"
      ],
      "metadata": {
        "id": "6Jc8m2IO9bPM",
        "colab": {
          "base_uri": "https://localhost:8080/"
        },
        "outputId": "5b84fe0f-67c4-4810-d46e-a736894ce54d"
      },
      "execution_count": null,
      "outputs": [
        {
          "output_type": "execute_result",
          "data": {
            "text/plain": [
              "(<torch.utils.data.dataloader.DataLoader at 0x7bcca8a26410>,\n",
              " <torch.utils.data.dataloader.DataLoader at 0x7bcca8b15790>)"
            ]
          },
          "metadata": {},
          "execution_count": 17
        }
      ]
    },
    {
      "cell_type": "code",
      "source": [
        "# let's check what we have created\n",
        "print(f\"length of train_dataloader: {len(train_dataloader)} , Batch size: {BATCH_SIZE}\")\n",
        "print(f\"lenght of test_dataloader: {len(test_dataloader)}, Batch size: {BATCH_SIZE}\")\n",
        "\n"
      ],
      "metadata": {
        "id": "IItT1VVb9az-",
        "colab": {
          "base_uri": "https://localhost:8080/"
        },
        "outputId": "3ddc8160-ed43-475a-b3a6-f8de2dd89d65"
      },
      "execution_count": null,
      "outputs": [
        {
          "output_type": "stream",
          "name": "stdout",
          "text": [
            "length of train_dataloader: 1875 , Batch size: 32\n",
            "lenght of test_dataloader: 313, Batch size: 32\n"
          ]
        }
      ]
    },
    {
      "cell_type": "code",
      "source": [],
      "metadata": {
        "id": "w37wy7oSJ3Xe"
      },
      "execution_count": null,
      "outputs": []
    },
    {
      "cell_type": "code",
      "source": [
        "# check out what is inside train_dataloader\n",
        "train_feature_batch,train_label_batch=next(iter(train_dataloader))\n",
        "\n",
        "print(f\"shape of train_feature_batch: {train_feature_batch.shape}\")\n",
        "print(f\"shape of train_label_batch: {train_label_batch.shape}\")"
      ],
      "metadata": {
        "id": "nssh40DT9awm",
        "colab": {
          "base_uri": "https://localhost:8080/"
        },
        "outputId": "6df1f5ea-c91b-4a2b-b204-ab60b44c56f2"
      },
      "execution_count": null,
      "outputs": [
        {
          "output_type": "stream",
          "name": "stdout",
          "text": [
            "shape of train_feature_batch: torch.Size([32, 1, 28, 28])\n",
            "shape of train_label_batch: torch.Size([32])\n"
          ]
        }
      ]
    },
    {
      "cell_type": "markdown",
      "source": [
        "torch.shape([32,1,28,28]) -> 32 is batch size, 1 is color channel , 28 is height , 28 is width"
      ],
      "metadata": {
        "id": "3tiaAu32I7jm"
      }
    },
    {
      "cell_type": "code",
      "source": [
        "# view a sample\n",
        "#torch.manual_seed(42)\n",
        "random_index=torch.randint(0,len(train_feature_batch), size=[1]).item()\n",
        "img,label=train_feature_batch[random_index], train_label_batch[random_index]\n",
        "plt.imshow(img.squeeze(),cmap=\"grey\")\n",
        "plt.title(class_names[label])\n",
        "plt.axis(False)\n",
        "\n",
        "print(f\"image shape: {img.shape}\")\n",
        "print(f\"label: {label} , label shape: {label.shape}\")\n",
        "\n"
      ],
      "metadata": {
        "id": "3bWe0kaBGtdm",
        "colab": {
          "base_uri": "https://localhost:8080/",
          "height": 463
        },
        "outputId": "371ac81b-163e-4c8c-9d42-5ac9da8f16a5"
      },
      "execution_count": null,
      "outputs": [
        {
          "output_type": "stream",
          "name": "stdout",
          "text": [
            "image shape: torch.Size([1, 28, 28])\n",
            "label: 8 , label shape: torch.Size([])\n"
          ]
        },
        {
          "output_type": "display_data",
          "data": {
            "text/plain": [
              "<Figure size 640x480 with 1 Axes>"
            ],
            "image/png": "[encoded data removed]"
          },
          "metadata": {}
        }
      ]
    },
    {
      "cell_type": "markdown",
      "source": [
        "## 3  Model 0  : Build a baseline model\n",
        "When we are starting a series of machine learning modelling experiments , it's best pratice to start with baseline model\n",
        "\n",
        "* A baseline model is a simple model and we will try and improve upon subsequent models/experiments\n",
        "\n",
        "* In other words start simply and add complexity when necessary"
      ],
      "metadata": {
        "id": "OqOJpSI2SWNH"
      }
    },
    {
      "cell_type": "markdown",
      "source": [
        "**CNN Flow with Flatten**\n",
        "1. **Input image** → (batch_size, channels, height, width)\n",
        "\n",
        "2. **Convolution + Pooling layers** → Extract spatial features\n",
        "(output is still 4D: batch, channels, height, width)\n",
        "\n",
        "3. **Flatten layer** → Converts (batch, channels, height, width) → (batch, features)\n",
        "✅ This is needed because fully connected (dense) layers expect a 2D input (batch_size, number_of_features).\n",
        "\n",
        "4. **Fully Connected Layers (Dense/Linear)** → Make predictions.\n",
        "\n",
        "5. **Output layer** → Final class scores / probabilities.\n",
        "\n"
      ],
      "metadata": {
        "id": "dKSuENXMVGmQ"
      }
    },
    {
      "cell_type": "code",
      "source": [
        "# create a flatten layer\n",
        "# nn.Flatten() take a multidimensional tensor and reshapes it into 1D vector\n",
        "flatten_model=nn.Flatten()\n",
        "\n",
        "#get a single sampple from train_feature_batch\n",
        "x=train_feature_batch[0]\n",
        "print(f\"Shape of image tensor before flattening: \\n {x.shape} ->[color_channels,height,wigth]\")\n",
        "\n",
        "x_flattened= flatten_model(x)\n",
        "print(f\"Shape on image tensor after flattening: \\n {x_flattened.shape} ->[color_channels,height*width]\")"
      ],
      "metadata": {
        "id": "6eHEtapXGvh2",
        "colab": {
          "base_uri": "https://localhost:8080/"
        },
        "outputId": "12f0253a-5c05-4245-9a0e-85e921d885c0"
      },
      "execution_count": null,
      "outputs": [
        {
          "output_type": "stream",
          "name": "stdout",
          "text": [
            "Shape of image tensor before flattening: \n",
            " torch.Size([1, 28, 28]) ->[color_channels,height,wigth]\n",
            "Shape on image tensor after flattening: \n",
            " torch.Size([1, 784]) ->[color_channels,height*width]\n"
          ]
        }
      ]
    },
    {
      "cell_type": "code",
      "source": [
        "from torch import nn\n",
        "class FashionMNISTModelV0(nn.Module):\n",
        "  def __init__(self, input_shape: int, hidden_units: int,output_shape:int):\n",
        "    super().__init__()\n",
        "    self.layer_stack= nn.Sequential(\n",
        "        nn.Flatten(),\n",
        "        nn.Linear(in_features=input_shape,\n",
        "                  out_features=hidden_units),\n",
        "        nn.Linear(in_features=hidden_units, # The input shape of the second linear layer should be the hidden_units\n",
        "                  out_features=output_shape)\n",
        "    )\n",
        "  def forward(self,x):\n",
        "    return self.layer_stack(x)"
      ],
      "metadata": {
        "id": "gvH2tvzMU7d-"
      },
      "execution_count": null,
      "outputs": []
    },
    {
      "cell_type": "code",
      "source": [
        "# setup instance of our model\n",
        "torch.manual_seed(42)\n",
        "model_0=FashionMNISTModelV0(input_shape=784,\n",
        "                            hidden_units=10,\n",
        "                            output_shape=len(class_names)).to('cpu')\n",
        "model_0"
      ],
      "metadata": {
        "id": "EH_H6_UAU7aj",
        "colab": {
          "base_uri": "https://localhost:8080/"
        },
        "outputId": "c62f536c-ecb0-4512-b78c-e17c51e87c28"
      },
      "execution_count": null,
      "outputs": [
        {
          "output_type": "execute_result",
          "data": {
            "text/plain": [
              "FashionMNISTModelV0(\n",
              "  (layer_stack): Sequential(\n",
              "    (0): Flatten(start_dim=1, end_dim=-1)\n",
              "    (1): Linear(in_features=784, out_features=10, bias=True)\n",
              "    (2): Linear(in_features=10, out_features=10, bias=True)\n",
              "  )\n",
              ")"
            ]
          },
          "metadata": {},
          "execution_count": 23
        }
      ]
    },
    {
      "cell_type": "code",
      "source": [
        "dummy_x=torch.rand([1,1,28,28])\n",
        "model_0(dummy_x)"
      ],
      "metadata": {
        "id": "T7vgGmc8clxQ",
        "colab": {
          "base_uri": "https://localhost:8080/"
        },
        "outputId": "4a3918f7-a1d3-4e60-886d-16b9b4da28ca"
      },
      "execution_count": null,
      "outputs": [
        {
          "output_type": "execute_result",
          "data": {
            "text/plain": [
              "tensor([[-0.0315,  0.3171,  0.0531, -0.2525,  0.5959,  0.2112,  0.3233,  0.2694,\n",
              "         -0.1004,  0.0157]], grad_fn=<AddmmBackward0>)"
            ]
          },
          "metadata": {},
          "execution_count": 24
        }
      ]
    },
    {
      "cell_type": "markdown",
      "source": [
        "### 3.1 setup loss ,optimizer , evaluation metrics\n",
        "\n",
        "In case of multi  class data\n",
        "\n",
        "* loss function= `nn.CressEntropyLoss()`\n",
        "* optimizer=`torch.optim.SGD`\n",
        "* evaluation metric=`Accuracy`"
      ],
      "metadata": {
        "id": "O1JY2HlYeeBQ"
      }
    },
    {
      "cell_type": "code",
      "source": [
        "import requests\n",
        "from pathlib import Path\n",
        "\n",
        "# download helper function from learn pytorch repo\n",
        "if Path(\"helper_functions.py\").is_file():\n",
        "  print(\"helper_functios.py already exists\")\n",
        "else:\n",
        "  print(\"downloading helper_function.py file\")\n",
        "  request=requests.get(\"https://raw.githubusercontent.com/mrdbourke/pytorch-deep-learning/refs/heads/main/helper_functions.py\")\n",
        "  with open(\"helper_functions.py\",\"wb\") as f:\n",
        "    f.write(request.content)\n",
        "\n",
        "\n",
        "\n",
        "\n"
      ],
      "metadata": {
        "id": "FuiK_2qcc_SD",
        "colab": {
          "base_uri": "https://localhost:8080/"
        },
        "outputId": "923b341b-8680-423f-cdd8-a55d48d959fa"
      },
      "execution_count": null,
      "outputs": [
        {
          "output_type": "stream",
          "name": "stdout",
          "text": [
            "downloading helper_function.py file\n"
          ]
        }
      ]
    },
    {
      "cell_type": "code",
      "source": [
        "## import accuracy metric from helper_functions\n",
        "from helper_functions import accuracy_fn\n",
        "\n",
        "# setuo loss function and optmizer\n",
        "loss_fn=nn.CrossEntropyLoss()\n",
        "optimizer=torch.optim.SGD(params=model_0.parameters(),\n",
        "                          lr=0.1)\n"
      ],
      "metadata": {
        "id": "TlJ5Jrj_g8IP"
      },
      "execution_count": null,
      "outputs": []
    },
    {
      "cell_type": "markdown",
      "source": [
        "### 3.2 Creating a function to time our experiments\n",
        "\n",
        "Thing usually used to track for evaluating model's performance\n",
        "1. Model's performance(loss and accuracy value)\n",
        "2. How fast it runs\n"
      ],
      "metadata": {
        "id": "iCFOQcOpjNzX"
      }
    },
    {
      "cell_type": "code",
      "source": [
        "from timeit import default_timer as timer\n",
        "def print_train_time(\n",
        "    start:float,\n",
        "    end:float,\n",
        "    device:torch.device=None):\n",
        "\n",
        "  \"\"\" Print difference between start and edn time \"\"\"\n",
        "  total_time=end-start\n",
        "  print(f\"Traint ime on : {device} total time: {total_time:3f} secnds\")\n",
        "  return total_time\n"
      ],
      "metadata": {
        "id": "D2t9almDiEba"
      },
      "execution_count": null,
      "outputs": []
    },
    {
      "cell_type": "code",
      "source": [
        "start_time=timer()\n",
        "\n",
        "#some code....\n",
        "\n",
        "end_time=timer()\n",
        "print_train_time(start=start_time,end=end_time , device=\"cpu\")\n"
      ],
      "metadata": {
        "id": "vtYgdCRkiIkp",
        "colab": {
          "base_uri": "https://localhost:8080/"
        },
        "outputId": "9146f47b-f820-4f0e-b264-5ae3e0e85184"
      },
      "execution_count": null,
      "outputs": [
        {
          "output_type": "stream",
          "name": "stdout",
          "text": [
            "Traint ime on : cpu total time: 0.000026 secnds\n"
          ]
        },
        {
          "output_type": "execute_result",
          "data": {
            "text/plain": [
              "2.620300000444331e-05"
            ]
          },
          "metadata": {},
          "execution_count": 28
        }
      ]
    },
    {
      "cell_type": "markdown",
      "source": [
        "### 3.3 Create a training loop and train the model on batches\n",
        "1. loop through epochs\n",
        "2. loop through training batches\n",
        "   * perform training steps\n",
        "   * calculate the train loss per epoch   \n",
        "3. loop through the testing loop\n",
        "   * perform testing steps\n",
        "   *calculate the test loss per batch\n",
        "4. print out what is happening\n",
        "5. time it all\n"
      ],
      "metadata": {
        "id": "OHvuN7MinPci"
      }
    },
    {
      "cell_type": "code",
      "source": [
        "#  import tqdm whicg creates a progress bar helps in tracking\n",
        "from tqdm.auto import tqdm # .auto recognize what computing environment we are using and give us progress bar that suits best to our problem\n",
        "\n",
        "# set manual seed and start timer\n",
        "torch.manual_seed(42)\n",
        "train_time_start_on_cpu=timer()\n",
        "\n",
        "# set no of epochs (less epoch for faster training time)\n",
        "epochs=3\n",
        "\n",
        "#create training and testing loop\n",
        "for epoch in range(epochs): #if you want a progress bar you can write tqdm(range(epoch)) in place of range(epoch)\n",
        "  print(f\"epoch: {epoch} \\n-----\")\n",
        "\n",
        "  #training\n",
        "  train_loss=0\n",
        "  #Add a loop to loop through training batches\n",
        "  for batch,(X,y) in enumerate(train_dataloader):\n",
        "    #train the model\n",
        "    model_0.train()\n",
        "\n",
        "    # do a forward pass\n",
        "    train_pred=model_0(X)\n",
        "\n",
        "    # calculate the loss\n",
        "    loss=loss_fn(train_pred,y)\n",
        "    train_loss += loss\n",
        "\n",
        "    #optimize zero grad\n",
        "    optimizer.zero_grad()\n",
        "\n",
        "    # back propagation\n",
        "    loss.backward()\n",
        "\n",
        "    # optimizer step\n",
        "    optimizer.step()\n",
        "\n",
        "    #print whats happening\n",
        "    if batch % 400 ==0:\n",
        "      print(f\"looked at : {batch * len(X)}/{len(train_dataloader.dataset)} samples.\")\n",
        "  #devide tarin loss by the length of train dataloader(train_loss average per batch)\n",
        "  train_loss /= len(train_dataloader)\n",
        "\n",
        "  ## testing loop\n",
        "  test_loss, test_acc =0,0\n",
        "  model_0.eval()\n",
        "  with torch.inference_mode():\n",
        "    for x_test,y_test in test_dataloader:\n",
        "\n",
        "      # forward pass\n",
        "      test_pred=model_0(x_test)\n",
        "\n",
        "      #calculate the loss\n",
        "      test_loss += loss_fn(test_pred,y_test)\n",
        "\n",
        "      # accuracy\n",
        "      test_acc +=accuracy_fn(y_test,test_pred.argmax(dim=1))\n",
        "\n",
        "   # calculate the test_loss aveage per batch\n",
        "    test_loss /= len(test_dataloader)\n",
        "\n",
        "   #accuracy average per batch\n",
        "    test_acc /= len(test_dataloader)\n",
        "\n",
        "#print what is happening\n",
        "  print(f\" \\n train loss: {train_loss:.4f} , test loss: {test_loss:.4f}, test_acc: {test_acc:.4f}\")\n",
        "\n",
        " #calculate training time\n",
        "train_time_end_on_cpu=timer()\n",
        "total_train_time_model_0=print_train_time(train_time_start_on_cpu,\n",
        "                                          train_time_end_on_cpu,\n",
        "                                          str(next(model_0.parameters()).device))\n",
        "\n",
        "\n",
        "\n",
        "\n",
        "\n"
      ],
      "metadata": {
        "colab": {
          "base_uri": "https://localhost:8080/"
        },
        "id": "Vrmb-C88m2st",
        "outputId": "783e2986-ac6b-4531-a471-9582bdfdb510"
      },
      "execution_count": null,
      "outputs": [
        {
          "output_type": "stream",
          "name": "stdout",
          "text": [
            "epoch: 0 \n",
            "-----\n",
            "looked at : 0/60000 samples.\n",
            "looked at : 12800/60000 samples.\n",
            "looked at : 25600/60000 samples.\n",
            "looked at : 38400/60000 samples.\n",
            "looked at : 51200/60000 samples.\n",
            " \n",
            " train loss: 0.5904 , test loss: 0.5095, test_acc: 82.0387\n",
            "epoch: 1 \n",
            "-----\n",
            "looked at : 0/60000 samples.\n",
            "looked at : 12800/60000 samples.\n",
            "looked at : 25600/60000 samples.\n",
            "looked at : 38400/60000 samples.\n",
            "looked at : 51200/60000 samples.\n",
            " \n",
            " train loss: 0.4763 , test loss: 0.4799, test_acc: 83.1969\n",
            "epoch: 2 \n",
            "-----\n",
            "looked at : 0/60000 samples.\n",
            "looked at : 12800/60000 samples.\n",
            "looked at : 25600/60000 samples.\n",
            "looked at : 38400/60000 samples.\n",
            "looked at : 51200/60000 samples.\n",
            " \n",
            " train loss: 0.4550 , test loss: 0.4766, test_acc: 83.4265\n",
            "Traint ime on : cpu total time: 32.320505 secnds\n"
          ]
        }
      ]
    },
    {
      "cell_type": "markdown",
      "source": [
        "## 4 Make prediction and do evaluation"
      ],
      "metadata": {
        "id": "kerinFbz5bDx"
      }
    },
    {
      "cell_type": "code",
      "source": [
        "torch.manual_seed(42)\n",
        "def eval_model(model: torch.nn.Module,\n",
        "               data_loader: torch.utils.data.DataLoader,\n",
        "               loss_fn: torch.nn.Module,\n",
        "               accuracy_fn,\n",
        "               ): # Added device parameter\n",
        "\n",
        "  \"\"\" Return dictionary containing the results of model predicting on data_loader\"\"\"\n",
        "  loss,acc=0,0\n",
        "  model.eval()\n",
        "  with torch.inference_mode():\n",
        "    for X,y in data_loader:\n",
        "\n",
        "      # Put data on target device\n",
        "      X, y = X.to(device), y.to(device)\n",
        "\n",
        "      #forward pass / make predictions\n",
        "      y_preds=model(X)\n",
        "\n",
        "      #calculate the loss\n",
        "      loss += loss_fn(y_preds,y)\n",
        "\n",
        "      #accuracy\n",
        "      acc += accuracy_fn(y,y_preds.argmax(dim=1))\n",
        "    # scale loss and acc to find the average loss/acc per batch\n",
        "    loss /= len(data_loader)\n",
        "    acc /= len(data_loader)\n",
        "  return  { \"model_name  \" : model.__class__.__name__, # only works if modek is created with class\n",
        "           \"model_loss\" : loss.item(),\n",
        "            \"model_acc\" : acc}"
      ],
      "metadata": {
        "id": "vaDziHoe1IC2"
      },
      "execution_count": null,
      "outputs": []
    },
    {
      "cell_type": "markdown",
      "source": [
        "#### setup device agnoistic code"
      ],
      "metadata": {
        "id": "hpV0PUsqOjIJ"
      }
    },
    {
      "cell_type": "code",
      "source": [
        "device=\"cuda\" if torch.cuda.is_available() else \"cpu\"\n",
        "device"
      ],
      "metadata": {
        "colab": {
          "base_uri": "https://localhost:8080/",
          "height": 35
        },
        "id": "OEQC50de9k46",
        "outputId": "bd589ffc-f45e-428c-9458-3ce72129ea9a"
      },
      "execution_count": null,
      "outputs": [
        {
          "output_type": "execute_result",
          "data": {
            "text/plain": [
              "'cuda'"
            ],
            "application/vnd.google.colaboratory.intrinsic+json": {
              "type": "string"
            }
          },
          "metadata": {},
          "execution_count": 31
        }
      ]
    },
    {
      "cell_type": "code",
      "source": [
        "! nvidia-smi"
      ],
      "metadata": {
        "colab": {
          "base_uri": "https://localhost:8080/"
        },
        "id": "3-ME1ns_ObBs",
        "outputId": "a29f645f-e7a6-464c-fdc0-07f42df0e27a"
      },
      "execution_count": null,
      "outputs": [
        {
          "output_type": "stream",
          "name": "stdout",
          "text": [
            "Sat Aug  9 11:07:32 2025       \n",
            "+-----------------------------------------------------------------------------------------+\n",
            "| NVIDIA-SMI 550.54.15              Driver Version: 550.54.15      CUDA Version: 12.4     |\n",
            "|-----------------------------------------+------------------------+----------------------+\n",
            "| GPU  Name                 Persistence-M | Bus-Id          Disp.A | Volatile Uncorr. ECC |\n",
            "| Fan  Temp   Perf          Pwr:Usage/Cap |           Memory-Usage | GPU-Util  Compute M. |\n",
            "|                                         |                        |               MIG M. |\n",
            "|=========================================+========================+======================|\n",
            "|   0  Tesla T4                       Off |   00000000:00:04.0 Off |                    0 |\n",
            "| N/A   47C    P8              9W /   70W |       2MiB /  15360MiB |      0%      Default |\n",
            "|                                         |                        |                  N/A |\n",
            "+-----------------------------------------+------------------------+----------------------+\n",
            "                                                                                         \n",
            "+-----------------------------------------------------------------------------------------+\n",
            "| Processes:                                                                              |\n",
            "|  GPU   GI   CI        PID   Type   Process name                              GPU Memory |\n",
            "|        ID   ID                                                               Usage      |\n",
            "|=========================================================================================|\n",
            "|  No running processes found                                                             |\n",
            "+-----------------------------------------------------------------------------------------+\n"
          ]
        }
      ]
    },
    {
      "cell_type": "markdown",
      "source": [
        "## 6 Model 1: Building a better model with non-linearity\n",
        "\n"
      ],
      "metadata": {
        "id": "FvohFnrSQ2Lb"
      }
    },
    {
      "cell_type": "code",
      "source": [
        "# creating model with non-linerity\n",
        "import torch # Ensure torch is imported\n",
        "class FashionMNISTModelV1(torch.nn.Module):\n",
        "  def __init__(self,\n",
        "               input_shape:  int,\n",
        "               hidden_units: int,\n",
        "               output_shape:int\n",
        "               ):\n",
        "    super(). __init__()\n",
        "    self.layer_stack=torch.nn.Sequential(\n",
        "        torch.nn.Flatten(),\n",
        "        torch.nn.Linear(in_features=input_shape, # Changed nn.Linear to torch.nn.Linear\n",
        "                  out_features=hidden_units),\n",
        "        torch.nn.ReLU(), # Changed nn.ReLU() to torch.nn.ReLU()\n",
        "        torch.nn.Linear(in_features=hidden_units, # Changed nn.Linear to torch.nn.Linear\n",
        "                 out_features=output_shape)\n",
        "    )\n",
        "\n",
        "  def forward(self,x:torch.Tensor):\n",
        "    return self.layer_stack(x)"
      ],
      "metadata": {
        "id": "Vkbg9Qm3Oayx"
      },
      "execution_count": null,
      "outputs": []
    },
    {
      "cell_type": "code",
      "source": [
        "#create an instanse of our model_1\n",
        "torch.manual_seed(42)\n",
        "model_1=FashionMNISTModelV1(input_shape=784,\n",
        "                            hidden_units=10,\n",
        "                            output_shape=len(class_names)).to(device)\n",
        "\n",
        "next(model_1.parameters()).device\n",
        "\n"
      ],
      "metadata": {
        "colab": {
          "base_uri": "https://localhost:8080/"
        },
        "id": "uctDnxfQRIl9",
        "outputId": "15b8deef-4c9d-4bce-8ce6-7286c8364d3b"
      },
      "execution_count": null,
      "outputs": [
        {
          "output_type": "execute_result",
          "data": {
            "text/plain": [
              "device(type='cuda', index=0)"
            ]
          },
          "metadata": {},
          "execution_count": 34
        }
      ]
    },
    {
      "cell_type": "markdown",
      "source": [
        "### 6.1 setup loss and optimizer"
      ],
      "metadata": {
        "id": "IymddtGYXBg2"
      }
    },
    {
      "cell_type": "code",
      "source": [
        "# setup of loss and optimizer\n",
        "from helper_functions import accuracy_fn\n",
        "loss_fn=nn.CrossEntropyLoss()\n",
        "optimizer=torch.optim.SGD(params=model_1.parameters(),\n",
        "                          lr=0.1)\n",
        "\n"
      ],
      "metadata": {
        "id": "PuP77vCeXBL7"
      },
      "execution_count": null,
      "outputs": []
    },
    {
      "cell_type": "markdown",
      "source": [
        "### 6.2 Training and testing loop\n",
        "make functions for(functionalizing) training loop and testing loop\n",
        "* for training loop -> train_step()\n",
        "* for testing loop -> test_step()"
      ],
      "metadata": {
        "id": "qe9XXydBX8we"
      }
    },
    {
      "cell_type": "code",
      "source": [
        "def train_step(model: torch.nn.Module,\n",
        "               data_loader : torch.utils.data.DataLoader,\n",
        "               loss_fn: torch.nn.Module,\n",
        "               optimizer: torch.optim.Optimizer,\n",
        "               accuracy_fn,\n",
        "               device: torch.device=device):\n",
        "  \"\"\" Performing tarining with model trying to learn on data_loader \"\"\"\n",
        "\n",
        "\n",
        "  train_loss ,train_acc=0,0\n",
        "\n",
        "  #put model in training mode\n",
        "  model.train()\n",
        "\n",
        "  # aloop to loop through data\n",
        "  for batch, (X,y) in enumerate(data_loader):\n",
        "\n",
        "    #put data on target device\n",
        "    X,y =X.to(device),y.to(device)\n",
        "\n",
        "\n",
        "\n",
        "    # forware pas\n",
        "    train_preds=model(X)\n",
        "\n",
        "    #loss calculation\n",
        "    loss=loss_fn(train_preds,y)\n",
        "    train_loss += loss\n",
        "\n",
        "    #accuracy calculation\n",
        "    acc=accuracy_fn(y,train_preds.argmax(dim=1))\n",
        "    train_acc  += acc\n",
        "\n",
        "    #set optimizer\n",
        "    optimizer.zero_grad()\n",
        "\n",
        "    #backpropagation\n",
        "    loss.backward()\n",
        "\n",
        "    #optimizer step\n",
        "    optimizer.step()\n",
        "\n",
        "  #divide tota train loss and accuracy to the length of data loader to ge average train loss and acc per batch\n",
        "  train_loss /= len(data_loader)\n",
        "  train_acc /= len(data_loader)\n",
        "\n",
        "  # print what is happening\n",
        "  print(f\" Train_loss: {train_loss:.5f} , Train_acc:  {train_acc:.5f}%\")\n",
        "\n"
      ],
      "metadata": {
        "id": "ZGyXDKJhRIiN"
      },
      "execution_count": null,
      "outputs": []
    },
    {
      "cell_type": "code",
      "source": [
        "def test_step(\n",
        "    model: torch.nn.Module,\n",
        "    data_loader: torch.utils.data.DataLoader,\n",
        "    loss_fn: torch.nn.Module,\n",
        "    accuracy_fn,\n",
        "    device: torch.device=device):\n",
        "\n",
        "  \"\"\" Performing a testing lood step on model going over data_loader\"\"\"\n",
        "  test_loss,test_acc=0,0\n",
        "  model.eval()\n",
        "\n",
        "  # turn on inference mode(inference_mode is an other wotd for predictions with in inferrence mode cotext ,anager  )\n",
        "  with torch.inference_mode():\n",
        "    for X,y in data_loader:\n",
        "\n",
        "      #set data to target device\n",
        "      X,y= X.to(device),y.to(device)\n",
        "\n",
        "      #forward pass(output raw logits)\n",
        "      test_preds=model(X)\n",
        "\n",
        "      #calculate loss and accuracy\n",
        "      test_loss += loss_fn(test_preds,y).item()\n",
        "      test_acc += accuracy_fn(y, test_preds.argmax(dim=1)) # convet logits ->prediction labels\n",
        "\n",
        "  # adjust metrics - moved outside the inference_mode block\n",
        "    test_loss =test_loss/len(data_loader)\n",
        "    test_acc = test_acc/len(data_loader)\n",
        "\n",
        "  #print  what is happened\n",
        "  print(f\"Test loss: { test_loss:.5f}, Test_accuracy: {test_acc:.5f}\")"
      ],
      "metadata": {
        "id": "g6GW4nR6RIfD"
      },
      "execution_count": null,
      "outputs": []
    },
    {
      "cell_type": "code",
      "source": [
        "# combining both function\n",
        "torch.manual_seed(42)\n",
        "#measure time\n",
        "from timeit import default_timer as timer\n",
        "train_time_start_on_gpu=timer()\n",
        "\n",
        "#set no of epoch\n",
        "epochs=3\n",
        "\n",
        "#create an optimization/training loop and evaluation/testing loop\n",
        "\n",
        "# if you want  progress bar o appear your tracking just replace range(epochs) with tqdm(range(epochs))\n",
        "for epoch in range(epochs):\n",
        "  print(f\"Epoch: {epoch}\\n------\")\n",
        "  train_step(model=model_1,\n",
        "             data_loader=train_dataloader,\n",
        "             loss_fn=loss_fn,\n",
        "             optimizer=optimizer,\n",
        "             accuracy_fn=accuracy_fn,\n",
        "             device=device)\n",
        "  test_step(\n",
        "      model_1,\n",
        "      test_dataloader,\n",
        "      loss_fn,\n",
        "      accuracy_fn,\n",
        "      device)\n",
        "\n",
        "train_time_end_on_gpu=timer()\n",
        "total_train_time_model_1=print_train_time(train_time_start_on_gpu,\n",
        "                                          train_time_end_on_gpu,\n",
        "                                          device)\n",
        "\n",
        "\n"
      ],
      "metadata": {
        "colab": {
          "base_uri": "https://localhost:8080/"
        },
        "id": "YTSMf5XIRIbE",
        "outputId": "3559430a-3fd2-4f55-d06f-12326336a92b"
      },
      "execution_count": null,
      "outputs": [
        {
          "output_type": "stream",
          "name": "stdout",
          "text": [
            "Epoch: 0\n",
            "------\n",
            " Train_loss: 0.64607 , Train_acc:  77.17000%\n",
            "Test loss: 0.53855, Test_accuracy: 80.76078\n",
            "Epoch: 1\n",
            "------\n",
            " Train_loss: 0.48094 , Train_acc:  82.94333%\n",
            "Test loss: 0.49390, Test_accuracy: 82.45807\n",
            "Epoch: 2\n",
            "------\n",
            " Train_loss: 0.44689 , Train_acc:  84.16333%\n",
            "Test loss: 0.45746, Test_accuracy: 83.98562\n",
            "Traint ime on : cuda total time: 35.646592 secnds\n"
          ]
        }
      ]
    },
    {
      "cell_type": "code",
      "source": [],
      "metadata": {
        "id": "OrAq9busBZoX"
      },
      "execution_count": null,
      "outputs": []
    },
    {
      "cell_type": "code",
      "source": [
        "total_train_time_model_0"
      ],
      "metadata": {
        "colab": {
          "base_uri": "https://localhost:8080/"
        },
        "id": "cf-YoMHwiMXE",
        "outputId": "e69fe915-90ad-4aa0-c7a9-0bc07a648293"
      },
      "execution_count": null,
      "outputs": [
        {
          "output_type": "execute_result",
          "data": {
            "text/plain": [
              "32.32050466000001"
            ]
          },
          "metadata": {},
          "execution_count": 39
        }
      ]
    },
    {
      "cell_type": "markdown",
      "source": [
        "Note : somtime depending on your data/hardware you might find out your model trains faster on CPU than GPU\n",
        "\n",
        "\n",
        "Why is this?\n",
        "\n",
        "1. It could be that the overhead for copying data/model to and from GPU outweights the computw benifits offered by GPU\n",
        "2. The hardware you are usinng has better CPU term compute capibility than GPU"
      ],
      "metadata": {
        "id": "l7qL5sm9qLwu"
      }
    },
    {
      "cell_type": "code",
      "source": [
        "torch.manual_seed(42)\n",
        "def eval_model(model: torch.nn.Module,\n",
        "               data_loader: torch.utils.data.DataLoader,\n",
        "               loss_fn: torch.nn.Module,\n",
        "               accuracy_fn,\n",
        "               device=device): # Added device parameter\n",
        "\n",
        "  \"\"\" Return dictionary containing the results of model predicting on data_loader\"\"\"\n",
        "  loss,acc=0,0\n",
        "  model.eval()\n",
        "  with torch.inference_mode():\n",
        "    for X,y in data_loader:\n",
        "\n",
        "      # Put data on target device\n",
        "      X, y = X.to(device), y.to(device)\n",
        "\n",
        "      #forward pass / make predictions\n",
        "      y_preds=model(X)\n",
        "\n",
        "      #calculate the loss\n",
        "      loss += loss_fn(y_preds,y)\n",
        "\n",
        "      #accuracy\n",
        "      acc += accuracy_fn(y,y_preds.argmax(dim=1))\n",
        "    # scale loss and acc to find the average loss/acc per batch\n",
        "    loss /= len(data_loader)\n",
        "    acc /= len(data_loader)\n",
        "  return  { \"model_name  \" : model.__class__.__name__, # only works if modek is created with class\n",
        "           \"model_loss\" : loss.item(),\n",
        "            \"model_acc\" : acc}"
      ],
      "metadata": {
        "id": "ZYWZ4puJs-e0"
      },
      "execution_count": null,
      "outputs": []
    },
    {
      "cell_type": "code",
      "source": [
        "# Get model_1 results dictionary\n",
        "model_1_results=eval_model(model_1,\n",
        "                           test_dataloader,\n",
        "                           loss_fn,\n",
        "                           accuracy_fn,\n",
        "                           device)\n",
        "model_1_results"
      ],
      "metadata": {
        "colab": {
          "base_uri": "https://localhost:8080/"
        },
        "id": "39XhWR4liMS-",
        "outputId": "6ff2e8ca-0825-4590-ece1-edae13ddbc4d"
      },
      "execution_count": null,
      "outputs": [
        {
          "output_type": "execute_result",
          "data": {
            "text/plain": [
              "{'model_name  ': 'FashionMNISTModelV1',\n",
              " 'model_loss': 0.45746350288391113,\n",
              " 'model_acc': 83.98562300319489}"
            ]
          },
          "metadata": {},
          "execution_count": 41
        }
      ]
    },
    {
      "cell_type": "code",
      "source": [
        "model_0_results=eval_model(\n",
        "    model_0,\n",
        "    test_dataloader,\n",
        "    loss_fn,\n",
        "    accuracy_fn,\n",
        "    device='cpu' # Specify device as 'cpu' for model_0\n",
        ")\n",
        "model_0_results"
      ],
      "metadata": {
        "colab": {
          "base_uri": "https://localhost:8080/"
        },
        "id": "G2hCfLm0qM09",
        "outputId": "9d7359c7-b42e-4aef-c57c-4072a11a4292"
      },
      "execution_count": null,
      "outputs": [
        {
          "output_type": "execute_result",
          "data": {
            "text/plain": [
              "{'model_name  ': 'FashionMNISTModelV0',\n",
              " 'model_loss': 0.47663894295692444,\n",
              " 'model_acc': 83.42651757188499}"
            ]
          },
          "metadata": {},
          "execution_count": 45
        }
      ]
    },
    {
      "cell_type": "markdown",
      "source": [
        "# Model 2: Building a Convolutional Neural Neural Network(CNN)\n",
        "\n",
        "CNNs are also known as Covnets\n",
        "CNNs are known for their capbilities to find patterns iin visual data  "
      ],
      "metadata": {
        "id": "_MJdF5sq93Ou"
      }
    },
    {
      "cell_type": "code",
      "source": [
        "# create convolutional neural network\n",
        "from torch import nn\n",
        "class FashionMNISTModelV2(nn.Module):\n",
        "  \"\"\"Model architecture that replicates the TingVGG. A model from CNN explainer website\"\"\"\n",
        "  def __init__(self , input_shape: int,\n",
        "               hidden_units: int ,output_shape:int):\n",
        "    super().__init__()\n",
        "\n",
        "    # these 2 convolutional blocks are fir features extractions\n",
        "    #create conv lblock which contain convolutional layers\n",
        "    self.conv_block1=nn.Sequential(\n",
        "        #create conv layer\n",
        "        nn.Conv2d(in_channels=input_shape,\n",
        "                  out_channels=hidden_units,\n",
        "                  kernel_size=3,\n",
        "        stride=1,\n",
        "        padding=1),\n",
        "        # a relu layer\n",
        "        nn.ReLU(),\n",
        "        # a convolutional layer\n",
        "        nn.Conv2d(in_channels=hidden_units,\n",
        "                  out_channels=hidden_units,\n",
        "                  kernel_size=3,\n",
        "                  stride=1,\n",
        "                  padding=1),\n",
        "        #relu layer\n",
        "        nn.ReLU(),\n",
        "        #max pool layer\n",
        "        nn.MaxPool2d(kernel_size=2)\n",
        "        )\n",
        "\n",
        "    # convolutional block 2\n",
        "    self.conv_block2=nn.Sequential(\n",
        "        nn.Conv2d(in_channels=hidden_units,\n",
        "                  out_channels=hidden_units,\n",
        "                  kernel_size=3,\n",
        "                  stride=1,\n",
        "                  padding=1\n",
        "                  ),\n",
        "        nn.ReLU(),\n",
        "        nn.Conv2d(in_channels=hidden_units,\n",
        "                  out_channels=hidden_units,\n",
        "                  kernel_size=3,\n",
        "                  stride=1,\n",
        "                  padding=1),\n",
        "        nn.ReLU(),\n",
        "        nn.MaxPool2d(kernel_size=2)\n",
        "\n",
        "\n",
        "    )\n",
        "    # classifier layer take those features (extracted by above convolutional blocks) into our targeeet classes\n",
        "    self.classifier=nn.Sequential(\n",
        "        nn.Flatten(),\n",
        "        nn.Linear(in_features=hidden_units*7*7,\n",
        "                  out_features=output_shape)\n",
        "    )\n",
        "  #over write forward function\n",
        "  def forward(self,x):\n",
        "    x=self.conv_block1(x)\n",
        "    #print(f\"output shape of conv block 1 : {x.shape}\")\n",
        "    x=self.conv_block2(x)\n",
        "    #print(f\" output shape of conv block 1:  { x.shape}\" )\n",
        "    x=self.classifier(x)\n",
        "    #print(f\"ooutput shape of classifier : {x.shape}\")\n",
        "    return x\n"
      ],
      "metadata": {
        "id": "qyRL6BydtWuf"
      },
      "execution_count": null,
      "outputs": []
    },
    {
      "cell_type": "code",
      "source": [
        "torch.manual_seed(42)\n",
        "model_2=FashionMNISTModelV2(input_shape=1,\n",
        "                            hidden_units=10,\n",
        "                            output_shape=len(class_names)).to(device)\n",
        "model_2"
      ],
      "metadata": {
        "colab": {
          "base_uri": "https://localhost:8080/"
        },
        "id": "clwAHdYk9360",
        "outputId": "cf50a096-c6a9-4bd4-ddc3-373672165458"
      },
      "execution_count": null,
      "outputs": [
        {
          "output_type": "execute_result",
          "data": {
            "text/plain": [
              "FashionMNISTModelV2(\n",
              "  (conv_block1): Sequential(\n",
              "    (0): Conv2d(1, 10, kernel_size=(3, 3), stride=(1, 1), padding=(1, 1))\n",
              "    (1): ReLU()\n",
              "    (2): Conv2d(10, 10, kernel_size=(3, 3), stride=(1, 1), padding=(1, 1))\n",
              "    (3): ReLU()\n",
              "    (4): MaxPool2d(kernel_size=2, stride=2, padding=0, dilation=1, ceil_mode=False)\n",
              "  )\n",
              "  (conv_block2): Sequential(\n",
              "    (0): Conv2d(10, 10, kernel_size=(3, 3), stride=(1, 1), padding=(1, 1))\n",
              "    (1): ReLU()\n",
              "    (2): Conv2d(10, 10, kernel_size=(3, 3), stride=(1, 1), padding=(1, 1))\n",
              "    (3): ReLU()\n",
              "    (4): MaxPool2d(kernel_size=2, stride=2, padding=0, dilation=1, ceil_mode=False)\n",
              "  )\n",
              "  (classifier): Sequential(\n",
              "    (0): Flatten(start_dim=1, end_dim=-1)\n",
              "    (1): Linear(in_features=490, out_features=10, bias=True)\n",
              "  )\n",
              ")"
            ]
          },
          "metadata": {},
          "execution_count": 47
        }
      ]
    },
    {
      "cell_type": "code",
      "source": [
        "image.shape"
      ],
      "metadata": {
        "colab": {
          "base_uri": "https://localhost:8080/"
        },
        "id": "KNWvVQKLWp1e",
        "outputId": "657ca211-3e63-40fa-c632-702887d6ae1e"
      },
      "execution_count": null,
      "outputs": [
        {
          "output_type": "execute_result",
          "data": {
            "text/plain": [
              "torch.Size([1, 28, 28])"
            ]
          },
          "metadata": {},
          "execution_count": 48
        }
      ]
    },
    {
      "cell_type": "code",
      "source": [
        "plt.imshow(image.squeeze(),cmap=\"grey\")\n",
        "plt.axis(False)\n"
      ],
      "metadata": {
        "colab": {
          "base_uri": "https://localhost:8080/",
          "height": 423
        },
        "id": "pGqeoh0takG7",
        "outputId": "24bcc199-2571-4ae3-8845-c40fedb14d61"
      },
      "execution_count": null,
      "outputs": [
        {
          "output_type": "execute_result",
          "data": {
            "text/plain": [
              "(np.float64(-0.5), np.float64(27.5), np.float64(27.5), np.float64(-0.5))"
            ]
          },
          "metadata": {},
          "execution_count": 49
        },
        {
          "output_type": "display_data",
          "data": {
            "text/plain": [
              "<Figure size 640x480 with 1 Axes>"
            ],
            "image/png": "[encoded data removed]"
          },
          "metadata": {}
        }
      ]
    },
    {
      "cell_type": "code",
      "source": [
        "rand_image_tensor=torch.randn(size=(1,28,28))\n",
        "rand_image_tensor.shape"
      ],
      "metadata": {
        "colab": {
          "base_uri": "https://localhost:8080/"
        },
        "id": "FqRnYxnKr4js",
        "outputId": "4380f76d-8993-485a-9aa7-952b4f2bd15a"
      },
      "execution_count": null,
      "outputs": [
        {
          "output_type": "execute_result",
          "data": {
            "text/plain": [
              "torch.Size([1, 28, 28])"
            ]
          },
          "metadata": {},
          "execution_count": 50
        }
      ]
    },
    {
      "cell_type": "code",
      "source": [
        "# pass image through model\n",
        "model_2(rand_image_tensor.unsqueeze(0).to(device))"
      ],
      "metadata": {
        "colab": {
          "base_uri": "https://localhost:8080/"
        },
        "id": "Xg3GOmOgrW9m",
        "outputId": "61368ecf-51e5-45d4-a962-47cbbc33209a"
      },
      "execution_count": null,
      "outputs": [
        {
          "output_type": "execute_result",
          "data": {
            "text/plain": [
              "tensor([[ 0.0366, -0.0940,  0.0686, -0.0485,  0.0068,  0.0290,  0.0132,  0.0084,\n",
              "         -0.0030, -0.0185]], device='cuda:0', grad_fn=<AddmmBackward0>)"
            ]
          },
          "metadata": {},
          "execution_count": 51
        }
      ]
    },
    {
      "cell_type": "markdown",
      "source": [
        "## 7.1 stepping through nn.Conv2d"
      ],
      "metadata": {
        "id": "cC6p4qvAaGa8"
      }
    },
    {
      "cell_type": "code",
      "source": [
        "torch.manual_seed(42)\n",
        "# create batch of random images\n",
        "\n",
        "images=torch.rand(size=(32,3,64,64))\n",
        "test_image=images[0]\n",
        "\n",
        "\n",
        "print(f\"image batch shape : {images.shape}\")\n",
        "print(f\"shape of first single image: {test_image.shape}\")\n",
        "\n",
        "\n",
        "\n",
        "\n"
      ],
      "metadata": {
        "colab": {
          "base_uri": "https://localhost:8080/"
        },
        "id": "PS7GYD63Z1Rz",
        "outputId": "a50f0d18-169d-451d-bf54-459fa354c6f2"
      },
      "execution_count": null,
      "outputs": [
        {
          "output_type": "stream",
          "name": "stdout",
          "text": [
            "image batch shape : torch.Size([32, 3, 64, 64])\n",
            "shape of first single image: torch.Size([3, 64, 64])\n"
          ]
        }
      ]
    },
    {
      "cell_type": "code",
      "source": [
        "# as we created random images so these are random numbers\n",
        "test_image"
      ],
      "metadata": {
        "colab": {
          "base_uri": "https://localhost:8080/"
        },
        "id": "b_Rmk4QOZ1OU",
        "outputId": "6230b518-85c6-41a4-b18f-6ce472dbd3f8"
      },
      "execution_count": null,
      "outputs": [
        {
          "output_type": "execute_result",
          "data": {
            "text/plain": [
              "tensor([[[0.8823, 0.9150, 0.3829,  ..., 0.1587, 0.6542, 0.3278],\n",
              "         [0.6532, 0.3958, 0.9147,  ..., 0.2083, 0.3289, 0.1054],\n",
              "         [0.9192, 0.4008, 0.9302,  ..., 0.5535, 0.4117, 0.3510],\n",
              "         ...,\n",
              "         [0.1457, 0.1499, 0.3298,  ..., 0.9624, 0.6400, 0.7409],\n",
              "         [0.1709, 0.5797, 0.6340,  ..., 0.6885, 0.2405, 0.5956],\n",
              "         [0.9199, 0.1247, 0.3573,  ..., 0.6752, 0.2058, 0.5027]],\n",
              "\n",
              "        [[0.1458, 0.9024, 0.9217,  ..., 0.1868, 0.6352, 0.8431],\n",
              "         [0.9549, 0.4435, 0.6924,  ..., 0.1168, 0.7160, 0.5462],\n",
              "         [0.1616, 0.1054, 0.8614,  ..., 0.4531, 0.4736, 0.9448],\n",
              "         ...,\n",
              "         [0.4309, 0.3986, 0.1907,  ..., 0.9444, 0.2848, 0.3776],\n",
              "         [0.7948, 0.6855, 0.1009,  ..., 0.6147, 0.7747, 0.2323],\n",
              "         [0.5840, 0.9795, 0.3277,  ..., 0.3549, 0.1263, 0.1280]],\n",
              "\n",
              "        [[0.5027, 0.4195, 0.8893,  ..., 0.3084, 0.1567, 0.7860],\n",
              "         [0.7310, 0.9307, 0.2847,  ..., 0.8432, 0.8307, 0.0897],\n",
              "         [0.7021, 0.5967, 0.7744,  ..., 0.8485, 0.4520, 0.0401],\n",
              "         ...,\n",
              "         [0.5440, 0.0679, 0.6577,  ..., 0.9948, 0.2791, 0.4142],\n",
              "         [0.5095, 0.1246, 0.1726,  ..., 0.0984, 0.3224, 0.3125],\n",
              "         [0.3612, 0.8706, 0.4751,  ..., 0.5368, 0.2389, 0.2095]]])"
            ]
          },
          "metadata": {},
          "execution_count": 53
        }
      ]
    },
    {
      "cell_type": "code",
      "source": [
        "torch.manual_seed(42)\n",
        "# creatin a single conv2d layer\n",
        "conv_layer=nn.Conv2d(in_channels=3,\n",
        "                     out_channels=10,\n",
        "                     kernel_size=3,\n",
        "                     stride=1,\n",
        "                     padding=0 )\n",
        "conv_output=conv_layer(test_image)\n",
        "conv_output"
      ],
      "metadata": {
        "colab": {
          "base_uri": "https://localhost:8080/"
        },
        "id": "mrMYFiIcZ1Lj",
        "outputId": "a950b453-6c04-482b-b1a9-a49e0526ef52"
      },
      "execution_count": null,
      "outputs": [
        {
          "output_type": "execute_result",
          "data": {
            "text/plain": [
              "tensor([[[ 0.6552,  0.5381,  0.4456,  ...,  0.3679,  0.1734,  0.2343],\n",
              "         [ 0.4011,  0.2772,  0.4309,  ...,  0.0474,  0.3547,  0.4406],\n",
              "         [ 0.5072,  0.6963,  0.3967,  ...,  0.5034,  0.3260,  0.4359],\n",
              "         ...,\n",
              "         [ 0.3767,  0.4173,  0.7551,  ...,  0.5548,  0.5815,  0.2547],\n",
              "         [ 0.4143,  0.6770,  0.5922,  ...,  0.7285,  0.3320,  0.5752],\n",
              "         [ 0.1725,  0.3980,  0.5999,  ...,  0.4316,  0.5133,  0.3385]],\n",
              "\n",
              "        [[ 0.0954, -0.0688, -0.1089,  ...,  0.0185, -0.4996, -0.0184],\n",
              "         [-0.0188, -0.1703, -0.1344,  ..., -0.2991, -0.0339,  0.1632],\n",
              "         [-0.1585, -0.0837, -0.0159,  ...,  0.0026,  0.1540, -0.1372],\n",
              "         ...,\n",
              "         [-0.0297, -0.0980, -0.0731,  ...,  0.0623, -0.1080, -0.0946],\n",
              "         [-0.1508, -0.1934,  0.2011,  ...,  0.0415, -0.0989,  0.2556],\n",
              "         [ 0.0447,  0.1020, -0.1685,  ...,  0.0908, -0.0682, -0.2266]],\n",
              "\n",
              "        [[ 0.0098,  0.1790,  0.3092,  ...,  0.2502,  0.2292, -0.0542],\n",
              "         [-0.0979,  0.1598,  0.1165,  ..., -0.0632, -0.0894, -0.1161],\n",
              "         [ 0.1864,  0.0103, -0.1129,  ...,  0.0251, -0.0643,  0.4006],\n",
              "         ...,\n",
              "         [-0.0807,  0.1030,  0.4351,  ...,  0.3638,  0.1366, -0.1603],\n",
              "         [ 0.2525,  0.1212, -0.1924,  ...,  0.2210, -0.1214,  0.1854],\n",
              "         [ 0.3254, -0.0435,  0.2017,  ..., -0.0017, -0.0052,  0.2268]],\n",
              "\n",
              "        ...,\n",
              "\n",
              "        [[ 0.0362,  0.0476, -0.1848,  ..., -0.2408, -0.3703, -0.0239],\n",
              "         [-0.1156,  0.0944,  0.0524,  ...,  0.0045, -0.0353,  0.1086],\n",
              "         [ 0.0334,  0.0661,  0.0090,  ..., -0.0589, -0.0768, -0.2824],\n",
              "         ...,\n",
              "         [ 0.2019,  0.1171, -0.2335,  ..., -0.1396, -0.0969, -0.0272],\n",
              "         [-0.4013, -0.1606,  0.2163,  ..., -0.1831,  0.1286,  0.0138],\n",
              "         [ 0.0053, -0.0735, -0.0138,  ...,  0.1063,  0.1082, -0.0680]],\n",
              "\n",
              "        [[-0.3334, -0.1040,  0.0219,  ..., -0.1939,  0.0086, -0.0849],\n",
              "         [ 0.0273, -0.3096, -0.3881,  ..., -0.2059, -0.3263,  0.0102],\n",
              "         [-0.4962, -0.3968, -0.2514,  ..., -0.1515,  0.0413, -0.1117],\n",
              "         ...,\n",
              "         [ 0.1382, -0.1200, -0.1698,  ..., -0.0933, -0.1691, -0.1513],\n",
              "         [ 0.1183, -0.0803, -0.0128,  ..., -0.2415,  0.0223, -0.2417],\n",
              "         [-0.0600,  0.0952, -0.1811,  ..., -0.1684, -0.0988,  0.0081]],\n",
              "\n",
              "        [[-0.7857, -0.6417, -0.6119,  ..., -0.4085, -0.4697, -0.1297],\n",
              "         [-0.6958, -0.3177, -0.4231,  ..., -0.2809, -0.2371, -0.3321],\n",
              "         [-0.5951, -0.8184, -0.4145,  ..., -0.6230, -0.3168, -0.6625],\n",
              "         ...,\n",
              "         [-0.6804, -0.5668, -0.5877,  ..., -0.5611, -0.6098, -0.2906],\n",
              "         [-0.5555, -0.5699, -0.4150,  ..., -0.6261, -0.1364, -0.4748],\n",
              "         [-0.3805, -0.5609, -0.5952,  ..., -0.6586, -0.4902, -0.7421]]],\n",
              "       grad_fn=<SqueezeBackward1>)"
            ]
          },
          "metadata": {},
          "execution_count": 54
        }
      ]
    },
    {
      "cell_type": "code",
      "source": [
        "conv_output.shape,test_image.shape"
      ],
      "metadata": {
        "colab": {
          "base_uri": "https://localhost:8080/"
        },
        "id": "HBhJGrdtcP0E",
        "outputId": "aa2d730c-534a-4b49-f087-3cb6955ec574"
      },
      "execution_count": null,
      "outputs": [
        {
          "output_type": "execute_result",
          "data": {
            "text/plain": [
              "(torch.Size([10, 62, 62]), torch.Size([3, 64, 64]))"
            ]
          },
          "metadata": {},
          "execution_count": 55
        }
      ]
    },
    {
      "cell_type": "markdown",
      "source": [
        "## 7.2 Stepping through MaxPool2d()"
      ],
      "metadata": {
        "id": "BwvHba-Dhon8"
      }
    },
    {
      "cell_type": "code",
      "source": [
        "test_image.shape"
      ],
      "metadata": {
        "colab": {
          "base_uri": "https://localhost:8080/"
        },
        "id": "viWqSRXHcPxO",
        "outputId": "1783f28b-c112-4562-ce5f-3b88e3585b70"
      },
      "execution_count": null,
      "outputs": [
        {
          "output_type": "execute_result",
          "data": {
            "text/plain": [
              "torch.Size([3, 64, 64])"
            ]
          },
          "metadata": {},
          "execution_count": 56
        }
      ]
    },
    {
      "cell_type": "code",
      "source": [
        "# print out test image shape\n",
        "print(f\" Test image shape : {test_image.shape}\")\n",
        "\n",
        "# create sample nn.MaxPool2d layer\n",
        "max_pool_layer=nn.MaxPool2d(kernel_size=2)\n",
        "\n",
        "#pass daat through conv_layer\n",
        "test_image_through_conv_layer=conv_layer(test_image)\n",
        "print(f\"shape of image after passsing through conv_layer : {test_image_through_conv_layer.shape}\")\n",
        "\n",
        "# pass data through mox_pool layer\n",
        "test_image_through_max_pool_layer=max_pool_layer(test_image_through_conv_layer)\n",
        "\n",
        "print(f\"shape of image after passing through convlayer and  max_pool_layer : {test_image_through_max_pool_layer.shape}\")"
      ],
      "metadata": {
        "colab": {
          "base_uri": "https://localhost:8080/"
        },
        "id": "duxTWOBxcPud",
        "outputId": "8258e4c6-5c04-4743-eca6-521148050f94"
      },
      "execution_count": null,
      "outputs": [
        {
          "output_type": "stream",
          "name": "stdout",
          "text": [
            " Test image shape : torch.Size([3, 64, 64])\n",
            "shape of image after passsing through conv_layer : torch.Size([10, 62, 62])\n",
            "shape of image after passing through convlayer and  max_pool_layer : torch.Size([10, 31, 31])\n"
          ]
        }
      ]
    },
    {
      "cell_type": "code",
      "source": [
        "# close look to what maxpool do\n",
        "#and doing the same code as we have done above\n",
        "\n",
        "#create random tensor\n",
        "A=torch.randn(size=(1,2,2))\n",
        "\n",
        "# maxpool layer\n",
        "max_pool_layer=nn.MaxPool2d(kernel_size=2)\n",
        "\n",
        "A_through_max_pool_layer=max_pool_layer(A)\n",
        "print(f\"Tensor before passin through MaxPool layer: \\n {A} ]\\n Shape : {A.shape}\")\n",
        "print(f\"Tensor after passing through MaxPool layer: \\n {A_through_max_pool_layer} \\n Shape :{A_through_max_pool_layer.shape}\")\n",
        "\n"
      ],
      "metadata": {
        "colab": {
          "base_uri": "https://localhost:8080/"
        },
        "id": "wPDYII09ltFV",
        "outputId": "eea3667f-c605-433c-93f0-55592aad40b1"
      },
      "execution_count": null,
      "outputs": [
        {
          "output_type": "stream",
          "name": "stdout",
          "text": [
            "Tensor before passin through MaxPool layer: \n",
            " tensor([[[ 1.2135,  0.7924],\n",
            "         [-0.4401,  0.4996]]]) ]\n",
            " Shape : torch.Size([1, 2, 2])\n",
            "Tensor after passing through MaxPool layer: \n",
            " tensor([[[1.2135]]]) \n",
            " Shape :torch.Size([1, 1, 1])\n"
          ]
        }
      ]
    },
    {
      "cell_type": "markdown",
      "source": [
        "## 7.3 setup loss function , accuray metric and optimizer"
      ],
      "metadata": {
        "id": "xVcBdgpgvrMY"
      }
    },
    {
      "cell_type": "code",
      "source": [
        "from helper_functions import accuracy_fn\n",
        "\n",
        "# loss functionm\n",
        "loss_fn=nn.CrossEntropyLoss()\n",
        "optimizer=torch.optim.SGD(params=model_2.parameters(),\n",
        "                             lr=0.1)"
      ],
      "metadata": {
        "id": "die52gfGltCI"
      },
      "execution_count": null,
      "outputs": []
    },
    {
      "cell_type": "markdown",
      "source": [
        "## 7.4 Training and testing model_2 using `train_step()` and `test_step()` function"
      ],
      "metadata": {
        "id": "_0tRlS8ZwiS4"
      }
    },
    {
      "cell_type": "code",
      "source": [
        " # set random seed\n",
        "torch.manual_seed(42)\n",
        "torch.cuda.manual_seed(42)\n",
        "\n",
        "# time measurement\n",
        "from timeit import default_timer as timer\n",
        "#start train timer\n",
        "train_time_start_model_2=timer()\n",
        "\n",
        "#train and test model\n",
        "epochs=3\n",
        "for epoch in range(epochs):\n",
        "  print(f\"Epoch: {epoch}\\n----\")\n",
        "  train_step(\n",
        "      model_2,\n",
        "      train_dataloader,\n",
        "      loss_fn,\n",
        "      optimizer,\n",
        "      accuracy_fn,\n",
        "      device)\n",
        "  test_step(\n",
        "     model_2,\n",
        "     test_dataloader,\n",
        "      loss_fn,\n",
        "      accuracy_fn,\n",
        "      device)\n",
        "train_time_end_model_2=timer()\n",
        "total_train_time_model_2=print_train_time(train_time_start_model_2,\n",
        "                                            train_time_end_model_2,\n",
        "                                            device)\n",
        "\n",
        "\n",
        "\n",
        "\n",
        "\n",
        "\n"
      ],
      "metadata": {
        "colab": {
          "base_uri": "https://localhost:8080/"
        },
        "id": "6yx9in4ils_C",
        "outputId": "242ec9fa-fa96-41d0-a3ef-716ef3a9f4a1"
      },
      "execution_count": null,
      "outputs": [
        {
          "output_type": "stream",
          "name": "stdout",
          "text": [
            "Epoch: 0\n",
            "----\n",
            " Train_loss: 0.59308 , Train_acc:  78.48167%\n",
            "Test loss: 0.39371, Test_accuracy: 85.99241\n",
            "Epoch: 1\n",
            "----\n",
            " Train_loss: 0.36234 , Train_acc:  86.99167%\n",
            "Test loss: 0.35205, Test_accuracy: 86.89097\n",
            "Epoch: 2\n",
            "----\n",
            " Train_loss: 0.32419 , Train_acc:  88.32167%\n",
            "Test loss: 0.31500, Test_accuracy: 88.38858\n",
            "Traint ime on : cuda total time: 41.890703 secnds\n"
          ]
        }
      ]
    },
    {
      "cell_type": "markdown",
      "source": [
        "### Get model_2 results"
      ],
      "metadata": {
        "id": "6GUWi0uM7GS8"
      }
    },
    {
      "cell_type": "code",
      "source": [
        "model_2_results=eval_model(\n",
        "    model_2,\n",
        "    test_dataloader,\n",
        "    loss_fn,\n",
        "    accuracy_fn,\n",
        "    device\n",
        ")\n",
        "model_2_results"
      ],
      "metadata": {
        "colab": {
          "base_uri": "https://localhost:8080/"
        },
        "id": "TivRDDICls8C",
        "outputId": "458eb71b-f3f1-42b9-e64b-5a5d5f47cb45"
      },
      "execution_count": null,
      "outputs": [
        {
          "output_type": "execute_result",
          "data": {
            "text/plain": [
              "{'model_name  ': 'FashionMNISTModelV2',\n",
              " 'model_loss': 0.3149992525577545,\n",
              " 'model_acc': 88.38857827476038}"
            ]
          },
          "metadata": {},
          "execution_count": 62
        }
      ]
    },
    {
      "cell_type": "code",
      "source": [
        "model_0_results"
      ],
      "metadata": {
        "colab": {
          "base_uri": "https://localhost:8080/"
        },
        "id": "X0oGCxGcls48",
        "outputId": "c852c0c0-0075-4a8c-d465-7fe316ed7bdb"
      },
      "execution_count": null,
      "outputs": [
        {
          "output_type": "execute_result",
          "data": {
            "text/plain": [
              "{'model_name  ': 'FashionMNISTModelV0',\n",
              " 'model_loss': 0.47663894295692444,\n",
              " 'model_acc': 83.42651757188499}"
            ]
          },
          "metadata": {},
          "execution_count": 63
        }
      ]
    },
    {
      "cell_type": "markdown",
      "source": [
        "### 8 Comparing models results and training time\n"
      ],
      "metadata": {
        "id": "pO6PZi897qWF"
      }
    },
    {
      "cell_type": "code",
      "source": [
        "import pandas as pd\n",
        "compare_results=pd.DataFrame([model_0_results,\n",
        "                              model_1_results,\n",
        "                              model_2_results])\n",
        "compare_results"
      ],
      "metadata": {
        "colab": {
          "base_uri": "https://localhost:8080/",
          "height": 143
        },
        "id": "YsYJ952S7jf-",
        "outputId": "48c71dd9-3556-4b77-fd79-19338c7ca576"
      },
      "execution_count": null,
      "outputs": [
        {
          "output_type": "execute_result",
          "data": {
            "text/plain": [
              "          model_name    model_loss  model_acc\n",
              "0  FashionMNISTModelV0    0.476639  83.426518\n",
              "1  FashionMNISTModelV1    0.457464  83.985623\n",
              "2  FashionMNISTModelV2    0.314999  88.388578"
            ],
            "text/html": [
              "\n",
              "  <div id=\"df-054fbc26-defa-4c01-96a7-cfa135485a0a\" class=\"colab-df-container\">\n",
              "    <div>\n",
              "<style scoped>\n",
              "    .dataframe tbody tr th:only-of-type {\n",
              "        vertical-align: middle;\n",
              "    }\n",
              "\n",
              "    .dataframe tbody tr th {\n",
              "        vertical-align: top;\n",
              "    }\n",
              "\n",
              "    .dataframe thead th {\n",
              "        text-align: right;\n",
              "    }\n",
              "</style>\n",
              "<table border=\"1\" class=\"dataframe\">\n",
              "  <thead>\n",
              "    <tr style=\"text-align: right;\">\n",
              "      <th></th>\n",
              "      <th>model_name</th>\n",
              "      <th>model_loss</th>\n",
              "      <th>model_acc</th>\n",
              "    </tr>\n",
              "  </thead>\n",
              "  <tbody>\n",
              "    <tr>\n",
              "      <th>0</th>\n",
              "      <td>FashionMNISTModelV0</td>\n",
              "      <td>0.476639</td>\n",
              "      <td>83.426518</td>\n",
              "    </tr>\n",
              "    <tr>\n",
              "      <th>1</th>\n",
              "      <td>FashionMNISTModelV1</td>\n",
              "      <td>0.457464</td>\n",
              "      <td>83.985623</td>\n",
              "    </tr>\n",
              "    <tr>\n",
              "      <th>2</th>\n",
              "      <td>FashionMNISTModelV2</td>\n",
              "      <td>0.314999</td>\n",
              "      <td>88.388578</td>\n",
              "    </tr>\n",
              "  </tbody>\n",
              "</table>\n",
              "</div>\n",
              "    <div class=\"colab-df-buttons\">\n",
              "\n",
              "  <div class=\"colab-df-container\">\n",
              "    <button class=\"colab-df-convert\" onclick=\"convertToInteractive('df-054fbc26-defa-4c01-96a7-cfa135485a0a')\"\n",
              "            title=\"Convert this dataframe to an interactive table.\"\n",
              "            style=\"display:none;\">\n",
              "\n",
              "  <svg xmlns=\"http://www.w3.org/2000/svg\" height=\"24px\" viewBox=\"0 -960 960 960\">\n",
              "    <path d=\"M120-120v-720h720v720H120Zm60-500h600v-160H180v160Zm220 220h160v-160H400v160Zm0 220h160v-160H400v160ZM180-400h160v-160H180v160Zm440 0h160v-160H620v160ZM180-180h160v-160H180v160Zm440 0h160v-160H620v160Z\"/>\n",
              "  </svg>\n",
              "    </button>\n",
              "\n",
              "  <style>\n",
              "    .colab-df-container {\n",
              "      display:flex;\n",
              "      gap: 12px;\n",
              "    }\n",
              "\n",
              "    .colab-df-convert {\n",
              "      background-color: #E8F0FE;\n",
              "      border: none;\n",
              "      border-radius: 50%;\n",
              "      cursor: pointer;\n",
              "      display: none;\n",
              "      fill: #1967D2;\n",
              "      height: 32px;\n",
              "      padding: 0 0 0 0;\n",
              "      width: 32px;\n",
              "    }\n",
              "\n",
              "    .colab-df-convert:hover {\n",
              "      background-color: #E2EBFA;\n",
              "      box-shadow: 0px 1px 2px rgba(60, 64, 67, 0.3), 0px 1px 3px 1px rgba(60, 64, 67, 0.15);\n",
              "      fill: #174EA6;\n",
              "    }\n",
              "\n",
              "    .colab-df-buttons div {\n",
              "      margin-bottom: 4px;\n",
              "    }\n",
              "\n",
              "    [theme=dark] .colab-df-convert {\n",
              "      background-color: #3B4455;\n",
              "      fill: #D2E3FC;\n",
              "    }\n",
              "\n",
              "    [theme=dark] .colab-df-convert:hover {\n",
              "      background-color: #434B5C;\n",
              "      box-shadow: 0px 1px 3px 1px rgba(0, 0, 0, 0.15);\n",
              "      filter: drop-shadow(0px 1px 2px rgba(0, 0, 0, 0.3));\n",
              "      fill: #FFFFFF;\n",
              "    }\n",
              "  </style>\n",
              "\n",
              "    <script>\n",
              "      const buttonEl =\n",
              "        document.querySelector('#df-054fbc26-defa-4c01-96a7-cfa135485a0a button.colab-df-convert');\n",
              "      buttonEl.style.display =\n",
              "        google.colab.kernel.accessAllowed ? 'block' : 'none';\n",
              "\n",
              "      async function convertToInteractive(key) {\n",
              "        const element = document.querySelector('#df-054fbc26-defa-4c01-96a7-cfa135485a0a');\n",
              "        const dataTable =\n",
              "          await google.colab.kernel.invokeFunction('convertToInteractive',\n",
              "                                                    [key], {});\n",
              "        if (!dataTable) return;\n",
              "\n",
              "        const docLinkHtml = 'Like what you see? Visit the ' +\n",
              "          '<a target=\"_blank\" href=https://colab.research.google.com/notebooks/data_table.ipynb>data table notebook</a>'\n",
              "          + ' to learn more about interactive tables.';\n",
              "        element.innerHTML = '';\n",
              "        dataTable['output_type'] = 'display_data';\n",
              "        await google.colab.output.renderOutput(dataTable, element);\n",
              "        const docLink = document.createElement('div');\n",
              "        docLink.innerHTML = docLinkHtml;\n",
              "        element.appendChild(docLink);\n",
              "      }\n",
              "    </script>\n",
              "  </div>\n",
              "\n",
              "\n",
              "    <div id=\"df-f384b4f5-c73f-4e4b-9950-ffa059430aad\">\n",
              "      <button class=\"colab-df-quickchart\" onclick=\"quickchart('df-f384b4f5-c73f-4e4b-9950-ffa059430aad')\"\n",
              "                title=\"Suggest charts\"\n",
              "                style=\"display:none;\">\n",
              "\n",
              "<svg xmlns=\"http://www.w3.org/2000/svg\" height=\"24px\"viewBox=\"0 0 24 24\"\n",
              "     width=\"24px\">\n",
              "    <g>\n",
              "        <path d=\"M19 3H5c-1.1 0-2 .9-2 2v14c0 1.1.9 2 2 2h14c1.1 0 2-.9 2-2V5c0-1.1-.9-2-2-2zM9 17H7v-7h2v7zm4 0h-2V7h2v10zm4 0h-2v-4h2v4z\"/>\n",
              "    </g>\n",
              "</svg>\n",
              "      </button>\n",
              "\n",
              "<style>\n",
              "  .colab-df-quickchart {\n",
              "      --bg-color: #E8F0FE;\n",
              "      --fill-color: #1967D2;\n",
              "      --hover-bg-color: #E2EBFA;\n",
              "      --hover-fill-color: #174EA6;\n",
              "      --disabled-fill-color: #AAA;\n",
              "      --disabled-bg-color: #DDD;\n",
              "  }\n",
              "\n",
              "  [theme=dark] .colab-df-quickchart {\n",
              "      --bg-color: #3B4455;\n",
              "      --fill-color: #D2E3FC;\n",
              "      --hover-bg-color: #434B5C;\n",
              "      --hover-fill-color: #FFFFFF;\n",
              "      --disabled-bg-color: #3B4455;\n",
              "      --disabled-fill-color: #666;\n",
              "  }\n",
              "\n",
              "  .colab-df-quickchart {\n",
              "    background-color: var(--bg-color);\n",
              "    border: none;\n",
              "    border-radius: 50%;\n",
              "    cursor: pointer;\n",
              "    display: none;\n",
              "    fill: var(--fill-color);\n",
              "    height: 32px;\n",
              "    padding: 0;\n",
              "    width: 32px;\n",
              "  }\n",
              "\n",
              "  .colab-df-quickchart:hover {\n",
              "    background-color: var(--hover-bg-color);\n",
              "    box-shadow: 0 1px 2px rgba(60, 64, 67, 0.3), 0 1px 3px 1px rgba(60, 64, 67, 0.15);\n",
              "    fill: var(--button-hover-fill-color);\n",
              "  }\n",
              "\n",
              "  .colab-df-quickchart-complete:disabled,\n",
              "  .colab-df-quickchart-complete:disabled:hover {\n",
              "    background-color: var(--disabled-bg-color);\n",
              "    fill: var(--disabled-fill-color);\n",
              "    box-shadow: none;\n",
              "  }\n",
              "\n",
              "  .colab-df-spinner {\n",
              "    border: 2px solid var(--fill-color);\n",
              "    border-color: transparent;\n",
              "    border-bottom-color: var(--fill-color);\n",
              "    animation:\n",
              "      spin 1s steps(1) infinite;\n",
              "  }\n",
              "\n",
              "  @keyframes spin {\n",
              "    0% {\n",
              "      border-color: transparent;\n",
              "      border-bottom-color: var(--fill-color);\n",
              "      border-left-color: var(--fill-color);\n",
              "    }\n",
              "    20% {\n",
              "      border-color: transparent;\n",
              "      border-left-color: var(--fill-color);\n",
              "      border-top-color: var(--fill-color);\n",
              "    }\n",
              "    30% {\n",
              "      border-color: transparent;\n",
              "      border-left-color: var(--fill-color);\n",
              "      border-top-color: var(--fill-color);\n",
              "      border-right-color: var(--fill-color);\n",
              "    }\n",
              "    40% {\n",
              "      border-color: transparent;\n",
              "      border-right-color: var(--fill-color);\n",
              "      border-top-color: var(--fill-color);\n",
              "    }\n",
              "    60% {\n",
              "      border-color: transparent;\n",
              "      border-right-color: var(--fill-color);\n",
              "    }\n",
              "    80% {\n",
              "      border-color: transparent;\n",
              "      border-right-color: var(--fill-color);\n",
              "      border-bottom-color: var(--fill-color);\n",
              "    }\n",
              "    90% {\n",
              "      border-color: transparent;\n",
              "      border-bottom-color: var(--fill-color);\n",
              "    }\n",
              "  }\n",
              "</style>\n",
              "\n",
              "      <script>\n",
              "        async function quickchart(key) {\n",
              "          const quickchartButtonEl =\n",
              "            document.querySelector('#' + key + ' button');\n",
              "          quickchartButtonEl.disabled = true;  // To prevent multiple clicks.\n",
              "          quickchartButtonEl.classList.add('colab-df-spinner');\n",
              "          try {\n",
              "            const charts = await google.colab.kernel.invokeFunction(\n",
              "                'suggestCharts', [key], {});\n",
              "          } catch (error) {\n",
              "            console.error('Error during call to suggestCharts:', error);\n",
              "          }\n",
              "          quickchartButtonEl.classList.remove('colab-df-spinner');\n",
              "          quickchartButtonEl.classList.add('colab-df-quickchart-complete');\n",
              "        }\n",
              "        (() => {\n",
              "          let quickchartButtonEl =\n",
              "            document.querySelector('#df-f384b4f5-c73f-4e4b-9950-ffa059430aad button');\n",
              "          quickchartButtonEl.style.display =\n",
              "            google.colab.kernel.accessAllowed ? 'block' : 'none';\n",
              "        })();\n",
              "      </script>\n",
              "    </div>\n",
              "\n",
              "  <div id=\"id_295f93aa-3e68-4b77-9ac4-6ce2b9c25249\">\n",
              "    <style>\n",
              "      .colab-df-generate {\n",
              "        background-color: #E8F0FE;\n",
              "        border: none;\n",
              "        border-radius: 50%;\n",
              "        cursor: pointer;\n",
              "        display: none;\n",
              "        fill: #1967D2;\n",
              "        height: 32px;\n",
              "        padding: 0 0 0 0;\n",
              "        width: 32px;\n",
              "      }\n",
              "\n",
              "      .colab-df-generate:hover {\n",
              "        background-color: #E2EBFA;\n",
              "        box-shadow: 0px 1px 2px rgba(60, 64, 67, 0.3), 0px 1px 3px 1px rgba(60, 64, 67, 0.15);\n",
              "        fill: #174EA6;\n",
              "      }\n",
              "\n",
              "      [theme=dark] .colab-df-generate {\n",
              "        background-color: #3B4455;\n",
              "        fill: #D2E3FC;\n",
              "      }\n",
              "\n",
              "      [theme=dark] .colab-df-generate:hover {\n",
              "        background-color: #434B5C;\n",
              "        box-shadow: 0px 1px 3px 1px rgba(0, 0, 0, 0.15);\n",
              "        filter: drop-shadow(0px 1px 2px rgba(0, 0, 0, 0.3));\n",
              "        fill: #FFFFFF;\n",
              "      }\n",
              "    </style>\n",
              "    <button class=\"colab-df-generate\" onclick=\"generateWithVariable('compare_results')\"\n",
              "            title=\"Generate code using this dataframe.\"\n",
              "            style=\"display:none;\">\n",
              "\n",
              "  <svg xmlns=\"http://www.w3.org/2000/svg\" height=\"24px\"viewBox=\"0 0 24 24\"\n",
              "       width=\"24px\">\n",
              "    <path d=\"M7,19H8.4L18.45,9,17,7.55,7,17.6ZM5,21V16.75L18.45,3.32a2,2,0,0,1,2.83,0l1.4,1.43a1.91,1.91,0,0,1,.58,1.4,1.91,1.91,0,0,1-.58,1.4L9.25,21ZM18.45,9,17,7.55Zm-12,3A5.31,5.31,0,0,0,4.9,8.1,5.31,5.31,0,0,0,1,6.5,5.31,5.31,0,0,0,4.9,4.9,5.31,5.31,0,0,0,6.5,1,5.31,5.31,0,0,0,8.1,4.9,5.31,5.31,0,0,0,12,6.5,5.46,5.46,0,0,0,6.5,12Z\"/>\n",
              "  </svg>\n",
              "    </button>\n",
              "    <script>\n",
              "      (() => {\n",
              "      const buttonEl =\n",
              "        document.querySelector('#id_295f93aa-3e68-4b77-9ac4-6ce2b9c25249 button.colab-df-generate');\n",
              "      buttonEl.style.display =\n",
              "        google.colab.kernel.accessAllowed ? 'block' : 'none';\n",
              "\n",
              "      buttonEl.onclick = () => {\n",
              "        google.colab.notebook.generateWithVariable('compare_results');\n",
              "      }\n",
              "      })();\n",
              "    </script>\n",
              "  </div>\n",
              "\n",
              "    </div>\n",
              "  </div>\n"
            ],
            "application/vnd.google.colaboratory.intrinsic+json": {
              "type": "dataframe",
              "variable_name": "compare_results",
              "summary": "{\n  \"name\": \"compare_results\",\n  \"rows\": 3,\n  \"fields\": [\n    {\n      \"column\": \"model_name  \",\n      \"properties\": {\n        \"dtype\": \"string\",\n        \"num_unique_values\": 3,\n        \"samples\": [\n          \"FashionMNISTModelV0\",\n          \"FashionMNISTModelV1\",\n          \"FashionMNISTModelV2\"\n        ],\n        \"semantic_type\": \"\",\n        \"description\": \"\"\n      }\n    },\n    {\n      \"column\": \"model_loss\",\n      \"properties\": {\n        \"dtype\": \"number\",\n        \"std\": 0.08830925738121216,\n        \"min\": 0.3149992525577545,\n        \"max\": 0.47663894295692444,\n        \"num_unique_values\": 3,\n        \"samples\": [\n          0.47663894295692444,\n          0.45746350288391113,\n          0.3149992525577545\n        ],\n        \"semantic_type\": \"\",\n        \"description\": \"\"\n      }\n    },\n    {\n      \"column\": \"model_acc\",\n      \"properties\": {\n        \"dtype\": \"number\",\n        \"std\": 2.7178625310387687,\n        \"min\": 83.42651757188499,\n        \"max\": 88.38857827476038,\n        \"num_unique_values\": 3,\n        \"samples\": [\n          83.42651757188499,\n          83.98562300319489,\n          88.38857827476038\n        ],\n        \"semantic_type\": \"\",\n        \"description\": \"\"\n      }\n    }\n  ]\n}"
            }
          },
          "metadata": {},
          "execution_count": 64
        }
      ]
    },
    {
      "cell_type": "code",
      "source": [
        "#add training time to resulta comparision\n",
        "compare_results[\"training_time\"]=[total_train_time_model_0,\n",
        "                                  total_train_time_model_1,\n",
        "                                  total_train_time_model_2]\n",
        "\n",
        "compare_results"
      ],
      "metadata": {
        "colab": {
          "base_uri": "https://localhost:8080/",
          "height": 143
        },
        "id": "3jGF9c7n7lb0",
        "outputId": "bf038b74-4cf5-411d-ebf8-dbc7afb8f7ad"
      },
      "execution_count": null,
      "outputs": [
        {
          "output_type": "execute_result",
          "data": {
            "text/plain": [
              "          model_name    model_loss  model_acc  training_time\n",
              "0  FashionMNISTModelV0    0.476639  83.426518      32.320505\n",
              "1  FashionMNISTModelV1    0.457464  83.985623      35.646592\n",
              "2  FashionMNISTModelV2    0.314999  88.388578      41.890703"
            ],
            "text/html": [
              "\n",
              "  <div id=\"df-5b5984cc-f210-45d3-9909-1dc158a90870\" class=\"colab-df-container\">\n",
              "    <div>\n",
              "<style scoped>\n",
              "    .dataframe tbody tr th:only-of-type {\n",
              "        vertical-align: middle;\n",
              "    }\n",
              "\n",
              "    .dataframe tbody tr th {\n",
              "        vertical-align: top;\n",
              "    }\n",
              "\n",
              "    .dataframe thead th {\n",
              "        text-align: right;\n",
              "    }\n",
              "</style>\n",
              "<table border=\"1\" class=\"dataframe\">\n",
              "  <thead>\n",
              "    <tr style=\"text-align: right;\">\n",
              "      <th></th>\n",
              "      <th>model_name</th>\n",
              "      <th>model_loss</th>\n",
              "      <th>model_acc</th>\n",
              "      <th>training_time</th>\n",
              "    </tr>\n",
              "  </thead>\n",
              "  <tbody>\n",
              "    <tr>\n",
              "      <th>0</th>\n",
              "      <td>FashionMNISTModelV0</td>\n",
              "      <td>0.476639</td>\n",
              "      <td>83.426518</td>\n",
              "      <td>32.320505</td>\n",
              "    </tr>\n",
              "    <tr>\n",
              "      <th>1</th>\n",
              "      <td>FashionMNISTModelV1</td>\n",
              "      <td>0.457464</td>\n",
              "      <td>83.985623</td>\n",
              "      <td>35.646592</td>\n",
              "    </tr>\n",
              "    <tr>\n",
              "      <th>2</th>\n",
              "      <td>FashionMNISTModelV2</td>\n",
              "      <td>0.314999</td>\n",
              "      <td>88.388578</td>\n",
              "      <td>41.890703</td>\n",
              "    </tr>\n",
              "  </tbody>\n",
              "</table>\n",
              "</div>\n",
              "    <div class=\"colab-df-buttons\">\n",
              "\n",
              "  <div class=\"colab-df-container\">\n",
              "    <button class=\"colab-df-convert\" onclick=\"convertToInteractive('df-5b5984cc-f210-45d3-9909-1dc158a90870')\"\n",
              "            title=\"Convert this dataframe to an interactive table.\"\n",
              "            style=\"display:none;\">\n",
              "\n",
              "  <svg xmlns=\"http://www.w3.org/2000/svg\" height=\"24px\" viewBox=\"0 -960 960 960\">\n",
              "    <path d=\"M120-120v-720h720v720H120Zm60-500h600v-160H180v160Zm220 220h160v-160H400v160Zm0 220h160v-160H400v160ZM180-400h160v-160H180v160Zm440 0h160v-160H620v160ZM180-180h160v-160H180v160Zm440 0h160v-160H620v160Z\"/>\n",
              "  </svg>\n",
              "    </button>\n",
              "\n",
              "  <style>\n",
              "    .colab-df-container {\n",
              "      display:flex;\n",
              "      gap: 12px;\n",
              "    }\n",
              "\n",
              "    .colab-df-convert {\n",
              "      background-color: #E8F0FE;\n",
              "      border: none;\n",
              "      border-radius: 50%;\n",
              "      cursor: pointer;\n",
              "      display: none;\n",
              "      fill: #1967D2;\n",
              "      height: 32px;\n",
              "      padding: 0 0 0 0;\n",
              "      width: 32px;\n",
              "    }\n",
              "\n",
              "    .colab-df-convert:hover {\n",
              "      background-color: #E2EBFA;\n",
              "      box-shadow: 0px 1px 2px rgba(60, 64, 67, 0.3), 0px 1px 3px 1px rgba(60, 64, 67, 0.15);\n",
              "      fill: #174EA6;\n",
              "    }\n",
              "\n",
              "    .colab-df-buttons div {\n",
              "      margin-bottom: 4px;\n",
              "    }\n",
              "\n",
              "    [theme=dark] .colab-df-convert {\n",
              "      background-color: #3B4455;\n",
              "      fill: #D2E3FC;\n",
              "    }\n",
              "\n",
              "    [theme=dark] .colab-df-convert:hover {\n",
              "      background-color: #434B5C;\n",
              "      box-shadow: 0px 1px 3px 1px rgba(0, 0, 0, 0.15);\n",
              "      filter: drop-shadow(0px 1px 2px rgba(0, 0, 0, 0.3));\n",
              "      fill: #FFFFFF;\n",
              "    }\n",
              "  </style>\n",
              "\n",
              "    <script>\n",
              "      const buttonEl =\n",
              "        document.querySelector('#df-5b5984cc-f210-45d3-9909-1dc158a90870 button.colab-df-convert');\n",
              "      buttonEl.style.display =\n",
              "        google.colab.kernel.accessAllowed ? 'block' : 'none';\n",
              "\n",
              "      async function convertToInteractive(key) {\n",
              "        const element = document.querySelector('#df-5b5984cc-f210-45d3-9909-1dc158a90870');\n",
              "        const dataTable =\n",
              "          await google.colab.kernel.invokeFunction('convertToInteractive',\n",
              "                                                    [key], {});\n",
              "        if (!dataTable) return;\n",
              "\n",
              "        const docLinkHtml = 'Like what you see? Visit the ' +\n",
              "          '<a target=\"_blank\" href=https://colab.research.google.com/notebooks/data_table.ipynb>data table notebook</a>'\n",
              "          + ' to learn more about interactive tables.';\n",
              "        element.innerHTML = '';\n",
              "        dataTable['output_type'] = 'display_data';\n",
              "        await google.colab.output.renderOutput(dataTable, element);\n",
              "        const docLink = document.createElement('div');\n",
              "        docLink.innerHTML = docLinkHtml;\n",
              "        element.appendChild(docLink);\n",
              "      }\n",
              "    </script>\n",
              "  </div>\n",
              "\n",
              "\n",
              "    <div id=\"df-002a4b14-bbc9-41c2-92d1-17c32610bf10\">\n",
              "      <button class=\"colab-df-quickchart\" onclick=\"quickchart('df-002a4b14-bbc9-41c2-92d1-17c32610bf10')\"\n",
              "                title=\"Suggest charts\"\n",
              "                style=\"display:none;\">\n",
              "\n",
              "<svg xmlns=\"http://www.w3.org/2000/svg\" height=\"24px\"viewBox=\"0 0 24 24\"\n",
              "     width=\"24px\">\n",
              "    <g>\n",
              "        <path d=\"M19 3H5c-1.1 0-2 .9-2 2v14c0 1.1.9 2 2 2h14c1.1 0 2-.9 2-2V5c0-1.1-.9-2-2-2zM9 17H7v-7h2v7zm4 0h-2V7h2v10zm4 0h-2v-4h2v4z\"/>\n",
              "    </g>\n",
              "</svg>\n",
              "      </button>\n",
              "\n",
              "<style>\n",
              "  .colab-df-quickchart {\n",
              "      --bg-color: #E8F0FE;\n",
              "      --fill-color: #1967D2;\n",
              "      --hover-bg-color: #E2EBFA;\n",
              "      --hover-fill-color: #174EA6;\n",
              "      --disabled-fill-color: #AAA;\n",
              "      --disabled-bg-color: #DDD;\n",
              "  }\n",
              "\n",
              "  [theme=dark] .colab-df-quickchart {\n",
              "      --bg-color: #3B4455;\n",
              "      --fill-color: #D2E3FC;\n",
              "      --hover-bg-color: #434B5C;\n",
              "      --hover-fill-color: #FFFFFF;\n",
              "      --disabled-bg-color: #3B4455;\n",
              "      --disabled-fill-color: #666;\n",
              "  }\n",
              "\n",
              "  .colab-df-quickchart {\n",
              "    background-color: var(--bg-color);\n",
              "    border: none;\n",
              "    border-radius: 50%;\n",
              "    cursor: pointer;\n",
              "    display: none;\n",
              "    fill: var(--fill-color);\n",
              "    height: 32px;\n",
              "    padding: 0;\n",
              "    width: 32px;\n",
              "  }\n",
              "\n",
              "  .colab-df-quickchart:hover {\n",
              "    background-color: var(--hover-bg-color);\n",
              "    box-shadow: 0 1px 2px rgba(60, 64, 67, 0.3), 0 1px 3px 1px rgba(60, 64, 67, 0.15);\n",
              "    fill: var(--button-hover-fill-color);\n",
              "  }\n",
              "\n",
              "  .colab-df-quickchart-complete:disabled,\n",
              "  .colab-df-quickchart-complete:disabled:hover {\n",
              "    background-color: var(--disabled-bg-color);\n",
              "    fill: var(--disabled-fill-color);\n",
              "    box-shadow: none;\n",
              "  }\n",
              "\n",
              "  .colab-df-spinner {\n",
              "    border: 2px solid var(--fill-color);\n",
              "    border-color: transparent;\n",
              "    border-bottom-color: var(--fill-color);\n",
              "    animation:\n",
              "      spin 1s steps(1) infinite;\n",
              "  }\n",
              "\n",
              "  @keyframes spin {\n",
              "    0% {\n",
              "      border-color: transparent;\n",
              "      border-bottom-color: var(--fill-color);\n",
              "      border-left-color: var(--fill-color);\n",
              "    }\n",
              "    20% {\n",
              "      border-color: transparent;\n",
              "      border-left-color: var(--fill-color);\n",
              "      border-top-color: var(--fill-color);\n",
              "    }\n",
              "    30% {\n",
              "      border-color: transparent;\n",
              "      border-left-color: var(--fill-color);\n",
              "      border-top-color: var(--fill-color);\n",
              "      border-right-color: var(--fill-color);\n",
              "    }\n",
              "    40% {\n",
              "      border-color: transparent;\n",
              "      border-right-color: var(--fill-color);\n",
              "      border-top-color: var(--fill-color);\n",
              "    }\n",
              "    60% {\n",
              "      border-color: transparent;\n",
              "      border-right-color: var(--fill-color);\n",
              "    }\n",
              "    80% {\n",
              "      border-color: transparent;\n",
              "      border-right-color: var(--fill-color);\n",
              "      border-bottom-color: var(--fill-color);\n",
              "    }\n",
              "    90% {\n",
              "      border-color: transparent;\n",
              "      border-bottom-color: var(--fill-color);\n",
              "    }\n",
              "  }\n",
              "</style>\n",
              "\n",
              "      <script>\n",
              "        async function quickchart(key) {\n",
              "          const quickchartButtonEl =\n",
              "            document.querySelector('#' + key + ' button');\n",
              "          quickchartButtonEl.disabled = true;  // To prevent multiple clicks.\n",
              "          quickchartButtonEl.classList.add('colab-df-spinner');\n",
              "          try {\n",
              "            const charts = await google.colab.kernel.invokeFunction(\n",
              "                'suggestCharts', [key], {});\n",
              "          } catch (error) {\n",
              "            console.error('Error during call to suggestCharts:', error);\n",
              "          }\n",
              "          quickchartButtonEl.classList.remove('colab-df-spinner');\n",
              "          quickchartButtonEl.classList.add('colab-df-quickchart-complete');\n",
              "        }\n",
              "        (() => {\n",
              "          let quickchartButtonEl =\n",
              "            document.querySelector('#df-002a4b14-bbc9-41c2-92d1-17c32610bf10 button');\n",
              "          quickchartButtonEl.style.display =\n",
              "            google.colab.kernel.accessAllowed ? 'block' : 'none';\n",
              "        })();\n",
              "      </script>\n",
              "    </div>\n",
              "\n",
              "  <div id=\"id_f1c82677-288d-41b1-9fa1-063134422dc3\">\n",
              "    <style>\n",
              "      .colab-df-generate {\n",
              "        background-color: #E8F0FE;\n",
              "        border: none;\n",
              "        border-radius: 50%;\n",
              "        cursor: pointer;\n",
              "        display: none;\n",
              "        fill: #1967D2;\n",
              "        height: 32px;\n",
              "        padding: 0 0 0 0;\n",
              "        width: 32px;\n",
              "      }\n",
              "\n",
              "      .colab-df-generate:hover {\n",
              "        background-color: #E2EBFA;\n",
              "        box-shadow: 0px 1px 2px rgba(60, 64, 67, 0.3), 0px 1px 3px 1px rgba(60, 64, 67, 0.15);\n",
              "        fill: #174EA6;\n",
              "      }\n",
              "\n",
              "      [theme=dark] .colab-df-generate {\n",
              "        background-color: #3B4455;\n",
              "        fill: #D2E3FC;\n",
              "      }\n",
              "\n",
              "      [theme=dark] .colab-df-generate:hover {\n",
              "        background-color: #434B5C;\n",
              "        box-shadow: 0px 1px 3px 1px rgba(0, 0, 0, 0.15);\n",
              "        filter: drop-shadow(0px 1px 2px rgba(0, 0, 0, 0.3));\n",
              "        fill: #FFFFFF;\n",
              "      }\n",
              "    </style>\n",
              "    <button class=\"colab-df-generate\" onclick=\"generateWithVariable('compare_results')\"\n",
              "            title=\"Generate code using this dataframe.\"\n",
              "            style=\"display:none;\">\n",
              "\n",
              "  <svg xmlns=\"http://www.w3.org/2000/svg\" height=\"24px\"viewBox=\"0 0 24 24\"\n",
              "       width=\"24px\">\n",
              "    <path d=\"M7,19H8.4L18.45,9,17,7.55,7,17.6ZM5,21V16.75L18.45,3.32a2,2,0,0,1,2.83,0l1.4,1.43a1.91,1.91,0,0,1,.58,1.4,1.91,1.91,0,0,1-.58,1.4L9.25,21ZM18.45,9,17,7.55Zm-12,3A5.31,5.31,0,0,0,4.9,8.1,5.31,5.31,0,0,0,1,6.5,5.31,5.31,0,0,0,4.9,4.9,5.31,5.31,0,0,0,6.5,1,5.31,5.31,0,0,0,8.1,4.9,5.31,5.31,0,0,0,12,6.5,5.46,5.46,0,0,0,6.5,12Z\"/>\n",
              "  </svg>\n",
              "    </button>\n",
              "    <script>\n",
              "      (() => {\n",
              "      const buttonEl =\n",
              "        document.querySelector('#id_f1c82677-288d-41b1-9fa1-063134422dc3 button.colab-df-generate');\n",
              "      buttonEl.style.display =\n",
              "        google.colab.kernel.accessAllowed ? 'block' : 'none';\n",
              "\n",
              "      buttonEl.onclick = () => {\n",
              "        google.colab.notebook.generateWithVariable('compare_results');\n",
              "      }\n",
              "      })();\n",
              "    </script>\n",
              "  </div>\n",
              "\n",
              "    </div>\n",
              "  </div>\n"
            ],
            "application/vnd.google.colaboratory.intrinsic+json": {
              "type": "dataframe",
              "variable_name": "compare_results",
              "summary": "{\n  \"name\": \"compare_results\",\n  \"rows\": 3,\n  \"fields\": [\n    {\n      \"column\": \"model_name  \",\n      \"properties\": {\n        \"dtype\": \"string\",\n        \"num_unique_values\": 3,\n        \"samples\": [\n          \"FashionMNISTModelV0\",\n          \"FashionMNISTModelV1\",\n          \"FashionMNISTModelV2\"\n        ],\n        \"semantic_type\": \"\",\n        \"description\": \"\"\n      }\n    },\n    {\n      \"column\": \"model_loss\",\n      \"properties\": {\n        \"dtype\": \"number\",\n        \"std\": 0.08830925738121216,\n        \"min\": 0.3149992525577545,\n        \"max\": 0.47663894295692444,\n        \"num_unique_values\": 3,\n        \"samples\": [\n          0.47663894295692444,\n          0.45746350288391113,\n          0.3149992525577545\n        ],\n        \"semantic_type\": \"\",\n        \"description\": \"\"\n      }\n    },\n    {\n      \"column\": \"model_acc\",\n      \"properties\": {\n        \"dtype\": \"number\",\n        \"std\": 2.7178625310387687,\n        \"min\": 83.42651757188499,\n        \"max\": 88.38857827476038,\n        \"num_unique_values\": 3,\n        \"samples\": [\n          83.42651757188499,\n          83.98562300319489,\n          88.38857827476038\n        ],\n        \"semantic_type\": \"\",\n        \"description\": \"\"\n      }\n    },\n    {\n      \"column\": \"training_time\",\n      \"properties\": {\n        \"dtype\": \"number\",\n        \"std\": 4.8586772089446315,\n        \"min\": 32.32050466000001,\n        \"max\": 41.89070268200004,\n        \"num_unique_values\": 3,\n        \"samples\": [\n          32.32050466000001,\n          35.646592010000006,\n          41.89070268200004\n        ],\n        \"semantic_type\": \"\",\n        \"description\": \"\"\n      }\n    }\n  ]\n}"
            }
          },
          "metadata": {},
          "execution_count": 65
        }
      ]
    },
    {
      "cell_type": "markdown",
      "source": [
        "Train time for model_2(FashionMNISTModelV2) is a little more higher because it is traind on CPU"
      ],
      "metadata": {
        "id": "OdBZmsCJ9ZAj"
      }
    },
    {
      "cell_type": "code",
      "source": [
        "# visualize he results\n",
        "compare_results.set_index(\"model_name  \")[\"model_acc\"].plot(kind=\"barh\")\n",
        "plt.xlabel(\"Accuracy(%)\")\n",
        "plt.ylabel(\"Model Names\")\n",
        "plt.show()\n"
      ],
      "metadata": {
        "id": "5e0uDsLq7lWG"
      },
      "execution_count": null,
      "outputs": []
    },
    {
      "cell_type": "markdown",
      "source": [
        "## 9 Make and evaluate random predictions with best model"
      ],
      "metadata": {
        "id": "sEEo5cvJB1tb"
      }
    },
    {
      "cell_type": "code",
      "source": [
        "def make_predictions(model: torch.nn.Module,\n",
        "                     data: list,\n",
        "                     device : torch.device=device): # Corrected device parameter name\n",
        "\n",
        "  pred_probs_list=[] # Initialize as an empty list\n",
        "  model.to(device)\n",
        "  model.eval()\n",
        "  with torch.inference_mode():\n",
        "    for sample in data:\n",
        "      #prepare the sample (add batch dimension and put it on target device)\n",
        "      sample=torch.unsqueeze(sample,dim=0).to(device)\n",
        "\n",
        "      #forward pass( will output models war logits )\n",
        "      pred_logits=model(sample)\n",
        "\n",
        "      #get predictions probabilities( from logits to -> probabilities )\n",
        "      # in case of multi class classification problem we are using softmax activation function\n",
        "      pred_probs_tensor=torch.softmax(pred_logits.squeeze() ,dim=0) # Renamed to avoid conflict\n",
        "\n",
        "      #get preds_probs off the GPU for further calculations\n",
        "      pred_probs_list.append(pred_probs_tensor.cpu()) # Append the tensor to the list\n",
        "\n",
        "    #stack the pred_probs to turn list into tensor\n",
        "    return torch.stack(pred_probs_list) # Stack the list into a tensor"
      ],
      "metadata": {
        "id": "HalbJpHj-XkB"
      },
      "execution_count": null,
      "outputs": []
    },
    {
      "cell_type": "code",
      "source": [
        "# looking at our test data from FashionMNIST\n",
        "\n",
        "\n",
        "img,label=test_data[0][:5]\n",
        "img.shape,label"
      ],
      "metadata": {
        "colab": {
          "base_uri": "https://localhost:8080/"
        },
        "id": "7suwxBriAVAC",
        "outputId": "e979eb16-660f-45e1-c4a6-e4721b9df840"
      },
      "execution_count": null,
      "outputs": [
        {
          "output_type": "execute_result",
          "data": {
            "text/plain": [
              "(torch.Size([1, 28, 28]), 9)"
            ]
          },
          "metadata": {},
          "execution_count": 71
        }
      ]
    },
    {
      "cell_type": "code",
      "source": [
        "import random\n",
        "#random.seed(42)\n",
        "test_samples=[]\n",
        "test_labels=[]\n",
        "\n",
        "# we are just randomly sampling 9 samples . means we are picking 9 samples from test data ramdomly\n",
        "for sample,label in random.sample(list(test_data),k=9):\n",
        "  test_samples.append(sample) # 9 random samples from test data\n",
        "  test_labels.append(label) #9 random labels from test data\n",
        "\n",
        "#view our  first sample image\n",
        "test_samples[0].shape\n",
        "\n"
      ],
      "metadata": {
        "colab": {
          "base_uri": "https://localhost:8080/"
        },
        "id": "OTBIo8LhFTpb",
        "outputId": "0a7644b4-0f44-49e8-fd82-daf0c25be499"
      },
      "execution_count": null,
      "outputs": [
        {
          "output_type": "execute_result",
          "data": {
            "text/plain": [
              "torch.Size([1, 28, 28])"
            ]
          },
          "metadata": {},
          "execution_count": 67
        }
      ]
    },
    {
      "cell_type": "code",
      "source": [
        "plt.imshow(test_samples[0].squeeze(), cmap=\"grey\")\n",
        "plt.title(class_names[test_labels[0]])\n",
        "plt.axis(False)"
      ],
      "metadata": {
        "colab": {
          "base_uri": "https://localhost:8080/",
          "height": 445
        },
        "id": "5zCHnH2OG63N",
        "outputId": "93c3dedc-c156-424c-a1a8-64ad5cf533e6"
      },
      "execution_count": null,
      "outputs": [
        {
          "output_type": "execute_result",
          "data": {
            "text/plain": [
              "(np.float64(-0.5), np.float64(27.5), np.float64(27.5), np.float64(-0.5))"
            ]
          },
          "metadata": {},
          "execution_count": 68
        },
        {
          "output_type": "display_data",
          "data": {
            "text/plain": [
              "<Figure size 640x480 with 1 Axes>"
            ],
            "image/png": "[encoded data removed]"
          },
          "metadata": {}
        }
      ]
    },
    {
      "cell_type": "code",
      "source": [
        "# Make prediction\n",
        "pred_probs=make_predictions(model_2,\n",
        "                            test_samples,)\n",
        "\n",
        "# first 2 predictions probabilities\n",
        "pred_probs[:2]\n",
        "\n",
        "\n",
        "\n"
      ],
      "metadata": {
        "colab": {
          "base_uri": "https://localhost:8080/"
        },
        "id": "njQ3lf8rHQml",
        "outputId": "ad935b17-d852-4460-cbc3-9ec19505ef99"
      },
      "execution_count": null,
      "outputs": [
        {
          "output_type": "execute_result",
          "data": {
            "text/plain": [
              "tensor([[8.5549e-06, 9.9252e-07, 1.7656e-06, 4.7254e-06, 1.8686e-06, 2.9161e-04,\n",
              "         1.3219e-05, 1.4415e-03, 9.1312e-05, 9.9814e-01],\n",
              "        [6.0644e-04, 4.3502e-05, 8.9578e-04, 1.0685e-04, 2.9460e-05, 1.2429e-02,\n",
              "         2.2256e-04, 1.0461e-01, 4.5308e-03, 8.7653e-01]])"
            ]
          },
          "metadata": {},
          "execution_count": 72
        }
      ]
    },
    {
      "cell_type": "code",
      "source": [
        "# convert probabilities to labels\n",
        "pred_labels=torch.argmax(pred_probs,dim=1)\n",
        "pred_labels,test_labels"
      ],
      "metadata": {
        "colab": {
          "base_uri": "https://localhost:8080/"
        },
        "id": "_iW5tIbMIV0R",
        "outputId": "e7ee147a-f214-4ec6-f73c-b7041ceff6be"
      },
      "execution_count": null,
      "outputs": [
        {
          "output_type": "execute_result",
          "data": {
            "text/plain": [
              "(tensor([9, 9, 7, 1, 9, 6, 2, 0, 2]), [9, 9, 7, 1, 9, 6, 2, 0, 2])"
            ]
          },
          "metadata": {},
          "execution_count": 73
        }
      ]
    },
    {
      "cell_type": "markdown",
      "source": [
        "# Visualizations"
      ],
      "metadata": {
        "id": "xqtaMFCuJuyP"
      }
    },
    {
      "cell_type": "code",
      "source": [
        "import matplotlib.pyplot as plt\n",
        "plt.figure(figsize=(9,9))\n",
        "\n",
        "rows=3\n",
        "cols=3\n",
        "\n",
        "for i ,sample in enumerate(test_samples):\n",
        "  #create subplot\n",
        "  plt.subplot(rows,cols,i+1)\n",
        "\n",
        "\n",
        "  #plot the target image\n",
        "  plt.imshow(sample.squeeze(), cmap=\"grey\")\n",
        "\n",
        "  #find the prediction in text\n",
        "  pred_label=class_names[pred_labels[i]]\n",
        "\n",
        "  #get the truth label\n",
        "  truth_label=class_names[test_labels[i]]\n",
        "\n",
        "  # create title\n",
        "  title_test= f\"Pred: {pred_label} | Truth: {truth_label}\"\n",
        "\n",
        "  #check equality\n",
        "  if pred_label==truth_label:\n",
        "    plt.title(title_test,color=\"green\")\n",
        "  else:\n",
        "    plt.title(title_test,color=\"red\")\n",
        "\n",
        "  plt.axis(False);\n",
        "\n",
        "\n",
        "\n",
        "\n",
        "\n",
        "\n"
      ],
      "metadata": {
        "colab": {
          "base_uri": "https://localhost:8080/",
          "height": 605
        },
        "id": "LQ64Ri-DJo9C",
        "outputId": "50e610bb-030f-4f7b-82d9-eb92ddc08066"
      },
      "execution_count": null,
      "outputs": [
        {
          "output_type": "display_data",
          "data": {
            "text/plain": [
              "<Figure size 900x900 with 9 Axes>"
            ],
            "image/png": "[encoded data removed]"
          },
          "metadata": {}
        }
      ]
    },
    {
      "cell_type": "markdown",
      "source": [
        "# 10 Make  a confusion metric for further predictions evaluation\n",
        "\n",
        "\n",
        "A comfusion matrix is an amazing way  of evaluating your classification model visually .\n",
        "\n",
        "1. Make prediction with our trained model on test dataset\n",
        "2. Make confusion matrix `torchmetrics.ConfusionMatrix`\n",
        "3. Plot the confusion matrix using `mlxtend.plotting.plot_confusion_matrix`"
      ],
      "metadata": {
        "id": "Pqmr67zgPfJM"
      }
    },
    {
      "cell_type": "code",
      "source": [
        "# 1. Make predictions\n",
        "y_preds = [] # Initialize an empty list to store predictions\n",
        "model_2.eval()\n",
        "with torch.inference_mode():\n",
        "  for X,y in test_dataloader:\n",
        "   #put data on target device\n",
        "    X,y=X.to(device),y.to(device)\n",
        "\n",
        "    #forward pass\n",
        "    y_logits=model_2(X)\n",
        "\n",
        "    # logits -> prediction  probabilities -> prediction labels\n",
        "    y_pred_labels=torch.softmax(y_logits, dim=1).argmax(dim=1) # Apply softmax and argmax\n",
        "\n",
        "    #put prediction on CPU for evaluation\n",
        "    y_preds.append(y_pred_labels.cpu()) # Append the predictions to the list\n",
        "\n",
        "  #concatenate  list of predictions into tensor\n",
        "  y_pred_tensor = torch.cat(y_preds)\n",
        "  #print(y_pred_tensor)\n",
        "  y_pred_tensor=torch.cat(y_preds)\n",
        "  print(y_pred_tensor)"
      ],
      "metadata": {
        "colab": {
          "base_uri": "https://localhost:8080/"
        },
        "id": "YCEy8FYBMOSm",
        "outputId": "f2fc3323-c1d4-4730-aa03-d0d2fce21192"
      },
      "execution_count": null,
      "outputs": [
        {
          "output_type": "stream",
          "name": "stdout",
          "text": [
            "tensor([9, 2, 1,  ..., 8, 1, 5])\n"
          ]
        }
      ]
    },
    {
      "cell_type": "code",
      "source": [
        "len(y_pred_tensor)"
      ],
      "metadata": {
        "colab": {
          "base_uri": "https://localhost:8080/"
        },
        "id": "T9Bq8Aq_Pfvo",
        "outputId": "a8825772-8c7d-4837-8977-881a48e75f1e"
      },
      "execution_count": null,
      "outputs": [
        {
          "output_type": "execute_result",
          "data": {
            "text/plain": [
              "10000"
            ]
          },
          "metadata": {},
          "execution_count": 78
        }
      ]
    },
    {
      "cell_type": "code",
      "source": [
        "#install torchmetrics\n",
        "# check if required package is installed and if not ,install them\n",
        "try:\n",
        "  import torchmetrics,mixtend\n",
        "  print(f\"torchmetrics and mixtend are already installed\")\n",
        "  assert int(mlxtend.__version__.split(\".\")[1]>=19 , 'mlxtend version shouls be 0.19 or higher ')\n",
        "except:\n",
        "  !pip install -q torchmetrics -U mlxtend\n",
        "  import torchmetrics,mlxtend\n",
        "  print(f\"mlxend version : {mlxtend.__version__}\")\n",
        "\n"
      ],
      "metadata": {
        "colab": {
          "base_uri": "https://localhost:8080/"
        },
        "id": "G0Ny-1-ETKhI",
        "outputId": "a5c56d76-065b-46a7-8037-dc63cd0a9fb2"
      },
      "execution_count": null,
      "outputs": [
        {
          "output_type": "stream",
          "name": "stdout",
          "text": [
            "\u001b[2K   \u001b[90m━━━━━━━━━━━━━━━━━━━━━━━━━━━━━━━━━━━━━━━━\u001b[0m \u001b[32m983.0/983.0 kB\u001b[0m \u001b[31m13.7 MB/s\u001b[0m eta \u001b[36m0:00:00\u001b[0m\n",
            "\u001b[2K   \u001b[90m━━━━━━━━━━━━━━━━━━━━━━━━━━━━━━━━━━━━━━━━\u001b[0m \u001b[32m363.4/363.4 MB\u001b[0m \u001b[31m1.4 MB/s\u001b[0m eta \u001b[36m0:00:00\u001b[0m\n",
            "\u001b[2K   \u001b[90m━━━━━━━━━━━━━━━━━━━━━━━━━━━━━━━━━━━━━━━━\u001b[0m \u001b[32m13.8/13.8 MB\u001b[0m \u001b[31m25.2 MB/s\u001b[0m eta \u001b[36m0:00:00\u001b[0m\n",
            "\u001b[2K   \u001b[90m━━━━━━━━━━━━━━━━━━━━━━━━━━━━━━━━━━━━━━━━\u001b[0m \u001b[32m24.6/24.6 MB\u001b[0m \u001b[31m29.0 MB/s\u001b[0m eta \u001b[36m0:00:00\u001b[0m\n",
            "\u001b[2K   \u001b[90m━━━━━━━━━━━━━━━━━━━━━━━━━━━━━━━━━━━━━━━━\u001b[0m \u001b[32m883.7/883.7 kB\u001b[0m \u001b[31m25.4 MB/s\u001b[0m eta \u001b[36m0:00:00\u001b[0m\n",
            "\u001b[2K   \u001b[90m━━━━━━━━━━━━━━━━━━━━━━━━━━━━━━━━━━━━━━━━\u001b[0m \u001b[32m664.8/664.8 MB\u001b[0m \u001b[31m2.3 MB/s\u001b[0m eta \u001b[36m0:00:00\u001b[0m\n",
            "\u001b[2K   \u001b[90m━━━━━━━━━━━━━━━━━━━━━━━━━━━━━━━━━━━━━━━━\u001b[0m \u001b[32m211.5/211.5 MB\u001b[0m \u001b[31m6.8 MB/s\u001b[0m eta \u001b[36m0:00:00\u001b[0m\n",
            "\u001b[2K   \u001b[90m━━━━━━━━━━━━━━━━━━━━━━━━━━━━━━━━━━━━━━━━\u001b[0m \u001b[32m56.3/56.3 MB\u001b[0m \u001b[31m12.2 MB/s\u001b[0m eta \u001b[36m0:00:00\u001b[0m\n",
            "\u001b[2K   \u001b[90m━━━━━━━━━━━━━━━━━━━━━━━━━━━━━━━━━━━━━━━━\u001b[0m \u001b[32m127.9/127.9 MB\u001b[0m \u001b[31m8.0 MB/s\u001b[0m eta \u001b[36m0:00:00\u001b[0m\n",
            "\u001b[2K   \u001b[90m━━━━━━━━━━━━━━━━━━━━━━━━━━━━━━━━━━━━━━━━\u001b[0m \u001b[32m207.5/207.5 MB\u001b[0m \u001b[31m7.7 MB/s\u001b[0m eta \u001b[36m0:00:00\u001b[0m\n",
            "\u001b[2K   \u001b[90m━━━━━━━━━━━━━━━━━━━━━━━━━━━━━━━━━━━━━━━━\u001b[0m \u001b[32m188.7/188.7 MB\u001b[0m \u001b[31m7.4 MB/s\u001b[0m eta \u001b[36m0:00:00\u001b[0m\n",
            "\u001b[2K   \u001b[90m━━━━━━━━━━━━━━━━━━━━━━━━━━━━━━━━━━━━━━━━\u001b[0m \u001b[32m21.1/21.1 MB\u001b[0m \u001b[31m30.8 MB/s\u001b[0m eta \u001b[36m0:00:00\u001b[0m\n",
            "\u001b[?25hmlxend version : 0.23.4\n"
          ]
        }
      ]
    },
    {
      "cell_type": "code",
      "source": [
        "import mlxtend\n",
        "print(mlxtend.__version__)"
      ],
      "metadata": {
        "colab": {
          "base_uri": "https://localhost:8080/"
        },
        "id": "pvk2oD3rjVzz",
        "outputId": "54f1e965-367d-4092-c4c0-cdb1c37f95f3"
      },
      "execution_count": null,
      "outputs": [
        {
          "output_type": "stream",
          "name": "stdout",
          "text": [
            "0.23.4\n"
          ]
        }
      ]
    },
    {
      "cell_type": "code",
      "source": [],
      "metadata": {
        "id": "mHFqo2Q5mbBf"
      },
      "execution_count": null,
      "outputs": []
    },
    {
      "cell_type": "code",
      "source": [
        "from torchmetrics import ConfusionMatrix\n",
        "from mlxtend.plotting import plot_confusion_matrix\n",
        "\n",
        "# setup confusion metrics and compare predictions to target\n",
        "confmat=ConfusionMatrix(num_classes=len(class_names) , task=\"multiclass\")\n",
        "confmat_tensor=confmat(preds=y_pred_tensor,\n",
        "                       target=test_data.targets)\n",
        "\n",
        "#ploting confusion metrics\n",
        "fig, ax= plot_confusion_matrix(\n",
        "    conf_mat=confmat_tensor.numpy(),\n",
        "    class_names=class_names,\n",
        "    figsize=(10,7)\n",
        ")\n",
        "\n",
        "\n",
        "\n"
      ],
      "metadata": {
        "colab": {
          "base_uri": "https://localhost:8080/",
          "height": 635
        },
        "id": "ZlS0IWDUjkqo",
        "outputId": "4d99cf6f-5d74-4d8e-ec4f-83a9d627f252"
      },
      "execution_count": null,
      "outputs": [
        {
          "output_type": "display_data",
          "data": {
            "text/plain": [
              "<Figure size 1000x700 with 1 Axes>"
            ],
            "image/png": "[encoded data removed]"
          },
          "metadata": {}
        }
      ]
    },
    {
      "cell_type": "code",
      "source": [
        "confmat_tensor"
      ],
      "metadata": {
        "colab": {
          "base_uri": "https://localhost:8080/"
        },
        "id": "xy9vJBoDjkmD",
        "outputId": "6ff79109-f444-451d-e914-787ac641988f"
      },
      "execution_count": null,
      "outputs": [
        {
          "output_type": "execute_result",
          "data": {
            "text/plain": [
              "tensor([[843,   2,  11,  25,   7,   1, 105,   0,   6,   0],\n",
              "        [  1, 978,   1,  14,   3,   0,   2,   0,   1,   0],\n",
              "        [ 16,   1, 763,  10, 124,   0,  85,   0,   1,   0],\n",
              "        [ 23,   4,   7, 897,  27,   0,  38,   0,   4,   0],\n",
              "        [  0,   2,  47,  37, 831,   0,  83,   0,   0,   0],\n",
              "        [  0,   0,   0,   2,   0, 979,   0,  13,   2,   4],\n",
              "        [128,   3,  66,  33,  77,   0, 682,   0,  11,   0],\n",
              "        [  0,   0,   0,   0,   0,  26,   0, 944,   1,  29],\n",
              "        [  2,   1,   7,   5,   1,   2,  10,   5, 967,   0],\n",
              "        [  0,   0,   0,   0,   0,  10,   0,  35,   1, 954]])"
            ]
          },
          "metadata": {},
          "execution_count": 81
        }
      ]
    },
    {
      "cell_type": "markdown",
      "source": [
        "# 11 Save and load your best performance model\n"
      ],
      "metadata": {
        "id": "GRio4sB9nZEs"
      }
    },
    {
      "cell_type": "code",
      "source": [
        "from pathlib import Path\n",
        "\n",
        "#create model directory path\n",
        "MODEL_PATH=Path(\"models\")\n",
        "MODEL_PATH.mkdir(parents=True,\n",
        "                 exist_ok=True)\n",
        "\n",
        "# create model save path\n",
        "MODEL_NAME=\"03_pytorch_computer_vision_model_2.pth\"\n",
        "MODEL_SAVE_PATH=MODEL_PATH/MODEL_NAME\n",
        "\n",
        "#save the model state dict\n",
        "print(f\"saving model to :{MODEL_SAVE_PATH}\")\n",
        "torch.save(obj=model_2.state_dict() , f=MODEL_SAVE_PATH)\n",
        "\n"
      ],
      "metadata": {
        "colab": {
          "base_uri": "https://localhost:8080/"
        },
        "id": "1t537aGKnZwH",
        "outputId": "d0bf9690-f735-4d2c-bba6-c3712652c01d"
      },
      "execution_count": null,
      "outputs": [
        {
          "output_type": "stream",
          "name": "stdout",
          "text": [
            "saving model to :models/03_pytorch_computer_vision_model_2.pth\n"
          ]
        }
      ]
    },
    {
      "cell_type": "code",
      "source": [
        "  # check if model ia loaded\n",
        "  #create a new instance\n",
        "  torch.manual_seed(42)\n",
        "  loaded_model_2=FashionMNISTModelV2(input_shape=1,\n",
        "                                     hidden_units=10,\n",
        "                                     output_shape=len(class_names))\n",
        "\n",
        "#load the saved state dict\n",
        "loaded_model_2.load_state_dict(torch.load(f=MODEL_SAVE_PATH))\n",
        "\n",
        "# set to target device\n",
        "loaded_model_2.to(device)\n"
      ],
      "metadata": {
        "colab": {
          "base_uri": "https://localhost:8080/"
        },
        "id": "XaS0p0tNjkio",
        "outputId": "a8f24767-a53d-484d-d5eb-4e4d2220d6a2"
      },
      "execution_count": null,
      "outputs": [
        {
          "output_type": "execute_result",
          "data": {
            "text/plain": [
              "FashionMNISTModelV2(\n",
              "  (conv_block1): Sequential(\n",
              "    (0): Conv2d(1, 10, kernel_size=(3, 3), stride=(1, 1), padding=(1, 1))\n",
              "    (1): ReLU()\n",
              "    (2): Conv2d(10, 10, kernel_size=(3, 3), stride=(1, 1), padding=(1, 1))\n",
              "    (3): ReLU()\n",
              "    (4): MaxPool2d(kernel_size=2, stride=2, padding=0, dilation=1, ceil_mode=False)\n",
              "  )\n",
              "  (conv_block2): Sequential(\n",
              "    (0): Conv2d(10, 10, kernel_size=(3, 3), stride=(1, 1), padding=(1, 1))\n",
              "    (1): ReLU()\n",
              "    (2): Conv2d(10, 10, kernel_size=(3, 3), stride=(1, 1), padding=(1, 1))\n",
              "    (3): ReLU()\n",
              "    (4): MaxPool2d(kernel_size=2, stride=2, padding=0, dilation=1, ceil_mode=False)\n",
              "  )\n",
              "  (classifier): Sequential(\n",
              "    (0): Flatten(start_dim=1, end_dim=-1)\n",
              "    (1): Linear(in_features=490, out_features=10, bias=True)\n",
              "  )\n",
              ")"
            ]
          },
          "metadata": {},
          "execution_count": 86
        }
      ]
    },
    {
      "cell_type": "code",
      "source": [
        "model_2_results"
      ],
      "metadata": {
        "colab": {
          "base_uri": "https://localhost:8080/"
        },
        "id": "7qfzq1P-pB4E",
        "outputId": "d2329af6-aa95-448e-8050-d98be2ed12b7"
      },
      "execution_count": null,
      "outputs": [
        {
          "output_type": "execute_result",
          "data": {
            "text/plain": [
              "{'model_name  ': 'FashionMNISTModelV2',\n",
              " 'model_loss': 0.3149992525577545,\n",
              " 'model_acc': 88.38857827476038}"
            ]
          },
          "metadata": {},
          "execution_count": 87
        }
      ]
    },
    {
      "cell_type": "code",
      "source": [
        "#evaluate the loaded model\n",
        "torch.manual_seed(42)\n",
        "loaded_model_2_results=eval_model( loaded_model_2,\n",
        "                                  test_dataloader,\n",
        "                                   loss_fn,\n",
        "                                   accuracy_fn)\n",
        "loaded_model_2_results"
      ],
      "metadata": {
        "colab": {
          "base_uri": "https://localhost:8080/"
        },
        "id": "-oHyJONppB0h",
        "outputId": "a455d65c-aa60-4e71-d11f-7afcd0f5152f"
      },
      "execution_count": null,
      "outputs": [
        {
          "output_type": "execute_result",
          "data": {
            "text/plain": [
              "{'model_name  ': 'FashionMNISTModelV2',\n",
              " 'model_loss': 0.3149992525577545,\n",
              " 'model_acc': 88.38857827476038}"
            ]
          },
          "metadata": {},
          "execution_count": 88
        }
      ]
    },
    {
      "cell_type": "code",
      "source": [
        "#check if model results are close to each other\n",
        "torch.isclose(torch.tensor(model_2_results[\"model_loss\"]),\n",
        "              torch.tensor(loaded_mode_2_results[\"model_loss\"]))\n"
      ],
      "metadata": {
        "id": "s4lEB1s5t0xn"
      },
      "execution_count": null,
      "outputs": []
    }
  ]
}