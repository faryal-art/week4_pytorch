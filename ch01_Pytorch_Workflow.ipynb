{
  "nbformat": 4,
  "nbformat_minor": 0,
  "metadata": {
    "colab": {
      "provenance": [],
      "authorship_tag": "ABX9TyMAtGsPbpc5M3MEv5OzYkCi",
      "include_colab_link": true
    },
    "kernelspec": {
      "name": "python3",
      "display_name": "Python 3"
    },
    "language_info": {
      "name": "python"
    }
  },
  "cells": [
    {
      "cell_type": "markdown",
      "metadata": {
        "id": "view-in-github",
        "colab_type": "text"
      },
      "source": [
        "<a href=\"https://colab.research.google.com/github/faryal-art/week4_pytorch/blob/main/ch01_Pytorch_Workflow.ipynb\" target=\"_parent\"><img src=\"https://colab.research.google.com/assets/colab-badge.svg\" alt=\"Open In Colab\"/></a>"
      ]
    },
    {
      "cell_type": "markdown",
      "source": [
        "## Pytorch Workflow\n",
        "what we are going to cover\n",
        "1. Prepare and load data\n",
        "2. Build a Model\n",
        "3. Fit the model to data(training)\n",
        "4. Making predictions and evaluating a model (Testing)\n",
        "5. Saving and loading a model\n",
        "6. Putting it all together"
      ],
      "metadata": {
        "id": "YG4qyjsmxj_u"
      }
    },
    {
      "cell_type": "code",
      "source": [
        "import torch\n",
        "from torch import nn # nn contains all of pytorch's building blocks for neural network\n",
        "import matplotlib.pyplot as plt\n",
        "\n",
        "# check pytorch version\n",
        "torch.__version__\n"
      ],
      "metadata": {
        "colab": {
          "base_uri": "https://localhost:8080/",
          "height": 35
        },
        "id": "sTdMlqqHzuvT",
        "outputId": "52557517-dae4-4e0e-9d94-1857b63d4a87"
      },
      "execution_count": 673,
      "outputs": [
        {
          "output_type": "execute_result",
          "data": {
            "text/plain": [
              "'2.6.0+cu124'"
            ],
            "application/vnd.google.colaboratory.intrinsic+json": {
              "type": "string"
            }
          },
          "metadata": {},
          "execution_count": 673
        }
      ]
    },
    {
      "cell_type": "markdown",
      "source": [
        "### 1. Data (preparing and loading)\n",
        "Data can be almost anything.... in machine learning\n",
        "* Excel spreadsheet\n",
        "* images\n",
        "* videos\n",
        "* Audios\n",
        "* DNA\n",
        "* Text\n",
        "Machine  learning is a game of 2 parts:\n",
        "1. Get data in numerical representation\n",
        "2. build a model to learn patterns in that numerical data\n",
        "\n",
        "To showcase this ,lets create some *known* data using the linear regression formula.\n",
        "linear regression formula\n",
        "y=a+bX . Where\n",
        "* X = independent variable\n",
        "* Y = dependent variable\n",
        "* b = slope of line(gradient)/weight\n",
        "* a = intercept/bias\n",
        "\n",
        "we  will use linear rgression formula to make a straight line with known **Parameters**\n",
        "\n",
        "\n",
        "\n"
      ],
      "metadata": {
        "id": "5aG1_aud1hXa"
      }
    },
    {
      "cell_type": "code",
      "source": [
        "# create know parameters\n",
        "weight= 0.7\n",
        "bias=0.3\n",
        "\n",
        "# we need to build the model that can estimate thess numbers for weight and bias\n",
        "\n",
        "# create some data\n",
        "\n",
        "X= torch.arange(start=0,end=1,step=0.02).unsqueeze(dim=1)\n",
        "Y=bias+(weight*X)\n",
        "#check few numbers\n",
        "X[:10],Y[:10]\n"
      ],
      "metadata": {
        "colab": {
          "base_uri": "https://localhost:8080/"
        },
        "id": "RkpoIUZ-1aRD",
        "outputId": "617b453d-f746-49c3-dd06-158dfccdc122"
      },
      "execution_count": 674,
      "outputs": [
        {
          "output_type": "execute_result",
          "data": {
            "text/plain": [
              "(tensor([[0.0000],\n",
              "         [0.0200],\n",
              "         [0.0400],\n",
              "         [0.0600],\n",
              "         [0.0800],\n",
              "         [0.1000],\n",
              "         [0.1200],\n",
              "         [0.1400],\n",
              "         [0.1600],\n",
              "         [0.1800]]),\n",
              " tensor([[0.3000],\n",
              "         [0.3140],\n",
              "         [0.3280],\n",
              "         [0.3420],\n",
              "         [0.3560],\n",
              "         [0.3700],\n",
              "         [0.3840],\n",
              "         [0.3980],\n",
              "         [0.4120],\n",
              "         [0.4260]]))"
            ]
          },
          "metadata": {},
          "execution_count": 674
        }
      ]
    },
    {
      "cell_type": "code",
      "source": [
        "len(X),len(Y)\n",
        "# so there is 50 input features and 50 labels for them"
      ],
      "metadata": {
        "colab": {
          "base_uri": "https://localhost:8080/"
        },
        "id": "2IQqMiqq6PxS",
        "outputId": "e19d4467-82ee-474e-c1a5-bd7c0703fecc"
      },
      "execution_count": 675,
      "outputs": [
        {
          "output_type": "execute_result",
          "data": {
            "text/plain": [
              "(50, 50)"
            ]
          },
          "metadata": {},
          "execution_count": 675
        }
      ]
    },
    {
      "cell_type": "markdown",
      "source": [
        "### Spliting the data into training and test sets\n",
        "lrts split our data\n",
        "* 80% for training\n",
        "* 20% for testing\n"
      ],
      "metadata": {
        "id": "P5ghlnem6480"
      }
    },
    {
      "cell_type": "code",
      "source": [
        "# create a train / test split\n",
        "#create a training split\n",
        "train_split=int(0.8*len(X))\n",
        "X_train,Y_train=X[:train_split],Y[:train_split] # takes everything from start to train split\n",
        "\n",
        "# Testing spit\n",
        "X_test,Y_test=X[train_split:],Y[train_split:] # take everything from trainsplit to onwards\n",
        "\n",
        "# check number of training and testion sample\n",
        "len(X_train),len(Y_train),len(X_test),len(Y_test)\n"
      ],
      "metadata": {
        "colab": {
          "base_uri": "https://localhost:8080/"
        },
        "id": "Grn0IupQ6bgE",
        "outputId": "a02c7936-bfe0-46b1-c83f-0c6f88a81a5a"
      },
      "execution_count": 676,
      "outputs": [
        {
          "output_type": "execute_result",
          "data": {
            "text/plain": [
              "(40, 40, 10, 10)"
            ]
          },
          "metadata": {},
          "execution_count": 676
        }
      ]
    },
    {
      "cell_type": "markdown",
      "source": [
        "Data explorer's motto\n",
        "visualize,visualize,visualize"
      ],
      "metadata": {
        "id": "Kma-fToI8jTH"
      }
    },
    {
      "cell_type": "code",
      "source": [
        "def plot_predictions(train_data=X_train,\n",
        "                     train_labels=Y_train,\n",
        "                     test_data=X_test,\n",
        "                     test_labels=Y_test,\n",
        "                     prediction= None\n",
        "                     ):\n",
        "  \"\"\"\n",
        "  plots training data ,test data and compares predictions\n",
        "  \"\"\"\n",
        "  plt.figure(figsize=(10,7))\n",
        "\n",
        "  #plot training data in green\n",
        "  plt.scatter(train_data,train_labels, c=\"g\" ,s=4, label=\"Training data\")\n",
        "\n",
        "  #plot Testing data in red\n",
        "  plt.scatter(test_data,test_labels, c=\"r\" ,s=4 , label=\"Testing data\")\n",
        "\n",
        "#check if predictions are there\n",
        "  if prediction is not None:\n",
        "  #plot the prediction\n",
        "    plt.scatter(test_data,prediction, c =\"b\", s=4 , label=\"predictions\")\n",
        "\n",
        "  #show the legend\n",
        "  plt.legend();\n",
        "  plt.show()"
      ],
      "metadata": {
        "id": "4H3ZOC48AWE7"
      },
      "execution_count": 677,
      "outputs": []
    },
    {
      "cell_type": "code",
      "source": [
        " plot_predictions ();"
      ],
      "metadata": {
        "colab": {
          "base_uri": "https://localhost:8080/",
          "height": 460
        },
        "id": "PX0i4BaHDOVF",
        "outputId": "2a7a5552-6bae-44fa-f515-d2f2aca4f07c"
      },
      "execution_count": 678,
      "outputs": [
        {
          "output_type": "display_data",
          "data": {
            "text/plain": [
              "<Figure size 1000x700 with 1 Axes>"
            ],
            "image/png": "[encoded data removed]"
          },
          "metadata": {}
        }
      ]
    },
    {
      "cell_type": "markdown",
      "source": [
        "### Build a model\n",
        "our first pytorch model\n",
        "The goal of the model is\n",
        "* We will start with random values for parameters(weight and bias)\n",
        "* Look at the data and **Update**  those random numbers (values of parameter)  to better represent the ideal vaues (the weight and bias) to create a best fit\n",
        "\n",
        "\n",
        "  How  does it do so?\n",
        "  \n",
        "  Through two main algorithms\n",
        "  1. Gradient descent\n",
        "   * Gradient Descent is an optimization algorithm used to minimize the loss (error) of a model by updating its parameters (like weights and biases).\n",
        "   * How It Works (Simple Steps):\n",
        "      1. Start with random weights.\n",
        "\n",
        "      2. Calculate the loss (how wrong the prediction is).\n",
        "\n",
        "      3. Find the gradient (direction to change weights to reduce the loss).\n",
        "\n",
        "      4. Update the weights by taking a small step in the opposite direction of the gradient.\n",
        "\n",
        "      5. Repeat until the loss becomes very small.\n",
        "\n",
        "      6. The amount of step is controlled by a value called learning rate.\n",
        "\n",
        "\n",
        "\n",
        "\n",
        "  2. Backpropagation\n",
        "     * Backpropagation (short for \"backward propagation of errors\") is the process of computing gradients — it figures out how much each weight contributed to the error so we can update it using gradient descent.\n",
        "    *  How It Works:\n",
        "        1. Forward Pass: Data flows through the model to make predictions.\n",
        "\n",
        "        2. Loss Calculation: Compare predictions with actual values.\n",
        "\n",
        "        3. Backward Pass:\n",
        "\n",
        "             * Use the chain rule from calculus to calculate how much each weight affected the loss.\n",
        "\n",
        "             * Store those gradients.\n",
        "\n",
        "             These gradients are then used by gradient descent to update the weights.\n",
        "\n"
      ],
      "metadata": {
        "id": "KrKp_gnnEVZh"
      }
    },
    {
      "cell_type": "code",
      "source": [
        "# create linear regression model class\n",
        "# our class inheret from nn.module\n",
        "# almost everything in pytorch inheret from  nn.module\n",
        "# nn.Module is base class for all neural network\n",
        "class linearregression(nn.Module): # nn.Module contains all the building blocks for neural network\n",
        "  def __init__(self):\n",
        "    # Function to set random values of weights and bias\n",
        "    super().__init__()\n",
        "    #  requires_grad=True -> it tells pytorch to track this tensor for gradients\n",
        "    self.weights=nn.Parameter(torch.randn(1, #start with random weight and it will get updated in future on the base of data\n",
        "                                          requires_grad=True,\n",
        "                                          dtype=torch.float))\n",
        "    self.bias=nn.Parameter(torch.randn(1,\n",
        "                                       requires_grad=True,\n",
        "                                       dtype=torch.float))\n",
        "  #Forward method to define the computation in the model\n",
        "  def forward(self,X: torch.tensor) ->torch.tensor:#<- x is input data,it will take tensor as input and return tensor as output\n",
        "      return self.weights*X+self.bias\n",
        "\n"
      ],
      "metadata": {
        "id": "sZEZueXo9PmY"
      },
      "execution_count": 679,
      "outputs": []
    },
    {
      "cell_type": "markdown",
      "source": [
        "### Pytorch Model building essentials\n",
        "\n",
        "* torch.nn - contains all of the building blocks for computational graphs (another word for neural nekwork)\n",
        "* torch.nn.parameter -what parameters should our model try and learn, often a pytorch layer from torch.nn will set these for u\n",
        "* torch.nn.Module - The base class for all neural network modules ,if you subclass it , you should overwrite forward()\n",
        "* torch.optim- this is where optimizers in pytorch live, they will help with gradient descent\n",
        "\n",
        "* def forward() - all nn.Module subclasses require you to overwrite forward () , this method defines what happens in the forward computation\n",
        "*  torch.utils.data.Dataset - helpfull in case of complex dataset , help us load data\n",
        "* torch.utils.data.DataLoader - helpfull in case of complex dataset ,same help us load data"
      ],
      "metadata": {
        "id": "JBa8Z4xvrRsL"
      }
    },
    {
      "cell_type": "markdown",
      "source": [
        "differnt functions/attributes used at different stages during the process of neural network\n",
        "1. get data ready\n",
        "  * torchvision.transform\n",
        "  * torch.utils.data.Dataset\n",
        "  * torch.utils.data.DataLoader\n",
        "\n",
        "2. Build or pick a model\n",
        "    * torch.nn\n",
        "    * torch.nn.Module\n",
        "    * torchvision.models\n",
        "3. if we want to optimize the parameters of our model\n",
        "    * torch.optim\n",
        "4. to evaluate the model\n",
        "    * torchmetrics\n",
        "5. Improve through experimentations\n",
        "    * torch.utils.tensorboard\n"
      ],
      "metadata": {
        "id": "nbKh_xGPJaZm"
      }
    },
    {
      "cell_type": "markdown",
      "source": [
        "### checking the content of our pytorch model\n",
        "our model is created lets see what is inside\n",
        "\n",
        "so we check our model parameters or what inside our model using `.parameters()`"
      ],
      "metadata": {
        "id": "AqUCWLT4JLuX"
      }
    },
    {
      "cell_type": "code",
      "source": [
        "# create a random seed\n",
        "torch.manual_seed(42)\n",
        "\n",
        " # create an instance of the model (this is a subclass of nn.module)\n",
        "model_0=linearregression()\n",
        "\n",
        "# check out parameters\n",
        "list(model_0.parameters())\n",
        "\n",
        "\n"
      ],
      "metadata": {
        "colab": {
          "base_uri": "https://localhost:8080/"
        },
        "id": "r-8cKFdpMJbC",
        "outputId": "156fde57-44b3-424b-841f-b8fa1e70481d"
      },
      "execution_count": 680,
      "outputs": [
        {
          "output_type": "execute_result",
          "data": {
            "text/plain": [
              "[Parameter containing:\n",
              " tensor([0.3367], requires_grad=True),\n",
              " Parameter containing:\n",
              " tensor([0.1288], requires_grad=True)]"
            ]
          },
          "metadata": {},
          "execution_count": 680
        }
      ]
    },
    {
      "cell_type": "code",
      "source": [
        "# list named parameters for better understanding\n",
        "model_0.state_dict()"
      ],
      "metadata": {
        "colab": {
          "base_uri": "https://localhost:8080/"
        },
        "id": "oMpEyYEiMtfg",
        "outputId": "f26817fa-1774-4f87-f6ce-63cb51daab3e"
      },
      "execution_count": 681,
      "outputs": [
        {
          "output_type": "execute_result",
          "data": {
            "text/plain": [
              "OrderedDict([('weights', tensor([0.3367])), ('bias', tensor([0.1288]))])"
            ]
          },
          "metadata": {},
          "execution_count": 681
        }
      ]
    },
    {
      "cell_type": "markdown",
      "source": [
        "fundamental/entire fundation of deep learning\n",
        "* we start with some random value\n",
        "* we use gradient descent + backpropagation + data we are working with  to move those random values as close as possible to the ideal values"
      ],
      "metadata": {
        "id": "ksIeINRQN7cp"
      }
    },
    {
      "cell_type": "markdown",
      "source": [
        "### Making predictions using `torch.inference_mode()\n",
        "to check our model's predictive power . let's see how well it predictics `Y_test` based on `X_test`\n",
        "when we pass data through our model, it's going to run it through the `forward()` method\n"
      ],
      "metadata": {
        "id": "rkLsMrwoPuc2"
      }
    },
    {
      "cell_type": "code",
      "source": [
        "X_test,Y_test"
      ],
      "metadata": {
        "colab": {
          "base_uri": "https://localhost:8080/"
        },
        "id": "0AiEVESwN5ld",
        "outputId": "d6ff390b-6a35-446f-8636-538d9baf1d33"
      },
      "execution_count": 682,
      "outputs": [
        {
          "output_type": "execute_result",
          "data": {
            "text/plain": [
              "(tensor([[0.8000],\n",
              "         [0.8200],\n",
              "         [0.8400],\n",
              "         [0.8600],\n",
              "         [0.8800],\n",
              "         [0.9000],\n",
              "         [0.9200],\n",
              "         [0.9400],\n",
              "         [0.9600],\n",
              "         [0.9800]]),\n",
              " tensor([[0.8600],\n",
              "         [0.8740],\n",
              "         [0.8880],\n",
              "         [0.9020],\n",
              "         [0.9160],\n",
              "         [0.9300],\n",
              "         [0.9440],\n",
              "         [0.9580],\n",
              "         [0.9720],\n",
              "         [0.9860]]))"
            ]
          },
          "metadata": {},
          "execution_count": 682
        }
      ]
    },
    {
      "cell_type": "code",
      "source": [
        "y_preds=model_0(X_test)\n",
        "y_preds"
      ],
      "metadata": {
        "colab": {
          "base_uri": "https://localhost:8080/"
        },
        "id": "k36aIdNZU473",
        "outputId": "72f290bf-2919-429e-9d12-2174d1d659ce"
      },
      "execution_count": 683,
      "outputs": [
        {
          "output_type": "execute_result",
          "data": {
            "text/plain": [
              "tensor([[0.3982],\n",
              "        [0.4049],\n",
              "        [0.4116],\n",
              "        [0.4184],\n",
              "        [0.4251],\n",
              "        [0.4318],\n",
              "        [0.4386],\n",
              "        [0.4453],\n",
              "        [0.4520],\n",
              "        [0.4588]], grad_fn=<AddBackward0>)"
            ]
          },
          "metadata": {},
          "execution_count": 683
        }
      ]
    },
    {
      "cell_type": "code",
      "source": [
        "#make predictions with model\n",
        "with torch.inference_mode():\n",
        " #inference_mode() method is use to make predictions.it turns off gradient tracking.make prediction faster as it does not have to keep the track of a lot of numbers\n",
        "  y_preds=model_0(X_test)\n",
        "y_preds\n",
        "\n",
        "# alternative way to do the same as above but torch.infrence_mode() is prefered\n",
        "'''\n",
        "with torch.no_grad():\n",
        "  y_preds=model_0(X_test)\n",
        "y_preds   '''"
      ],
      "metadata": {
        "colab": {
          "base_uri": "https://localhost:8080/",
          "height": 35
        },
        "id": "FVen8TQ_Sqpk",
        "outputId": "40fe1d51-c093-46df-e805-9c833d18548f"
      },
      "execution_count": 684,
      "outputs": [
        {
          "output_type": "execute_result",
          "data": {
            "text/plain": [
              "'\\nwith torch.no_grad():\\n  y_preds=model_0(X_test)\\ny_preds   '"
            ],
            "application/vnd.google.colaboratory.intrinsic+json": {
              "type": "string"
            }
          },
          "metadata": {},
          "execution_count": 684
        }
      ]
    },
    {
      "cell_type": "code",
      "source": [
        "plot_predictions(prediction=y_preds)"
      ],
      "metadata": {
        "colab": {
          "base_uri": "https://localhost:8080/",
          "height": 460
        },
        "id": "4BFp-NedSqeb",
        "outputId": "526d5e27-35e6-4d13-9303-3991079ddb9d"
      },
      "execution_count": 685,
      "outputs": [
        {
          "output_type": "display_data",
          "data": {
            "text/plain": [
              "<Figure size 1000x700 with 1 Axes>"
            ],
            "image/png": "[encoded data removed]"
          },
          "metadata": {}
        }
      ]
    },
    {
      "cell_type": "markdown",
      "source": [
        "the blue dots shows that where we are and red  dots shows where we should be . so we can do that by training our model to adjust values of weights and bias in a way we get better representation of our data"
      ],
      "metadata": {
        "id": "Iiq4LrQOXOOl"
      }
    },
    {
      "cell_type": "markdown",
      "source": [
        "## 3. Train the model\n",
        "\n",
        " * The whole idea of training is for a model to move from some *unknown* parameters (can be random) to some *known* parameters.\n",
        " * In other words from poor representation of data to better representation of data .\n",
        "\n",
        "* one way to measure how poor or how wrong your models predictions are is to use loss function.\n",
        "  * loss functions can also be called as cost function or criterion in different areas . for our case we are going to refer it as loss function\n",
        "  *  **Loss function** a function to measure how wrong your model's predictions are from the ideal outputs\n",
        ".lower loos function means better predictions\n",
        "\n",
        "\n",
        "things we need to train :\n",
        "1. loss function\n",
        "2. optimizer:  checks the loss function and then adjust the model's parameters(weight and bias). adjust the parameters to reduce the loss\n",
        "\n",
        "And specificaly for pytorch , we need\n",
        "1. a training loop\n",
        "2. a testing loop"
      ],
      "metadata": {
        "id": "8IfbQ0NVXruX"
      }
    },
    {
      "cell_type": "code",
      "source": [
        "# check out model's parameters(a parameter is a value that a model sets itself)\n",
        "model_0.state_dict()"
      ],
      "metadata": {
        "id": "mPnOUghlds7m",
        "colab": {
          "base_uri": "https://localhost:8080/"
        },
        "outputId": "65f4b187-183e-448c-cee9-0c955c69a1d8"
      },
      "execution_count": 686,
      "outputs": [
        {
          "output_type": "execute_result",
          "data": {
            "text/plain": [
              "OrderedDict([('weights', tensor([0.3367])), ('bias', tensor([0.1288]))])"
            ]
          },
          "metadata": {},
          "execution_count": 686
        }
      ]
    },
    {
      "cell_type": "code",
      "source": [
        "# setup loss function\n",
        "loss_fn=nn.L1Loss()\n",
        "\n",
        "\n",
        "#setup optimizer (SGD = stochastic gradient descent)\n",
        "opt=torch.optim.SGD( params = model_0.parameters(),\n",
        "                    lr=0.01) #lr = learning rate = possibly the most important hyperparameter(we can  set ourself)\n",
        "                     # lr - control the change in the parameters"
      ],
      "metadata": {
        "id": "qRKJcXUBauXT"
      },
      "execution_count": 687,
      "outputs": []
    },
    {
      "cell_type": "code",
      "source": [
        "loss_fn"
      ],
      "metadata": {
        "colab": {
          "base_uri": "https://localhost:8080/"
        },
        "id": "WLLwplnXT4ui",
        "outputId": "82f4371f-28f4-4cbc-f152-8176fdae3920"
      },
      "execution_count": 688,
      "outputs": [
        {
          "output_type": "execute_result",
          "data": {
            "text/plain": [
              "L1Loss()"
            ]
          },
          "metadata": {},
          "execution_count": 688
        }
      ]
    },
    {
      "cell_type": "markdown",
      "source": [
        "### Buildin a trainig loop ( and testing loop ) in pytorch.\n",
        "\n",
        "  A couple of things we need in a training loop :\n",
        "  0. loop through the data\n",
        "  1. forward pass/ forward propagation(this involves data moving through our model's `forward()` function . A forward pass is only data moving from input to output layer. mainly used to  make predictions on data.\n",
        "  2. calculate the loss (compare forward pass predictions to actual  outpur (predicted output - actual output)\n",
        "\n",
        "  3. optimizer zero grad\n",
        "  4. Loss backward(**Back propagation**) - move backwards through the network to calculate the gradients of the parameters of our model with respect of our model with respect to the loss\n",
        "  5. Optimizer step(**Gradient Descent**) - use the optimizer to adjust our model's parameters to try and improve the loss"
      ],
      "metadata": {
        "id": "HSWFH2LobgSq"
      }
    },
    {
      "cell_type": "code",
      "source": [
        "list(model_0.parameters())"
      ],
      "metadata": {
        "colab": {
          "base_uri": "https://localhost:8080/"
        },
        "id": "lhEJkHLIvOv_",
        "outputId": "e36c7ba5-9186-4aec-f76e-675c868f0100"
      },
      "execution_count": 689,
      "outputs": [
        {
          "output_type": "execute_result",
          "data": {
            "text/plain": [
              "[Parameter containing:\n",
              " tensor([0.3367], requires_grad=True),\n",
              " Parameter containing:\n",
              " tensor([0.1288], requires_grad=True)]"
            ]
          },
          "metadata": {},
          "execution_count": 689
        }
      ]
    },
    {
      "cell_type": "code",
      "source": [
        "# our ideal model is using X_test to predict Y_test"
      ],
      "metadata": {
        "id": "Q6Gk0lOjw7NW"
      },
      "execution_count": 690,
      "outputs": []
    },
    {
      "cell_type": "code",
      "source": [
        "#gingle to remember the training loop\n",
        "#epoch in range\n",
        "# the model got train\n",
        "# do a forward pass\n",
        "# calculate the loos\n",
        "# optimizer zero grad\n",
        "# loss backwad\n",
        "# optimizer step step step\n",
        "\n",
        "## for testing loop\n",
        "#model got eval\n",
        "#torch inference mode\n",
        "# do a forward pass\n",
        " # calculate the loss\n",
        " ### print out what's happening\n"
      ],
      "metadata": {
        "id": "Z8t5Rada26iP"
      },
      "execution_count": 691,
      "outputs": []
    },
    {
      "cell_type": "code",
      "source": [
        "# no of epoch tells how many times we have to loop through data...\n",
        "# pass the data through the model for number of epochs ((eg. 142))\n",
        "#epoch is hyper parameter\n",
        "epochs=210\n",
        "\n",
        "# create empty lists for storing values that are helpful for tracking model progress\n",
        "epoch_count=[]\n",
        "train_loss_values=[]\n",
        "test_loss_values=[]\n",
        "\n",
        "\n",
        "\n",
        "### Training\n",
        "# 0. loop through data\n",
        "for epoch in range(epochs):\n",
        "  #set model for training\n",
        "  model_0.train() #train mode sets all the parameters that requires gradients to gradient\n",
        "\n",
        "  #1. forward pass\n",
        "  # perform some calculations on the data we pass\n",
        "  y_pred=model_0(X_train)\n",
        "\n",
        "  # 2. calculate loss\n",
        "  # how wrong the models predictions are\n",
        "  loss=loss_fn(y_pred,Y_train)\n",
        "  #print(f\"epoch no: {epoch}\")\n",
        "  #print(f\"loss: {loss}\")\n",
        "\n",
        "  #3. optimizer zero grad\n",
        "  # Clear old gradients\n",
        "  opt.zero_grad()\n",
        "\n",
        "  # 4. perform  back propagation on the loss with respect to the parameters of the model\n",
        "  #Calculates gradients (∂loss/∂weights)\n",
        "  loss.backward()\n",
        "\n",
        "  # 5. step the optimizer (perform gradient descent)\n",
        "  # updates the model’s parameters (like weights and biases) using the gradients that were calculated during backpropagation\n",
        "  opt.step()\n",
        "\n",
        "\n",
        "  #testing\n",
        "  #put the model in evaluation mode\n",
        "  model_0.eval() # turns off different settings in the model not needed for evaluation/testing\n",
        "  with torch.inference_mode(): #for faster performance\n",
        "     #turns off gradient tracking and couple of things\n",
        "\n",
        "     #1. do the forward pass\n",
        "     #pass the test data through the model\n",
        "     test_pred=model_0(X_test)\n",
        "\n",
        "     #2. calculate the loss\n",
        "     test_loss=loss_fn(test_pred,Y_test)\n",
        "\n",
        "  #print what is happening\n",
        "  if epoch% 10 ==0:\n",
        "    epoch_count.append(epoch)\n",
        "    train_loss_values.append(loss)\n",
        "    test_loss_values.append(test_loss)\n",
        "    print(f\"epoch: {epoch} | Loss : {loss} | test loss: {test_loss}\")\n",
        "\n",
        "      #print out model state_dict\n",
        "    print(model_0.state_dict())\n"
      ],
      "metadata": {
        "id": "G87xLeGKcQcY",
        "colab": {
          "base_uri": "https://localhost:8080/"
        },
        "outputId": "f0a6fcca-d322-498a-c202-57040833739f"
      },
      "execution_count": 692,
      "outputs": [
        {
          "output_type": "stream",
          "name": "stdout",
          "text": [
            "epoch: 0 | Loss : 0.31288138031959534 | test loss: 0.48106518387794495\n",
            "OrderedDict([('weights', tensor([0.3406])), ('bias', tensor([0.1388]))])\n",
            "epoch: 10 | Loss : 0.1976713240146637 | test loss: 0.3463551998138428\n",
            "OrderedDict([('weights', tensor([0.3796])), ('bias', tensor([0.2388]))])\n",
            "epoch: 20 | Loss : 0.08908725529909134 | test loss: 0.21729660034179688\n",
            "OrderedDict([('weights', tensor([0.4184])), ('bias', tensor([0.3333]))])\n",
            "epoch: 30 | Loss : 0.053148526698350906 | test loss: 0.14464017748832703\n",
            "OrderedDict([('weights', tensor([0.4512])), ('bias', tensor([0.3768]))])\n",
            "epoch: 40 | Loss : 0.04543796554207802 | test loss: 0.11360953003168106\n",
            "OrderedDict([('weights', tensor([0.4748])), ('bias', tensor([0.3868]))])\n",
            "epoch: 50 | Loss : 0.04167863354086876 | test loss: 0.09919948130846024\n",
            "OrderedDict([('weights', tensor([0.4938])), ('bias', tensor([0.3843]))])\n",
            "epoch: 60 | Loss : 0.03818932920694351 | test loss: 0.08886633068323135\n",
            "OrderedDict([('weights', tensor([0.5116])), ('bias', tensor([0.3788]))])\n",
            "epoch: 70 | Loss : 0.03476089984178543 | test loss: 0.0805937647819519\n",
            "OrderedDict([('weights', tensor([0.5288])), ('bias', tensor([0.3718]))])\n",
            "epoch: 80 | Loss : 0.03132382780313492 | test loss: 0.07232122868299484\n",
            "OrderedDict([('weights', tensor([0.5459])), ('bias', tensor([0.3648]))])\n",
            "epoch: 90 | Loss : 0.02788739837706089 | test loss: 0.06473556160926819\n",
            "OrderedDict([('weights', tensor([0.5629])), ('bias', tensor([0.3573]))])\n",
            "epoch: 100 | Loss : 0.024458957836031914 | test loss: 0.05646304413676262\n",
            "OrderedDict([('weights', tensor([0.5800])), ('bias', tensor([0.3503]))])\n",
            "epoch: 110 | Loss : 0.021020207554101944 | test loss: 0.04819049686193466\n",
            "OrderedDict([('weights', tensor([0.5972])), ('bias', tensor([0.3433]))])\n",
            "epoch: 120 | Loss : 0.01758546568453312 | test loss: 0.04060482233762741\n",
            "OrderedDict([('weights', tensor([0.6141])), ('bias', tensor([0.3358]))])\n",
            "epoch: 130 | Loss : 0.014155393466353416 | test loss: 0.03233227878808975\n",
            "OrderedDict([('weights', tensor([0.6313])), ('bias', tensor([0.3288]))])\n",
            "epoch: 140 | Loss : 0.010716589167714119 | test loss: 0.024059748277068138\n",
            "OrderedDict([('weights', tensor([0.6485])), ('bias', tensor([0.3218]))])\n",
            "epoch: 150 | Loss : 0.0072835334576666355 | test loss: 0.016474086791276932\n",
            "OrderedDict([('weights', tensor([0.6654])), ('bias', tensor([0.3143]))])\n",
            "epoch: 160 | Loss : 0.0038517764769494534 | test loss: 0.008201557211577892\n",
            "OrderedDict([('weights', tensor([0.6826])), ('bias', tensor([0.3073]))])\n",
            "epoch: 170 | Loss : 0.008932482451200485 | test loss: 0.005023092031478882\n",
            "OrderedDict([('weights', tensor([0.6951])), ('bias', tensor([0.2993]))])\n",
            "epoch: 180 | Loss : 0.008932482451200485 | test loss: 0.005023092031478882\n",
            "OrderedDict([('weights', tensor([0.6951])), ('bias', tensor([0.2993]))])\n",
            "epoch: 190 | Loss : 0.008932482451200485 | test loss: 0.005023092031478882\n",
            "OrderedDict([('weights', tensor([0.6951])), ('bias', tensor([0.2993]))])\n",
            "epoch: 200 | Loss : 0.008932482451200485 | test loss: 0.005023092031478882\n",
            "OrderedDict([('weights', tensor([0.6951])), ('bias', tensor([0.2993]))])\n"
          ]
        }
      ]
    },
    {
      "cell_type": "markdown",
      "source": [
        "before training loop the value for\n",
        "* weight = 0.3367\n",
        "* bias= o.1288\n",
        "\n",
        "after training loop\n",
        "* weight= 0.6990\n",
        "* bias= 0.3093"
      ],
      "metadata": {
        "id": "KCDXaveBuXz1"
      }
    },
    {
      "cell_type": "code",
      "source": [
        "print(f\"the value for weight parameter we want after traning : {weight}\")\n",
        "print(f\" the value for bias parameter we want after traning : {bias}\")\n",
        "#\n",
        "\n"
      ],
      "metadata": {
        "colab": {
          "base_uri": "https://localhost:8080/"
        },
        "id": "dtdx2AJPqokF",
        "outputId": "f1754336-d6b3-402d-832e-1b43c757e9d4"
      },
      "execution_count": 693,
      "outputs": [
        {
          "output_type": "stream",
          "name": "stdout",
          "text": [
            "the value for weight parameter we want after traning : 0.7\n",
            " the value for bias parameter we want after traning : 0.3\n"
          ]
        }
      ]
    },
    {
      "cell_type": "code",
      "source": [
        "print(f\"the value of parameters after training\")\n",
        "model_0.state_dict()\n"
      ],
      "metadata": {
        "colab": {
          "base_uri": "https://localhost:8080/"
        },
        "id": "HaQj_p4_rJrG",
        "outputId": "ed163006-5fb3-49c6-911a-e4218fb1bd53"
      },
      "execution_count": 694,
      "outputs": [
        {
          "output_type": "stream",
          "name": "stdout",
          "text": [
            "the value of parameters after training\n"
          ]
        },
        {
          "output_type": "execute_result",
          "data": {
            "text/plain": [
              "OrderedDict([('weights', tensor([0.6990])), ('bias', tensor([0.3093]))])"
            ]
          },
          "metadata": {},
          "execution_count": 694
        }
      ]
    },
    {
      "cell_type": "code",
      "source": [
        " with torch.inference_mode():\n",
        "  y_preds_new=model_0(X_test)\n"
      ],
      "metadata": {
        "id": "EnWWxMC9BC1G"
      },
      "execution_count": 695,
      "outputs": []
    },
    {
      "cell_type": "markdown",
      "source": [],
      "metadata": {
        "id": "-Du7oEievLpE"
      }
    },
    {
      "cell_type": "code",
      "source": [
        "# a scatter plot formed on the predictions / data we have before traning"
      ],
      "metadata": {
        "id": "jEsz-Em5vPMJ"
      },
      "execution_count": 696,
      "outputs": []
    },
    {
      "cell_type": "code",
      "source": [
        "print(f\"old prediction plot: {y_preds}\")\n",
        "plot_predictions(prediction=y_preds);\n"
      ],
      "metadata": {
        "colab": {
          "base_uri": "https://localhost:8080/",
          "height": 634
        },
        "id": "PTrJLsqTBDUM",
        "outputId": "38f7ebe1-e19b-4330-a594-61344dc020c6"
      },
      "execution_count": 697,
      "outputs": [
        {
          "output_type": "stream",
          "name": "stdout",
          "text": [
            "old prediction plot: tensor([[0.3982],\n",
            "        [0.4049],\n",
            "        [0.4116],\n",
            "        [0.4184],\n",
            "        [0.4251],\n",
            "        [0.4318],\n",
            "        [0.4386],\n",
            "        [0.4453],\n",
            "        [0.4520],\n",
            "        [0.4588]])\n"
          ]
        },
        {
          "output_type": "display_data",
          "data": {
            "text/plain": [
              "<Figure size 1000x700 with 1 Axes>"
            ],
            "image/png": "[encoded data removed]"
          },
          "metadata": {}
        }
      ]
    },
    {
      "cell_type": "code",
      "source": [
        "print(\"what predictions should be \")\n",
        "Y_test"
      ],
      "metadata": {
        "colab": {
          "base_uri": "https://localhost:8080/"
        },
        "id": "eh4ThF6QD_vg",
        "outputId": "234115f2-3d21-4447-a997-9e40f3bcd846"
      },
      "execution_count": 698,
      "outputs": [
        {
          "output_type": "stream",
          "name": "stdout",
          "text": [
            "what predictions should be \n"
          ]
        },
        {
          "output_type": "execute_result",
          "data": {
            "text/plain": [
              "tensor([[0.8600],\n",
              "        [0.8740],\n",
              "        [0.8880],\n",
              "        [0.9020],\n",
              "        [0.9160],\n",
              "        [0.9300],\n",
              "        [0.9440],\n",
              "        [0.9580],\n",
              "        [0.9720],\n",
              "        [0.9860]])"
            ]
          },
          "metadata": {},
          "execution_count": 698
        }
      ]
    },
    {
      "cell_type": "code",
      "source": [
        "print(f\"new predictiond: { y_preds_new}\")\n",
        "plot_predictions(prediction= y_preds_new)"
      ],
      "metadata": {
        "colab": {
          "base_uri": "https://localhost:8080/",
          "height": 634
        },
        "id": "c5WDNAOLA9w2",
        "outputId": "d19ce002-0a80-4f2c-8268-e14346e4bbe4"
      },
      "execution_count": 699,
      "outputs": [
        {
          "output_type": "stream",
          "name": "stdout",
          "text": [
            "new predictiond: tensor([[0.8685],\n",
            "        [0.8825],\n",
            "        [0.8965],\n",
            "        [0.9105],\n",
            "        [0.9245],\n",
            "        [0.9384],\n",
            "        [0.9524],\n",
            "        [0.9664],\n",
            "        [0.9804],\n",
            "        [0.9944]])\n"
          ]
        },
        {
          "output_type": "display_data",
          "data": {
            "text/plain": [
              "<Figure size 1000x700 with 1 Axes>"
            ],
            "image/png": "[encoded data removed]"
          },
          "metadata": {}
        }
      ]
    },
    {
      "cell_type": "code",
      "source": [
        "## keep track of model's training and testing\n",
        "epoch_count,train_loss_values,test_loss_values"
      ],
      "metadata": {
        "colab": {
          "base_uri": "https://localhost:8080/"
        },
        "id": "BZfKvdujx5E9",
        "outputId": "c63f0792-36d6-4254-ca64-c6caca27724f"
      },
      "execution_count": 700,
      "outputs": [
        {
          "output_type": "execute_result",
          "data": {
            "text/plain": [
              "([0,\n",
              "  10,\n",
              "  20,\n",
              "  30,\n",
              "  40,\n",
              "  50,\n",
              "  60,\n",
              "  70,\n",
              "  80,\n",
              "  90,\n",
              "  100,\n",
              "  110,\n",
              "  120,\n",
              "  130,\n",
              "  140,\n",
              "  150,\n",
              "  160,\n",
              "  170,\n",
              "  180,\n",
              "  190,\n",
              "  200],\n",
              " [tensor(0.3129, grad_fn=<MeanBackward0>),\n",
              "  tensor(0.1977, grad_fn=<MeanBackward0>),\n",
              "  tensor(0.0891, grad_fn=<MeanBackward0>),\n",
              "  tensor(0.0531, grad_fn=<MeanBackward0>),\n",
              "  tensor(0.0454, grad_fn=<MeanBackward0>),\n",
              "  tensor(0.0417, grad_fn=<MeanBackward0>),\n",
              "  tensor(0.0382, grad_fn=<MeanBackward0>),\n",
              "  tensor(0.0348, grad_fn=<MeanBackward0>),\n",
              "  tensor(0.0313, grad_fn=<MeanBackward0>),\n",
              "  tensor(0.0279, grad_fn=<MeanBackward0>),\n",
              "  tensor(0.0245, grad_fn=<MeanBackward0>),\n",
              "  tensor(0.0210, grad_fn=<MeanBackward0>),\n",
              "  tensor(0.0176, grad_fn=<MeanBackward0>),\n",
              "  tensor(0.0142, grad_fn=<MeanBackward0>),\n",
              "  tensor(0.0107, grad_fn=<MeanBackward0>),\n",
              "  tensor(0.0073, grad_fn=<MeanBackward0>),\n",
              "  tensor(0.0039, grad_fn=<MeanBackward0>),\n",
              "  tensor(0.0089, grad_fn=<MeanBackward0>),\n",
              "  tensor(0.0089, grad_fn=<MeanBackward0>),\n",
              "  tensor(0.0089, grad_fn=<MeanBackward0>),\n",
              "  tensor(0.0089, grad_fn=<MeanBackward0>)],\n",
              " [tensor(0.4811),\n",
              "  tensor(0.3464),\n",
              "  tensor(0.2173),\n",
              "  tensor(0.1446),\n",
              "  tensor(0.1136),\n",
              "  tensor(0.0992),\n",
              "  tensor(0.0889),\n",
              "  tensor(0.0806),\n",
              "  tensor(0.0723),\n",
              "  tensor(0.0647),\n",
              "  tensor(0.0565),\n",
              "  tensor(0.0482),\n",
              "  tensor(0.0406),\n",
              "  tensor(0.0323),\n",
              "  tensor(0.0241),\n",
              "  tensor(0.0165),\n",
              "  tensor(0.0082),\n",
              "  tensor(0.0050),\n",
              "  tensor(0.0050),\n",
              "  tensor(0.0050),\n",
              "  tensor(0.0050)])"
            ]
          },
          "metadata": {},
          "execution_count": 700
        }
      ]
    },
    {
      "cell_type": "code",
      "source": [
        "#plot the loss curves\n",
        "#plt.plot() does not plot loss curvers when values are tensor\n",
        "# first we need to convert them into numpy\n",
        "import numpy as np\n",
        "epoch_count\n",
        "test_loss_values\n",
        "numpy_loss=np.array(torch.tensor(train_loss_values).numpy())\n",
        "#converted into numpy\n",
        "print(numpy_loss)"
      ],
      "metadata": {
        "colab": {
          "base_uri": "https://localhost:8080/"
        },
        "id": "wFjZUhy30RV6",
        "outputId": "0545191f-52cf-4606-f2c9-611416d9b684"
      },
      "execution_count": 701,
      "outputs": [
        {
          "output_type": "stream",
          "name": "stdout",
          "text": [
            "[0.31288138 0.19767132 0.08908726 0.05314853 0.04543797 0.04167863\n",
            " 0.03818933 0.0347609  0.03132383 0.0278874  0.02445896 0.02102021\n",
            " 0.01758547 0.01415539 0.01071659 0.00728353 0.00385178 0.00893248\n",
            " 0.00893248 0.00893248 0.00893248]\n"
          ]
        }
      ]
    },
    {
      "cell_type": "code",
      "source": [
        "#plot loss curves\n",
        "plt.plot(epoch_count , numpy_loss , c='pink',label=\"Train loss\")\n",
        "plt.plot(epoch_count,test_loss_values , c=\"yellow\", label=\"Test loss\")\n",
        "plt.title(\"Training and Testing loss curves\")\n",
        "plt.xlabel(\"Epochs\")\n",
        "plt.ylabel(\"Loss\")\n",
        "plt.legend();"
      ],
      "metadata": {
        "colab": {
          "base_uri": "https://localhost:8080/",
          "height": 472
        },
        "id": "56V2m6i93Uno",
        "outputId": "47d346d4-e2e7-4d55-b570-de834c929da6"
      },
      "execution_count": 702,
      "outputs": [
        {
          "output_type": "display_data",
          "data": {
            "text/plain": [
              "<Figure size 640x480 with 1 Axes>"
            ],
            "image/png": "[encoded data removed]"
          },
          "metadata": {}
        }
      ]
    },
    {
      "cell_type": "markdown",
      "source": [
        "### saving and loading model in pytorch\n",
        "We need to save our model to get rid from runing the entire model's cells again,and again .\n",
        "* There are three main methods you should know about saving and loading models in Pytorch\n",
        "\n",
        "1. `torch.save()`- saves a Pytorch object in pytorch's pickle format\n",
        "2. `torch.load()` - allows to load a saved Pytorch object\n",
        "3. `torch.nn.module.load_state_dict()` - allows to load a model's saved state dictionary\n"
      ],
      "metadata": {
        "id": "u38i8OkE8TzU"
      }
    },
    {
      "cell_type": "code",
      "source": [
        "# saving our Pytorch model\n",
        "from pathlib import Path\n",
        "\n",
        "# 1. create model's directory\n",
        "MODEL_PATH=Path(\"models\")\n",
        "MODEL_PATH.mkdir(parents=True,exist_ok=True)\n",
        "\n",
        "# 2. create model save path\n",
        "MODEL_NAME=\"-1_pytorch_workflow_model_0.pth\"\n",
        "MODEL_SAVE_PATH=MODEL_PATH/MODEL_NAME\n",
        "\n",
        "#save the model state dict\n",
        "print(f\"saving model to : {MODEL_SAVE_PATH}\")\n",
        "torch.save(obj=model_0.state_dict(),f=MODEL_SAVE_PATH)\n",
        "MODEL_SAVE_PATH"
      ],
      "metadata": {
        "colab": {
          "base_uri": "https://localhost:8080/"
        },
        "id": "X_0N37rM4cFZ",
        "outputId": "6b87437f-87fc-4f43-99e4-52262453e55a"
      },
      "execution_count": 703,
      "outputs": [
        {
          "output_type": "stream",
          "name": "stdout",
          "text": [
            "saving model to : models/-1_pytorch_workflow_model_0.pth\n"
          ]
        },
        {
          "output_type": "execute_result",
          "data": {
            "text/plain": [
              "PosixPath('models/-1_pytorch_workflow_model_0.pth')"
            ]
          },
          "metadata": {},
          "execution_count": 703
        }
      ]
    },
    {
      "cell_type": "markdown",
      "source": [
        "### Loading pytorch model\n",
        "since we saved our model's `state_dict()` rather the entire model ,we will create a new instance f our class and load the saved `state_dict()` into that"
      ],
      "metadata": {
        "id": "K9cM6AgBCOoL"
      }
    },
    {
      "cell_type": "code",
      "source": [
        "model_0.state_dict()\n"
      ],
      "metadata": {
        "colab": {
          "base_uri": "https://localhost:8080/"
        },
        "id": "-BYzxVQc8S8u",
        "outputId": "67a165d0-3a26-4c4a-85c9-90345a0456b2"
      },
      "execution_count": 704,
      "outputs": [
        {
          "output_type": "execute_result",
          "data": {
            "text/plain": [
              "OrderedDict([('weights', tensor([0.6990])), ('bias', tensor([0.3093]))])"
            ]
          },
          "metadata": {},
          "execution_count": 704
        }
      ]
    },
    {
      "cell_type": "code",
      "source": [
        "# to load in a saved state_dict we have to make a new instance of our model's class\n",
        "loaded_model_0=linearregression()\n",
        "\n",
        "#load the saved state_dict of model_0(this will update the new instances with new parameters )\n",
        "loaded_model_0.load_state_dict(torch.load(f=MODEL_SAVE_PATH))"
      ],
      "metadata": {
        "colab": {
          "base_uri": "https://localhost:8080/"
        },
        "id": "Asz7sPV-DFph",
        "outputId": "08246f30-49e4-4163-bfec-3e059d7a86a3"
      },
      "execution_count": 705,
      "outputs": [
        {
          "output_type": "execute_result",
          "data": {
            "text/plain": [
              "<All keys matched successfully>"
            ]
          },
          "metadata": {},
          "execution_count": 705
        }
      ]
    },
    {
      "cell_type": "code",
      "source": [
        " loaded_model_0.state_dict()"
      ],
      "metadata": {
        "colab": {
          "base_uri": "https://localhost:8080/"
        },
        "id": "7t4Eea7-TiVq",
        "outputId": "7ce53adc-f9fd-49ad-b8cd-9b7bafca5063"
      },
      "execution_count": 706,
      "outputs": [
        {
          "output_type": "execute_result",
          "data": {
            "text/plain": [
              "OrderedDict([('weights', tensor([0.6990])), ('bias', tensor([0.3093]))])"
            ]
          },
          "metadata": {},
          "execution_count": 706
        }
      ]
    },
    {
      "cell_type": "code",
      "source": [
        "#making some prediction with our loaded model\n",
        "loaded_model_0.eval()\n",
        "with torch.inference_mode():\n",
        "  loaded_model_preds=loaded_model_0(X_test)\n",
        "\n",
        "loaded_model_preds"
      ],
      "metadata": {
        "colab": {
          "base_uri": "https://localhost:8080/"
        },
        "id": "QMB9q_4dWPWT",
        "outputId": "c840df36-843f-4df4-cb69-c7c5bb59e4c8"
      },
      "execution_count": 707,
      "outputs": [
        {
          "output_type": "execute_result",
          "data": {
            "text/plain": [
              "tensor([[0.8685],\n",
              "        [0.8825],\n",
              "        [0.8965],\n",
              "        [0.9105],\n",
              "        [0.9245],\n",
              "        [0.9384],\n",
              "        [0.9524],\n",
              "        [0.9664],\n",
              "        [0.9804],\n",
              "        [0.9944]])"
            ]
          },
          "metadata": {},
          "execution_count": 707
        }
      ]
    },
    {
      "cell_type": "code",
      "source": [
        "model_0.eval()\n",
        "with torch.inference_mode():\n",
        "  y_preds=model_0(X_test)\n",
        "\n",
        "y_preds"
      ],
      "metadata": {
        "id": "LqTHnEjyX1wQ",
        "colab": {
          "base_uri": "https://localhost:8080/"
        },
        "outputId": "91f30b6a-ac5f-4e8a-ced0-b1c380f0ce85"
      },
      "execution_count": 708,
      "outputs": [
        {
          "output_type": "execute_result",
          "data": {
            "text/plain": [
              "tensor([[0.8685],\n",
              "        [0.8825],\n",
              "        [0.8965],\n",
              "        [0.9105],\n",
              "        [0.9245],\n",
              "        [0.9384],\n",
              "        [0.9524],\n",
              "        [0.9664],\n",
              "        [0.9804],\n",
              "        [0.9944]])"
            ]
          },
          "metadata": {},
          "execution_count": 708
        }
      ]
    },
    {
      "cell_type": "code",
      "source": [
        "# comparing loaded model predictions with actual model predictiions\n",
        "y_preds==loaded_model_preds"
      ],
      "metadata": {
        "colab": {
          "base_uri": "https://localhost:8080/"
        },
        "id": "qxvQrp6KXKfx",
        "outputId": "024e07f4-86bb-4290-cdcd-3cedffb140a2"
      },
      "execution_count": 709,
      "outputs": [
        {
          "output_type": "execute_result",
          "data": {
            "text/plain": [
              "tensor([[True],\n",
              "        [True],\n",
              "        [True],\n",
              "        [True],\n",
              "        [True],\n",
              "        [True],\n",
              "        [True],\n",
              "        [True],\n",
              "        [True],\n",
              "        [True]])"
            ]
          },
          "metadata": {},
          "execution_count": 709
        }
      ]
    },
    {
      "cell_type": "markdown",
      "source": [
        "#6 putting it all together\n",
        "lets go back through the steps above and see it all in one place\n",
        "1. get Data\n",
        "2. build or pick a model\n",
        "3. fit the model on training data\n",
        "4. evaluate the model\n",
        "5. make prediction\n",
        "6. improve predictions\n",
        "7. save and load trained model\n"
      ],
      "metadata": {
        "id": "LVCFwJ5mXeUk"
      }
    },
    {
      "cell_type": "markdown",
      "source": [
        "### 6.0 libraries\n"
      ],
      "metadata": {
        "id": "5khi-3BubuxG"
      }
    },
    {
      "cell_type": "code",
      "source": [
        "import torch\n",
        "from torch import nn\n",
        "import matplotlib.pyplot as plt\n",
        "\n",
        "# check the version\n",
        "torch.__version__"
      ],
      "metadata": {
        "colab": {
          "base_uri": "https://localhost:8080/",
          "height": 35
        },
        "id": "LpCSazXSb8gS",
        "outputId": "a9f66750-8a47-47db-a8e1-c2a1b11200af"
      },
      "execution_count": 710,
      "outputs": [
        {
          "output_type": "execute_result",
          "data": {
            "text/plain": [
              "'2.6.0+cu124'"
            ],
            "application/vnd.google.colaboratory.intrinsic+json": {
              "type": "string"
            }
          },
          "metadata": {},
          "execution_count": 710
        }
      ]
    },
    {
      "cell_type": "markdown",
      "source": [
        "create device-agnostic code\n",
        "* this means if GPU is avaiable and we got the available GPU, our code will use it (for faster computing )\n",
        "* if no GPU is avaiable , the code wil default to using CPU"
      ],
      "metadata": {
        "id": "lpJOcMQSpIyX"
      }
    },
    {
      "cell_type": "code",
      "source": [
        "# set up device agnostic code\n",
        "device=\"cuda\" if torch.cuda.is_available() else\"CPU\"\n",
        "print(device)\n"
      ],
      "metadata": {
        "colab": {
          "base_uri": "https://localhost:8080/"
        },
        "id": "7m6OQudUpHtP",
        "outputId": "0365c5cf-449d-4c77-f826-77573872b71e"
      },
      "execution_count": 711,
      "outputs": [
        {
          "output_type": "stream",
          "name": "stdout",
          "text": [
            "CPU\n"
          ]
        }
      ]
    },
    {
      "cell_type": "markdown",
      "source": [
        "### 6.1 Data preparing and loading\n"
      ],
      "metadata": {
        "id": "W3l7poCdcZO2"
      }
    },
    {
      "cell_type": "code",
      "source": [
        "#create known parameters\n",
        "weight=0.7\n",
        "bias=0.3\n",
        "\n",
        "#create data using linear regression\n",
        "# creating X,Y (features and labels)\n",
        "X =torch.arange(start=0,end=1,step=0.02).unsqueeze(dim=1)\n",
        "Y=bias+(weight*X)\n",
        "\n",
        "#checking how many data points we have\n",
        "len(X),len(Y)"
      ],
      "metadata": {
        "colab": {
          "base_uri": "https://localhost:8080/"
        },
        "id": "IHV2L-i6ckwa",
        "outputId": "928676b9-c776-42ed-e5c5-a5d3e0b13373"
      },
      "execution_count": 712,
      "outputs": [
        {
          "output_type": "execute_result",
          "data": {
            "text/plain": [
              "(50, 50)"
            ]
          },
          "metadata": {},
          "execution_count": 712
        }
      ]
    },
    {
      "cell_type": "code",
      "source": [
        "# getting the overview of data\n",
        "#seeing first 15 values of features and labels\n",
        "X[:15],Y[:15]"
      ],
      "metadata": {
        "id": "wt6HQn4xdQ0X",
        "colab": {
          "base_uri": "https://localhost:8080/"
        },
        "outputId": "173a0fc2-12f9-489d-9711-4c84a5f8f4dc"
      },
      "execution_count": 713,
      "outputs": [
        {
          "output_type": "execute_result",
          "data": {
            "text/plain": [
              "(tensor([[0.0000],\n",
              "         [0.0200],\n",
              "         [0.0400],\n",
              "         [0.0600],\n",
              "         [0.0800],\n",
              "         [0.1000],\n",
              "         [0.1200],\n",
              "         [0.1400],\n",
              "         [0.1600],\n",
              "         [0.1800],\n",
              "         [0.2000],\n",
              "         [0.2200],\n",
              "         [0.2400],\n",
              "         [0.2600],\n",
              "         [0.2800]]),\n",
              " tensor([[0.3000],\n",
              "         [0.3140],\n",
              "         [0.3280],\n",
              "         [0.3420],\n",
              "         [0.3560],\n",
              "         [0.3700],\n",
              "         [0.3840],\n",
              "         [0.3980],\n",
              "         [0.4120],\n",
              "         [0.4260],\n",
              "         [0.4400],\n",
              "         [0.4540],\n",
              "         [0.4680],\n",
              "         [0.4820],\n",
              "         [0.4960]]))"
            ]
          },
          "metadata": {},
          "execution_count": 713
        }
      ]
    },
    {
      "cell_type": "markdown",
      "source": [
        "Training and Testing split"
      ],
      "metadata": {
        "id": "T2CpU1MgsAAN"
      }
    },
    {
      "cell_type": "code",
      "source": [
        "#data split\n",
        "tran_split=int(0.8*len(X))\n",
        "X_train,Y_train=X[:train_split],Y[:train_split]\n",
        "X_test,Y_test=X[train_split:],Y[train_split:]\n",
        "len(X_train),len(Y_train),len(X_test),len(Y_test)"
      ],
      "metadata": {
        "colab": {
          "base_uri": "https://localhost:8080/"
        },
        "id": "MvTwTDXTrigc",
        "outputId": "dbd60e4b-3b17-47e8-caf8-528f838edf22"
      },
      "execution_count": 714,
      "outputs": [
        {
          "output_type": "execute_result",
          "data": {
            "text/plain": [
              "(40, 40, 10, 10)"
            ]
          },
          "metadata": {},
          "execution_count": 714
        }
      ]
    },
    {
      "cell_type": "markdown",
      "source": [
        "Plot predictions"
      ],
      "metadata": {
        "id": "A8mvw4WftcCq"
      }
    },
    {
      "cell_type": "code",
      "source": [
        "#creating a function to plot prediction and data\n",
        "def plot_prediction(X_train=X_train,Y_train=Y_train,X_test=X_test,Y_test=Y_test,prediction=None):\n",
        "\n",
        "  plt.figure(figsize=(15,7))\n",
        "\n",
        "  plt.scatter(X_train,Y_train , c=\"pink\" , label=\"Training data\")\n",
        "  plt.scatter(X_test,Y_test, c=\"brown\" , label=\"testing Data\")\n",
        "\n",
        "\n",
        "  if prediction is not None:\n",
        "    plt.scatter(X_test,prediction , c=\"blue\" , label =\"predictions\")\n",
        "\n",
        "  plt.legend()\n",
        "  plt.show()\n",
        "\n",
        "plot_prediction()"
      ],
      "metadata": {
        "colab": {
          "base_uri": "https://localhost:8080/",
          "height": 319
        },
        "id": "YYhV0sdVtLxK",
        "outputId": "1c60f366-2618-49a2-9a79-3f2b23c6b996"
      },
      "execution_count": 715,
      "outputs": [
        {
          "output_type": "display_data",
          "data": {
            "text/plain": [
              "<Figure size 1500x700 with 1 Axes>"
            ],
            "image/png": "[encoded data removed]"
          },
          "metadata": {}
        }
      ]
    },
    {
      "cell_type": "markdown",
      "source": [
        "### 6.2 Building pytorch linear model"
      ],
      "metadata": {
        "id": "o_BEp8aKw0W2"
      }
    },
    {
      "cell_type": "code",
      "source": [
        "# create a linear model by subclassing nn.Module\n",
        "class LinearRegressionModelV2(nn.Module):\n",
        "  def __init__(self):\n",
        "    super().__init__()\n",
        "    #use nn.linear for creating model's parameters\n",
        "    self.linear_layer=nn.Linear(in_features=1,out_features=1)\n",
        "  def forward(self,X:torch.tensor): # -> take tensor as input and return tensor\n",
        "    return self.linear_layer(X)\n",
        "\n",
        "\n",
        "\n",
        "\n"
      ],
      "metadata": {
        "id": "KHew0PSBwVDR"
      },
      "execution_count": 716,
      "outputs": []
    },
    {
      "cell_type": "code",
      "source": [
        "torch.manual_seed(42)\n",
        "model_1=LinearRegressionModelV2()\n",
        "model_1,model_1.state_dict()"
      ],
      "metadata": {
        "colab": {
          "base_uri": "https://localhost:8080/"
        },
        "id": "S0w51I4IvXTh",
        "outputId": "d8a1e8fe-9832-4fed-f937-80d59a6a2ef6"
      },
      "execution_count": 717,
      "outputs": [
        {
          "output_type": "execute_result",
          "data": {
            "text/plain": [
              "(LinearRegressionModelV2(\n",
              "   (linear_layer): Linear(in_features=1, out_features=1, bias=True)\n",
              " ),\n",
              " OrderedDict([('linear_layer.weight', tensor([[0.7645]])),\n",
              "              ('linear_layer.bias', tensor([0.8300]))]))"
            ]
          },
          "metadata": {},
          "execution_count": 717
        }
      ]
    },
    {
      "cell_type": "code",
      "source": [
        "# checking the current device\n",
        "next(model_1.parameters()).device"
      ],
      "metadata": {
        "colab": {
          "base_uri": "https://localhost:8080/"
        },
        "id": "5Zhe9L570PEg",
        "outputId": "1341fea0-6c6b-46f4-c973-f352e583f6ac"
      },
      "execution_count": 718,
      "outputs": [
        {
          "output_type": "execute_result",
          "data": {
            "text/plain": [
              "device(type='cpu')"
            ]
          },
          "metadata": {},
          "execution_count": 718
        }
      ]
    },
    {
      "cell_type": "code",
      "source": [
        "# set the model to use target device (GPU)\n",
        "# in our case GPU is not available so this will not work\n",
        "\n",
        "#model_1.to(device)\n",
        "#next(model_1.parameters()).device"
      ],
      "metadata": {
        "id": "gYwVO0Zz0q7t"
      },
      "execution_count": 719,
      "outputs": []
    },
    {
      "cell_type": "markdown",
      "source": [
        "### Training\n",
        "Things required for training\n",
        "* loss function\n",
        "* Optimizer\n",
        "* Training loop\n",
        "* Testing loop"
      ],
      "metadata": {
        "id": "_XiLDoo72g6M"
      }
    },
    {
      "cell_type": "code",
      "source": [
        "# setup loss function\n",
        "loss_fn=nn.L1Loss() # mean absolute error\n",
        "\n",
        "# setup optimizer\n",
        "opt=torch.optim.SGD(params=model_1.parameters(),lr=0.01)\n"
      ],
      "metadata": {
        "id": "Jg4Z81B9v1y3"
      },
      "execution_count": 720,
      "outputs": []
    },
    {
      "cell_type": "code",
      "source": [
        "# training loop\n",
        "torch.manual_seed(42)\n",
        "epochs=130\n",
        "\n",
        "\n",
        "# if GPU available we need to put data on the same  target device(device agnostic code for data)\n",
        "\n",
        "\"\"\"\n",
        "X_train = X_train.to(device)\n",
        "Y_test_train = Y_train.to(device)\n",
        "X_test = X_test.to(device)\n",
        "Y_test = Y_test.to(device)\n",
        "\"\"\"\n",
        "\n",
        "\n",
        "\n",
        "\n",
        "for epoch in range(epochs):\n",
        "  # 1 train a model\n",
        "  model_1.train()\n",
        "\n",
        "  # 2 forward pass\n",
        "  y_pred=model_1(X_train)\n",
        "\n",
        "  #3 calculate the loss\n",
        "  loss=loss_fn(y_pred,Y_train)\n",
        "\n",
        "  # 4 optimizer zero grad\n",
        "  opt.zero_grad()\n",
        "\n",
        "  # 5 backpropagation\n",
        "  loss.backward()\n",
        "\n",
        "  #optimizer step\n",
        "  opt.step()\n",
        "\n",
        "\n",
        "\n",
        "\n",
        "  # testing loop\n",
        "  model_1.eval()\n",
        "  with torch.inference_mode():\n",
        "    Y_test_pred=model_1(X_test)\n",
        "\n",
        "  #calculate the test loss\n",
        "    test_loss=loss_fn(test_pred,Y_test)\n",
        "\n",
        "  #printing what is hapening\n",
        "  if epoch%10==0:\n",
        "    print(f\"epoch: {epoch} | loss: {loss} | test loss: {test_loss}\")"
      ],
      "metadata": {
        "colab": {
          "base_uri": "https://localhost:8080/"
        },
        "id": "Kx0YifNs3ZQo",
        "outputId": "8970995c-3de1-40e4-b188-5db13263ef0e"
      },
      "execution_count": 721,
      "outputs": [
        {
          "output_type": "stream",
          "name": "stdout",
          "text": [
            "epoch: 0 | loss: 0.5551779866218567 | test loss: 0.008447891101241112\n",
            "epoch: 10 | loss: 0.4399680495262146 | test loss: 0.008447891101241112\n",
            "epoch: 20 | loss: 0.3247582018375397 | test loss: 0.008447891101241112\n",
            "epoch: 30 | loss: 0.20954827964305878 | test loss: 0.008447891101241112\n",
            "epoch: 40 | loss: 0.09433844685554504 | test loss: 0.008447891101241112\n",
            "epoch: 50 | loss: 0.023886386305093765 | test loss: 0.008447891101241112\n",
            "epoch: 60 | loss: 0.0199567973613739 | test loss: 0.008447891101241112\n",
            "epoch: 70 | loss: 0.016517987474799156 | test loss: 0.008447891101241112\n",
            "epoch: 80 | loss: 0.013089170679450035 | test loss: 0.008447891101241112\n",
            "epoch: 90 | loss: 0.009653178043663502 | test loss: 0.008447891101241112\n",
            "epoch: 100 | loss: 0.006215679459273815 | test loss: 0.008447891101241112\n",
            "epoch: 110 | loss: 0.002787243574857712 | test loss: 0.008447891101241112\n",
            "epoch: 120 | loss: 0.0012645035749301314 | test loss: 0.008447891101241112\n"
          ]
        }
      ]
    },
    {
      "cell_type": "markdown",
      "source": [
        "###prediction and evaluation"
      ],
      "metadata": {
        "id": "6pRGXUQI6HeL"
      }
    },
    {
      "cell_type": "code",
      "source": [
        "# evaluation\n",
        "model_1.eval()\n",
        "with torch.inference_mode():\n",
        "  pred=model_1(X_test)\n",
        "\n",
        "\n",
        "print(f\"predictions by model_1 : \")\n",
        "pred"
      ],
      "metadata": {
        "colab": {
          "base_uri": "https://localhost:8080/"
        },
        "id": "5FTiPsSi786Z",
        "outputId": "dc83397d-8e41-4a0a-e8a8-5c7b9c6ecc00"
      },
      "execution_count": 722,
      "outputs": [
        {
          "output_type": "stream",
          "name": "stdout",
          "text": [
            "predictions by model_1 : \n"
          ]
        },
        {
          "output_type": "execute_result",
          "data": {
            "text/plain": [
              "tensor([[0.8600],\n",
              "        [0.8739],\n",
              "        [0.8878],\n",
              "        [0.9018],\n",
              "        [0.9157],\n",
              "        [0.9296],\n",
              "        [0.9436],\n",
              "        [0.9575],\n",
              "        [0.9714],\n",
              "        [0.9854]])"
            ]
          },
          "metadata": {},
          "execution_count": 722
        }
      ]
    },
    {
      "cell_type": "code",
      "source": [
        "#ploting predictions\n",
        "plot_prediction( prediction=Y_test_pred)"
      ],
      "metadata": {
        "colab": {
          "base_uri": "https://localhost:8080/",
          "height": 319
        },
        "id": "B5nStKaK8TNC",
        "outputId": "60fe71cd-8a22-40af-ffd2-0834fe0fb743"
      },
      "execution_count": 723,
      "outputs": [
        {
          "output_type": "display_data",
          "data": {
            "text/plain": [
              "<Figure size 1500x700 with 1 Axes>"
            ],
            "image/png": "[encoded data removed]"
          },
          "metadata": {}
        }
      ]
    },
    {
      "cell_type": "code",
      "source": [
        "model_1.state_dict()"
      ],
      "metadata": {
        "colab": {
          "base_uri": "https://localhost:8080/"
        },
        "id": "cUkeJ9yO9O7G",
        "outputId": "2efdab8c-8b8c-43b2-dbbf-67f76950f0f9"
      },
      "execution_count": 724,
      "outputs": [
        {
          "output_type": "execute_result",
          "data": {
            "text/plain": [
              "OrderedDict([('linear_layer.weight', tensor([[0.6968]])),\n",
              "             ('linear_layer.bias', tensor([0.3025]))])"
            ]
          },
          "metadata": {},
          "execution_count": 724
        }
      ]
    },
    {
      "cell_type": "markdown",
      "source": [
        "### Saving and loading the model\n"
      ],
      "metadata": {
        "id": "-2wXA0cNAS-j"
      }
    },
    {
      "cell_type": "code",
      "source": [
        "from pathlib import Path\n",
        "MODEL_PATH=Path(\"models\")\n",
        "MODEL_PATH.mkdir(parents=True , exist_ok=True)\n",
        "\n",
        "# model path\n",
        "MODE_NAME=\"ch_01_Pytorch_workflow_model_1,pth\"\n",
        "MODEL_SAVE_PATH=MODEL_PATH/MODEL_NAME\n",
        "\n",
        "#save the model state dict\n",
        "print(f\"saving model to : {MODEL_SAVE_PATH}\")\n",
        "torch.save(obj=model_1.state_dict(), f=MODEL_SAVE_PATH)"
      ],
      "metadata": {
        "colab": {
          "base_uri": "https://localhost:8080/"
        },
        "id": "sqAd7-SC-w0-",
        "outputId": "df64b0c0-6c28-40e7-c77f-bbce1cebebd9"
      },
      "execution_count": 725,
      "outputs": [
        {
          "output_type": "stream",
          "name": "stdout",
          "text": [
            "saving model to : models/-1_pytorch_workflow_model_0.pth\n"
          ]
        }
      ]
    },
    {
      "cell_type": "code",
      "source": [
        "model_1.state_dict()"
      ],
      "metadata": {
        "colab": {
          "base_uri": "https://localhost:8080/"
        },
        "id": "yNmXU4QRCJQZ",
        "outputId": "c5cca23b-dd33-45eb-e77a-424935c8cdf5"
      },
      "execution_count": 726,
      "outputs": [
        {
          "output_type": "execute_result",
          "data": {
            "text/plain": [
              "OrderedDict([('linear_layer.weight', tensor([[0.6968]])),\n",
              "             ('linear_layer.bias', tensor([0.3025]))])"
            ]
          },
          "metadata": {},
          "execution_count": 726
        }
      ]
    },
    {
      "cell_type": "code",
      "source": [
        "# load models\n",
        "#create instance of class\n",
        "loaded_model_1=LinearRegressionModelV2()\n",
        "\n",
        "#load the saved model_1 state dict\n",
        "loaded_model_1.load_state_dict(torch.load(f=MODEL_SAVE_PATH))\n",
        "\n"
      ],
      "metadata": {
        "colab": {
          "base_uri": "https://localhost:8080/"
        },
        "id": "anGAM3sHCNq4",
        "outputId": "b745e44b-cb32-4d0a-e32c-0563c39220db"
      },
      "execution_count": 727,
      "outputs": [
        {
          "output_type": "execute_result",
          "data": {
            "text/plain": [
              "<All keys matched successfully>"
            ]
          },
          "metadata": {},
          "execution_count": 727
        }
      ]
    },
    {
      "cell_type": "code",
      "source": [
        "loaded_model_1.state_dict()"
      ],
      "metadata": {
        "colab": {
          "base_uri": "https://localhost:8080/"
        },
        "id": "lA3_IyBhDF6O",
        "outputId": "ac784a2b-c218-4ccc-da06-32b32fa67cf1"
      },
      "execution_count": 728,
      "outputs": [
        {
          "output_type": "execute_result",
          "data": {
            "text/plain": [
              "OrderedDict([('linear_layer.weight', tensor([[0.6968]])),\n",
              "             ('linear_layer.bias', tensor([0.3025]))])"
            ]
          },
          "metadata": {},
          "execution_count": 728
        }
      ]
    },
    {
      "cell_type": "code",
      "source": [
        "#evaluate the loaded model\n",
        "loaded_model_1.eval()\n",
        "with torch.inference_mode():\n",
        "  loaded_model_1_preds=loaded_model_1(X_test)\n",
        "\n",
        "\n",
        "Y_test_pred==loaded_model_1_preds"
      ],
      "metadata": {
        "colab": {
          "base_uri": "https://localhost:8080/"
        },
        "id": "XZ2PKamZDTov",
        "outputId": "777f318e-da49-47e7-ab85-20f9c27856ec"
      },
      "execution_count": 730,
      "outputs": [
        {
          "output_type": "execute_result",
          "data": {
            "text/plain": [
              "tensor([[True],\n",
              "        [True],\n",
              "        [True],\n",
              "        [True],\n",
              "        [True],\n",
              "        [True],\n",
              "        [True],\n",
              "        [True],\n",
              "        [True],\n",
              "        [True]])"
            ]
          },
          "metadata": {},
          "execution_count": 730
        }
      ]
    },
    {
      "cell_type": "code",
      "source": [],
      "metadata": {
        "id": "bkeZeZBAD8FZ"
      },
      "execution_count": 729,
      "outputs": []
    }
  ]
}