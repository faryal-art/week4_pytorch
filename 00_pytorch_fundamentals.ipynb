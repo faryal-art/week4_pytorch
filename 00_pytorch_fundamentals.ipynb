{
  "nbformat": 4,
  "nbformat_minor": 0,
  "metadata": {
    "colab": {
      "provenance": [],
      "gpuType": "T4",
      "authorship_tag": "ABX9TyPyY4sxNDPUiQcXlpw+2Z5i",
      "include_colab_link": true
    },
    "kernelspec": {
      "name": "python3",
      "display_name": "Python 3"
    },
    "language_info": {
      "name": "python"
    },
    "accelerator": "GPU"
  },
  "cells": [
    {
      "cell_type": "markdown",
      "metadata": {
        "id": "view-in-github",
        "colab_type": "text"
      },
      "source": [
        "<a href=\"https://colab.research.google.com/github/faryal-art/week4_pytorch/blob/main/00_pytorch_fundamentals.ipynb\" target=\"_parent\"><img src=\"https://colab.research.google.com/assets/colab-badge.svg\" alt=\"Open In Colab\"/></a>"
      ]
    },
    {
      "cell_type": "markdown",
      "source": [
        "## chapter-00: PyTorch fundamentals\n",
        "Resource notebook:  https://www.learnpytorch.io/00_pytorch_fundamentals/"
      ],
      "metadata": {
        "id": "emIpsijPqajX"
      }
    },
    {
      "cell_type": "markdown",
      "source": [
        "### 1.   What is machine learning?\n",
        "Machine Learning is a way to teach computers to learn from data and make decisions without being directly programmed.\n",
        "\n",
        "### 2.  What is deep learning ?\n",
        "Deep Learning is a type of machine learning where computers learn from large amounts of data using multi-layered neural networks, just like how our brain works.\n",
        "\n",
        "### 3.  What is neural network?\n",
        "Neural Network is a model in deep learning made up of layers of connected nodes (like brain neurons) that helps a computer learn patterns from data to make predictions or decisions.\n",
        "\n",
        "### 4.  What is pytorch ?\n",
        "PyTorch is an open-source deep learning library that makes it easy to build, train, and test neural networks using Python — it's popular for its flexibility and simplicity.\n",
        "\n",
        "### 5. why we use it ?\n",
        "We use PyTorch because it makes building and training deep learning models:\n",
        "\n",
        "✅ Simple and intuitive with easy-to-read Python code\n",
        "\n",
        "✅ Flexible for experimentation and research\n",
        "\n",
        "✅ Powerful with GPU support using CUDA\n",
        "\n",
        "✅ Popular in the AI community with strong documentation and tools\n",
        "\n",
        "✅ Efficient for both beginners and professionals in machine learning and deep learning tasks\n",
        "\n",
        "In short: PyTorch helps us quickly build smart models that learn from data.\n",
        "### 6.  what are tensor ?\n",
        "A tensor is a container for numbers arranged in 0 or more dimensions — like a number, a list, a matrix, or even higher-dimensional data — and it's the basic data type used in PyTorch for building and training model\n",
        "\n"
      ],
      "metadata": {
        "id": "P_uQlebvY9Un"
      }
    },
    {
      "cell_type": "code",
      "source": [
        "### importing libraries\n",
        "import torch\n",
        "import pandas as pd\n",
        "import numpy as np\n",
        "import matplotlib.pyplot as plt\n",
        "print(torch.__version__)"
      ],
      "metadata": {
        "colab": {
          "base_uri": "https://localhost:8080/"
        },
        "id": "Olai6Gt-uZHU",
        "outputId": "283a600f-3dcd-40db-bf9d-cbb89e0a0bba"
      },
      "execution_count": 429,
      "outputs": [
        {
          "output_type": "stream",
          "name": "stdout",
          "text": [
            "2.6.0+cu124\n"
          ]
        }
      ]
    },
    {
      "cell_type": "markdown",
      "source": [
        "## Introduction to Tensors\n",
        "\n",
        "### creating tensors\n",
        "1. tensors are main building block of data / deep learning in general .\n",
        "2.  Tensors are way to represent data specially multi-dimensional data\n",
        "3. torch.tensor() is  a function to create tensor"
      ],
      "metadata": {
        "id": "rTzxyNIX0wsj"
      }
    },
    {
      "cell_type": "code",
      "source": [
        "#scalar\n",
        "scalar=torch.tensor(712)\n",
        "scalar\n"
      ],
      "metadata": {
        "colab": {
          "base_uri": "https://localhost:8080/"
        },
        "id": "Ihqfho_9u_iy",
        "outputId": "89e3c197-f999-4cde-9020-9700eb46da73"
      },
      "execution_count": 430,
      "outputs": [
        {
          "output_type": "execute_result",
          "data": {
            "text/plain": [
              "tensor(712)"
            ]
          },
          "metadata": {},
          "execution_count": 430
        }
      ]
    },
    {
      "cell_type": "code",
      "source": [
        "# to check number of  dimensions the tensor has\n",
        "scalar.ndim"
      ],
      "metadata": {
        "colab": {
          "base_uri": "https://localhost:8080/"
        },
        "id": "FvRh_e372I8Y",
        "outputId": "d3bdb46b-39f1-4f9d-d788-e1ff272e746a"
      },
      "execution_count": 431,
      "outputs": [
        {
          "output_type": "execute_result",
          "data": {
            "text/plain": [
              "0"
            ]
          },
          "metadata": {},
          "execution_count": 431
        }
      ]
    },
    {
      "cell_type": "code",
      "source": [
        "#to convert number back to python int/float\n",
        "scalar.item()"
      ],
      "metadata": {
        "colab": {
          "base_uri": "https://localhost:8080/"
        },
        "id": "2PSsf7Vs8Et6",
        "outputId": "a0438789-b279-45a1-bbe4-d822d27e8020"
      },
      "execution_count": 432,
      "outputs": [
        {
          "output_type": "execute_result",
          "data": {
            "text/plain": [
              "712"
            ]
          },
          "metadata": {},
          "execution_count": 432
        }
      ]
    },
    {
      "cell_type": "code",
      "source": [
        "vector=torch.tensor([7,12])\n",
        "vector"
      ],
      "metadata": {
        "colab": {
          "base_uri": "https://localhost:8080/"
        },
        "id": "ayyUQs3S8nE1",
        "outputId": "338f50b4-1f2c-45d8-a936-a74465df6a34"
      },
      "execution_count": 433,
      "outputs": [
        {
          "output_type": "execute_result",
          "data": {
            "text/plain": [
              "tensor([ 7, 12])"
            ]
          },
          "metadata": {},
          "execution_count": 433
        }
      ]
    },
    {
      "cell_type": "code",
      "source": [
        "vector.ndim"
      ],
      "metadata": {
        "colab": {
          "base_uri": "https://localhost:8080/"
        },
        "id": "-QkBpyGK9JOc",
        "outputId": "4d38b370-88ed-4143-e873-0dd46f7d4827"
      },
      "execution_count": 434,
      "outputs": [
        {
          "output_type": "execute_result",
          "data": {
            "text/plain": [
              "1"
            ]
          },
          "metadata": {},
          "execution_count": 434
        }
      ]
    },
    {
      "cell_type": "code",
      "source": [
        "vector.shape"
      ],
      "metadata": {
        "colab": {
          "base_uri": "https://localhost:8080/"
        },
        "id": "gH1W1eHp-fPW",
        "outputId": "dd12337f-1808-4a37-ce23-29ed3234ba5f"
      },
      "execution_count": 435,
      "outputs": [
        {
          "output_type": "execute_result",
          "data": {
            "text/plain": [
              "torch.Size([2])"
            ]
          },
          "metadata": {},
          "execution_count": 435
        }
      ]
    },
    {
      "cell_type": "code",
      "source": [
        "#indexing getting values using indexes\n",
        "vector[:]"
      ],
      "metadata": {
        "colab": {
          "base_uri": "https://localhost:8080/"
        },
        "id": "CPMDPrfDAYuh",
        "outputId": "30054f47-13d0-4885-eec6-f82021f3597e"
      },
      "execution_count": 436,
      "outputs": [
        {
          "output_type": "execute_result",
          "data": {
            "text/plain": [
              "tensor([ 7, 12])"
            ]
          },
          "metadata": {},
          "execution_count": 436
        }
      ]
    },
    {
      "cell_type": "code",
      "source": [
        "vector[1]"
      ],
      "metadata": {
        "colab": {
          "base_uri": "https://localhost:8080/"
        },
        "id": "5vOGaS5pApcI",
        "outputId": "d4b7876c-8898-4c6c-c8ff-58507d59f869"
      },
      "execution_count": 437,
      "outputs": [
        {
          "output_type": "execute_result",
          "data": {
            "text/plain": [
              "tensor(12)"
            ]
          },
          "metadata": {},
          "execution_count": 437
        }
      ]
    },
    {
      "cell_type": "code",
      "source": [
        "vector[0]"
      ],
      "metadata": {
        "colab": {
          "base_uri": "https://localhost:8080/"
        },
        "id": "2n1NiIEYAvGv",
        "outputId": "e08d381e-982c-467c-ba69-2824e4f611d1"
      },
      "execution_count": 438,
      "outputs": [
        {
          "output_type": "execute_result",
          "data": {
            "text/plain": [
              "tensor(7)"
            ]
          },
          "metadata": {},
          "execution_count": 438
        }
      ]
    },
    {
      "cell_type": "code",
      "source": [
        "#MATRIX\n",
        "MATRIX= torch.tensor([[1,2],[7,3]])\n",
        "MATRIX"
      ],
      "metadata": {
        "colab": {
          "base_uri": "https://localhost:8080/"
        },
        "id": "DfqGRtyS-kPN",
        "outputId": "27dd609a-5514-4171-a348-0f2608901b00"
      },
      "execution_count": 439,
      "outputs": [
        {
          "output_type": "execute_result",
          "data": {
            "text/plain": [
              "tensor([[1, 2],\n",
              "        [7, 3]])"
            ]
          },
          "metadata": {},
          "execution_count": 439
        }
      ]
    },
    {
      "cell_type": "code",
      "source": [
        "MATRIX.ndim"
      ],
      "metadata": {
        "colab": {
          "base_uri": "https://localhost:8080/"
        },
        "id": "q_OX0yNeA47f",
        "outputId": "73c98387-fa5b-4fb7-956c-7c645996c3b4"
      },
      "execution_count": 440,
      "outputs": [
        {
          "output_type": "execute_result",
          "data": {
            "text/plain": [
              "2"
            ]
          },
          "metadata": {},
          "execution_count": 440
        }
      ]
    },
    {
      "cell_type": "code",
      "source": [
        "MATRIX.shape"
      ],
      "metadata": {
        "colab": {
          "base_uri": "https://localhost:8080/"
        },
        "id": "EzUTUVRhBd_B",
        "outputId": "587e1c0a-5c06-443a-c0b2-88f859610e89"
      },
      "execution_count": 441,
      "outputs": [
        {
          "output_type": "execute_result",
          "data": {
            "text/plain": [
              "torch.Size([2, 2])"
            ]
          },
          "metadata": {},
          "execution_count": 441
        }
      ]
    },
    {
      "cell_type": "code",
      "source": [
        "MATRIX[0]"
      ],
      "metadata": {
        "colab": {
          "base_uri": "https://localhost:8080/"
        },
        "id": "OQmu6aYoBd8N",
        "outputId": "6963ad41-1ba1-4be3-cfb5-1d6f9d655509"
      },
      "execution_count": 442,
      "outputs": [
        {
          "output_type": "execute_result",
          "data": {
            "text/plain": [
              "tensor([1, 2])"
            ]
          },
          "metadata": {},
          "execution_count": 442
        }
      ]
    },
    {
      "cell_type": "code",
      "source": [
        "#INDEXING ON MATRIX\n",
        "MATRIX[1][1]"
      ],
      "metadata": {
        "colab": {
          "base_uri": "https://localhost:8080/"
        },
        "id": "QpQTxMnaBCu4",
        "outputId": "c080f7e2-62fa-4f66-9428-68b0dc5684b8"
      },
      "execution_count": 443,
      "outputs": [
        {
          "output_type": "execute_result",
          "data": {
            "text/plain": [
              "tensor(3)"
            ]
          },
          "metadata": {},
          "execution_count": 443
        }
      ]
    },
    {
      "cell_type": "code",
      "source": [
        "#tensors\n",
        "TENSOR=torch.tensor([[[1,2,3],[5,7,9],[2,4,6]]])\n",
        "t1"
      ],
      "metadata": {
        "colab": {
          "base_uri": "https://localhost:8080/",
          "height": 176
        },
        "id": "N5fcwGdLBK-n",
        "outputId": "0cd7363c-0e70-41f9-98f8-cf88f01159b8"
      },
      "execution_count": 444,
      "outputs": [
        {
          "output_type": "error",
          "ename": "NameError",
          "evalue": "name 't1' is not defined",
          "traceback": [
            "\u001b[0;31m---------------------------------------------------------------------------\u001b[0m",
            "\u001b[0;31mNameError\u001b[0m                                 Traceback (most recent call last)",
            "\u001b[0;32m/tmp/ipython-input-444-268366651.py\u001b[0m in \u001b[0;36m<cell line: 0>\u001b[0;34m()\u001b[0m\n\u001b[1;32m      1\u001b[0m \u001b[0;31m#tensors\u001b[0m\u001b[0;34m\u001b[0m\u001b[0;34m\u001b[0m\u001b[0m\n\u001b[1;32m      2\u001b[0m \u001b[0mTENSOR\u001b[0m\u001b[0;34m=\u001b[0m\u001b[0mtorch\u001b[0m\u001b[0;34m.\u001b[0m\u001b[0mtensor\u001b[0m\u001b[0;34m(\u001b[0m\u001b[0;34m[\u001b[0m\u001b[0;34m[\u001b[0m\u001b[0;34m[\u001b[0m\u001b[0;36m1\u001b[0m\u001b[0;34m,\u001b[0m\u001b[0;36m2\u001b[0m\u001b[0;34m,\u001b[0m\u001b[0;36m3\u001b[0m\u001b[0;34m]\u001b[0m\u001b[0;34m,\u001b[0m\u001b[0;34m[\u001b[0m\u001b[0;36m5\u001b[0m\u001b[0;34m,\u001b[0m\u001b[0;36m7\u001b[0m\u001b[0;34m,\u001b[0m\u001b[0;36m9\u001b[0m\u001b[0;34m]\u001b[0m\u001b[0;34m,\u001b[0m\u001b[0;34m[\u001b[0m\u001b[0;36m2\u001b[0m\u001b[0;34m,\u001b[0m\u001b[0;36m4\u001b[0m\u001b[0;34m,\u001b[0m\u001b[0;36m6\u001b[0m\u001b[0;34m]\u001b[0m\u001b[0;34m]\u001b[0m\u001b[0;34m]\u001b[0m\u001b[0;34m)\u001b[0m\u001b[0;34m\u001b[0m\u001b[0;34m\u001b[0m\u001b[0m\n\u001b[0;32m----> 3\u001b[0;31m \u001b[0mt1\u001b[0m\u001b[0;34m\u001b[0m\u001b[0;34m\u001b[0m\u001b[0m\n\u001b[0m",
            "\u001b[0;31mNameError\u001b[0m: name 't1' is not defined"
          ]
        }
      ]
    },
    {
      "cell_type": "code",
      "source": [
        "TENSOR.ndim"
      ],
      "metadata": {
        "id": "Wwidi8KjEC1s"
      },
      "execution_count": null,
      "outputs": []
    },
    {
      "cell_type": "code",
      "source": [
        "TENSOR.shape"
      ],
      "metadata": {
        "id": "9fA-R9PTEJij"
      },
      "execution_count": null,
      "outputs": []
    },
    {
      "cell_type": "code",
      "source": [
        "TENSOR[0]"
      ],
      "metadata": {
        "id": "N40KeB8_Ea1t"
      },
      "execution_count": null,
      "outputs": []
    },
    {
      "cell_type": "code",
      "source": [
        "TENSOR=torch.tensor([[[[[1,7],[6,9]]]]])\n",
        "TENSOR"
      ],
      "metadata": {
        "id": "Q-Ke4f_rIMp8"
      },
      "execution_count": null,
      "outputs": []
    },
    {
      "cell_type": "code",
      "source": [
        "TENSOR.ndim"
      ],
      "metadata": {
        "colab": {
          "base_uri": "https://localhost:8080/"
        },
        "id": "zpA_H3nrI1eZ",
        "outputId": "331152f6-fdcc-4d1e-f2b6-d4abdaaf0baa"
      },
      "execution_count": 445,
      "outputs": [
        {
          "output_type": "execute_result",
          "data": {
            "text/plain": [
              "3"
            ]
          },
          "metadata": {},
          "execution_count": 445
        }
      ]
    },
    {
      "cell_type": "code",
      "source": [
        "TENSOR.shape"
      ],
      "metadata": {
        "colab": {
          "base_uri": "https://localhost:8080/"
        },
        "id": "zR-y5HeyI4cI",
        "outputId": "d0eaad06-d866-491c-dbdd-96235d3b880f"
      },
      "execution_count": 446,
      "outputs": [
        {
          "output_type": "execute_result",
          "data": {
            "text/plain": [
              "torch.Size([1, 3, 3])"
            ]
          },
          "metadata": {},
          "execution_count": 446
        }
      ]
    },
    {
      "cell_type": "markdown",
      "source": [
        "### Random  tensor\n",
        " Why random tensors ?\n",
        " Random Tensors are important as many neural networks learn the way they\n",
        " * starts with tensors full of random numbers\n",
        " * And then adjust those random numbers in tensors to represent data in better way\n",
        "\n",
        " #### core idea of neural network\n",
        " ` Start with random numbers -> look at data  -> update random numbers -> look at data -> update random numbers `\n",
        "\n"
      ],
      "metadata": {
        "id": "I5q_rHYMKJov"
      }
    },
    {
      "cell_type": "code",
      "source": [
        "#create a random tensor of size(2,3)\n",
        "random_tensor= torch.rand(3)\n",
        "random_tensor"
      ],
      "metadata": {
        "colab": {
          "base_uri": "https://localhost:8080/"
        },
        "id": "AQJfSkjOI8Pe",
        "outputId": "9f9c6e11-18a4-42fc-92a5-921565a2e895"
      },
      "execution_count": 447,
      "outputs": [
        {
          "output_type": "execute_result",
          "data": {
            "text/plain": [
              "tensor([0.8694, 0.5677, 0.7411])"
            ]
          },
          "metadata": {},
          "execution_count": 447
        }
      ]
    },
    {
      "cell_type": "code",
      "source": [
        "random_tensor.shape"
      ],
      "metadata": {
        "colab": {
          "base_uri": "https://localhost:8080/"
        },
        "id": "NW5q6o_WIRkZ",
        "outputId": "84d8c631-f864-4fe7-d1b7-eca63db07122"
      },
      "execution_count": 448,
      "outputs": [
        {
          "output_type": "execute_result",
          "data": {
            "text/plain": [
              "torch.Size([3])"
            ]
          },
          "metadata": {},
          "execution_count": 448
        }
      ]
    },
    {
      "cell_type": "code",
      "source": [
        "random_tensor.ndim"
      ],
      "metadata": {
        "colab": {
          "base_uri": "https://localhost:8080/"
        },
        "id": "U-RQXbrRIabu",
        "outputId": "58e57bc7-4e72-49b0-8b18-7d642217e1e0"
      },
      "execution_count": 449,
      "outputs": [
        {
          "output_type": "execute_result",
          "data": {
            "text/plain": [
              "1"
            ]
          },
          "metadata": {},
          "execution_count": 449
        }
      ]
    },
    {
      "cell_type": "code",
      "source": [
        "rt2=torch.rand(2,3)\n",
        "rt2\n"
      ],
      "metadata": {
        "colab": {
          "base_uri": "https://localhost:8080/"
        },
        "id": "idJJJ2tgNUWG",
        "outputId": "2aae803f-0ed2-474b-a10c-aaab0fada38f"
      },
      "execution_count": 450,
      "outputs": [
        {
          "output_type": "execute_result",
          "data": {
            "text/plain": [
              "tensor([[0.4294, 0.8854, 0.5739],\n",
              "        [0.2666, 0.6274, 0.2696]])"
            ]
          },
          "metadata": {},
          "execution_count": 450
        }
      ]
    },
    {
      "cell_type": "code",
      "source": [
        "rt2.ndim"
      ],
      "metadata": {
        "colab": {
          "base_uri": "https://localhost:8080/"
        },
        "id": "-aefVB89HdHy",
        "outputId": "4a0d117e-918e-4c90-841f-eb9cd2635040"
      },
      "execution_count": 451,
      "outputs": [
        {
          "output_type": "execute_result",
          "data": {
            "text/plain": [
              "2"
            ]
          },
          "metadata": {},
          "execution_count": 451
        }
      ]
    },
    {
      "cell_type": "code",
      "source": [
        "random4=torch.rand(1,5,5)\n",
        "random4"
      ],
      "metadata": {
        "colab": {
          "base_uri": "https://localhost:8080/"
        },
        "id": "jKQbtpDiKP1v",
        "outputId": "d3fd09b5-b334-48ea-d2f1-d11c3e546845"
      },
      "execution_count": 452,
      "outputs": [
        {
          "output_type": "execute_result",
          "data": {
            "text/plain": [
              "tensor([[[0.4414, 0.2969, 0.8317, 0.1053, 0.2695],\n",
              "         [0.3588, 0.1994, 0.5472, 0.0062, 0.9516],\n",
              "         [0.0753, 0.8860, 0.5832, 0.3376, 0.8090],\n",
              "         [0.5779, 0.9040, 0.5547, 0.3423, 0.6343],\n",
              "         [0.3644, 0.7104, 0.9464, 0.7890, 0.2814]]])"
            ]
          },
          "metadata": {},
          "execution_count": 452
        }
      ]
    },
    {
      "cell_type": "code",
      "source": [
        "random4.ndim"
      ],
      "metadata": {
        "colab": {
          "base_uri": "https://localhost:8080/"
        },
        "id": "kTswurcFKb2F",
        "outputId": "b4eb1c2c-0f14-490a-97da-8ec65b47d19c"
      },
      "execution_count": 453,
      "outputs": [
        {
          "output_type": "execute_result",
          "data": {
            "text/plain": [
              "3"
            ]
          },
          "metadata": {},
          "execution_count": 453
        }
      ]
    },
    {
      "cell_type": "code",
      "source": [
        "random4.shape"
      ],
      "metadata": {
        "colab": {
          "base_uri": "https://localhost:8080/"
        },
        "id": "ObpAskT5KgHS",
        "outputId": "4629177b-7fd3-4864-f518-347fbc334a20"
      },
      "execution_count": 454,
      "outputs": [
        {
          "output_type": "execute_result",
          "data": {
            "text/plain": [
              "torch.Size([1, 5, 5])"
            ]
          },
          "metadata": {},
          "execution_count": 454
        }
      ]
    },
    {
      "cell_type": "code",
      "source": [
        "# the first digit in the bracket tells how many batches we created like in this we have created  2 batches of 5x5 matrix\n",
        "random3=torch.rand(2,5,5)\n",
        "random3"
      ],
      "metadata": {
        "colab": {
          "base_uri": "https://localhost:8080/"
        },
        "id": "Uverb-JHIjF3",
        "outputId": "1d5fb416-b3bb-4463-f714-c11f85dcc394"
      },
      "execution_count": 455,
      "outputs": [
        {
          "output_type": "execute_result",
          "data": {
            "text/plain": [
              "tensor([[[0.7886, 0.5895, 0.7539, 0.1952, 0.0050],\n",
              "         [0.3068, 0.1165, 0.9103, 0.6440, 0.7071],\n",
              "         [0.6581, 0.4913, 0.8913, 0.1447, 0.5315],\n",
              "         [0.1587, 0.6542, 0.3278, 0.6532, 0.3958],\n",
              "         [0.9147, 0.2036, 0.2018, 0.2018, 0.9497]],\n",
              "\n",
              "        [[0.6666, 0.9811, 0.0874, 0.0041, 0.1088],\n",
              "         [0.1637, 0.7025, 0.6790, 0.9155, 0.2418],\n",
              "         [0.1591, 0.7653, 0.2979, 0.8035, 0.3813],\n",
              "         [0.7860, 0.1115, 0.2477, 0.6524, 0.6057],\n",
              "         [0.3725, 0.7980, 0.8399, 0.1374, 0.2331]]])"
            ]
          },
          "metadata": {},
          "execution_count": 455
        }
      ]
    },
    {
      "cell_type": "code",
      "source": [
        "random3.ndim"
      ],
      "metadata": {
        "colab": {
          "base_uri": "https://localhost:8080/"
        },
        "id": "Fh9Ic6f6JQcl",
        "outputId": "448339bd-bd9f-4d20-9b40-25d44bde5f23"
      },
      "execution_count": 456,
      "outputs": [
        {
          "output_type": "execute_result",
          "data": {
            "text/plain": [
              "3"
            ]
          },
          "metadata": {},
          "execution_count": 456
        }
      ]
    },
    {
      "cell_type": "code",
      "source": [
        "#create a random tensor with similar shape to an image tensor\n",
        "random_image_size_tensor=torch.rand(3,244,244) #color channel(R,B,G), Height,Width\n",
        "random_image_size_tensor.shape,random_image_size_tensor.ndim"
      ],
      "metadata": {
        "colab": {
          "base_uri": "https://localhost:8080/"
        },
        "id": "HUDowooKJTqN",
        "outputId": "e127a3ca-0491-42d9-e6f5-793a93708936"
      },
      "execution_count": 457,
      "outputs": [
        {
          "output_type": "execute_result",
          "data": {
            "text/plain": [
              "(torch.Size([3, 244, 244]), 3)"
            ]
          },
          "metadata": {},
          "execution_count": 457
        }
      ]
    },
    {
      "cell_type": "code",
      "source": [
        "#it does not matter much if we write size or not\n",
        "random5=torch.rand(size =(4,3))\n",
        "random5"
      ],
      "metadata": {
        "colab": {
          "base_uri": "https://localhost:8080/"
        },
        "id": "wXPQwLvMMACZ",
        "outputId": "06de3a76-6266-465e-d3ab-5678fdf8023e"
      },
      "execution_count": 458,
      "outputs": [
        {
          "output_type": "execute_result",
          "data": {
            "text/plain": [
              "tensor([[0.1353, 0.1691, 0.8853],\n",
              "        [0.4241, 0.4636, 0.7870],\n",
              "        [0.9211, 0.5783, 0.9248],\n",
              "        [0.2644, 0.8052, 0.4260]])"
            ]
          },
          "metadata": {},
          "execution_count": 458
        }
      ]
    },
    {
      "cell_type": "markdown",
      "source": [
        "### Zeros and ones\n",
        "Creating tensors with Zeros and ones"
      ],
      "metadata": {
        "id": "SICib1I2NPx8"
      }
    },
    {
      "cell_type": "code",
      "source": [
        "# create a tensor of all Zeros\n",
        "zero_tensor=torch.zeros( size=(4,3))\n",
        "zero_tensor"
      ],
      "metadata": {
        "colab": {
          "base_uri": "https://localhost:8080/"
        },
        "id": "ByY0jo3zN9Au",
        "outputId": "cfa5ce6a-2acd-43c7-bd66-da97f5681f47"
      },
      "execution_count": 459,
      "outputs": [
        {
          "output_type": "execute_result",
          "data": {
            "text/plain": [
              "tensor([[0., 0., 0.],\n",
              "        [0., 0., 0.],\n",
              "        [0., 0., 0.],\n",
              "        [0., 0., 0.]])"
            ]
          },
          "metadata": {},
          "execution_count": 459
        }
      ]
    },
    {
      "cell_type": "code",
      "source": [
        "zero_tensor*random5"
      ],
      "metadata": {
        "colab": {
          "base_uri": "https://localhost:8080/"
        },
        "id": "vpe9YW49OSYm",
        "outputId": "94cda9be-6f94-4365-cdae-2618291340d4"
      },
      "execution_count": 460,
      "outputs": [
        {
          "output_type": "execute_result",
          "data": {
            "text/plain": [
              "tensor([[0., 0., 0.],\n",
              "        [0., 0., 0.],\n",
              "        [0., 0., 0.],\n",
              "        [0., 0., 0.]])"
            ]
          },
          "metadata": {},
          "execution_count": 460
        }
      ]
    },
    {
      "cell_type": "code",
      "source": [
        "ones_tensor=torch.ones(size= (4,5))\n",
        "ones_tensor"
      ],
      "metadata": {
        "colab": {
          "base_uri": "https://localhost:8080/"
        },
        "id": "xElbVHD1Ogd0",
        "outputId": "fe0c2f5b-b235-41d7-dd26-4e6012869d3a"
      },
      "execution_count": 461,
      "outputs": [
        {
          "output_type": "execute_result",
          "data": {
            "text/plain": [
              "tensor([[1., 1., 1., 1., 1.],\n",
              "        [1., 1., 1., 1., 1.],\n",
              "        [1., 1., 1., 1., 1.],\n",
              "        [1., 1., 1., 1., 1.]])"
            ]
          },
          "metadata": {},
          "execution_count": 461
        }
      ]
    },
    {
      "cell_type": "code",
      "source": [
        "ones_tensor.dtype"
      ],
      "metadata": {
        "colab": {
          "base_uri": "https://localhost:8080/"
        },
        "id": "Bbfc6uUSO-js",
        "outputId": "091c9164-eae6-4aec-8e8c-18da2ff08c2c"
      },
      "execution_count": 462,
      "outputs": [
        {
          "output_type": "execute_result",
          "data": {
            "text/plain": [
              "torch.float32"
            ]
          },
          "metadata": {},
          "execution_count": 462
        }
      ]
    },
    {
      "cell_type": "markdown",
      "source": [
        "## Creating a range of tensors and tensors-like"
      ],
      "metadata": {
        "id": "b1rnIBoNPauv"
      }
    },
    {
      "cell_type": "code",
      "source": [
        "# Use torch.arange ()\n",
        "num_range=torch.arange(1,15)\n",
        "num_range"
      ],
      "metadata": {
        "colab": {
          "base_uri": "https://localhost:8080/"
        },
        "id": "GtzI4D9IPKGP",
        "outputId": "d0f0d888-3e34-47d4-8796-4c3a0bebdec7"
      },
      "execution_count": 463,
      "outputs": [
        {
          "output_type": "execute_result",
          "data": {
            "text/plain": [
              "tensor([ 1,  2,  3,  4,  5,  6,  7,  8,  9, 10, 11, 12, 13, 14])"
            ]
          },
          "metadata": {},
          "execution_count": 463
        }
      ]
    },
    {
      "cell_type": "code",
      "source": [
        "\"size /shape= \", num_range.shape,\"Dimensions =\" ,num_range.ndim"
      ],
      "metadata": {
        "colab": {
          "base_uri": "https://localhost:8080/"
        },
        "id": "qmv8z7P3PLmb",
        "outputId": "5ef2330a-97f9-4c17-8c75-928a78c6ea51"
      },
      "execution_count": 464,
      "outputs": [
        {
          "output_type": "execute_result",
          "data": {
            "text/plain": [
              "('size /shape= ', torch.Size([14]), 'Dimensions =', 1)"
            ]
          },
          "metadata": {},
          "execution_count": 464
        }
      ]
    },
    {
      "cell_type": "code",
      "source": [
        "number1_t0_10=torch.arange(start=1,end=11,step=1)\n",
        "number1_t0_10"
      ],
      "metadata": {
        "colab": {
          "base_uri": "https://localhost:8080/"
        },
        "id": "-Fi1SiUJPLXs",
        "outputId": "9dcdeb17-d9e6-4dc3-ec5b-7e984d7641d3"
      },
      "execution_count": 465,
      "outputs": [
        {
          "output_type": "execute_result",
          "data": {
            "text/plain": [
              "tensor([ 1,  2,  3,  4,  5,  6,  7,  8,  9, 10])"
            ]
          },
          "metadata": {},
          "execution_count": 465
        }
      ]
    },
    {
      "cell_type": "code",
      "source": [
        "number1_t0_10.ndim"
      ],
      "metadata": {
        "colab": {
          "base_uri": "https://localhost:8080/"
        },
        "id": "rFW4ac_sPLLH",
        "outputId": "3a375cae-2f27-457a-d5fa-da51dbc819ff"
      },
      "execution_count": 466,
      "outputs": [
        {
          "output_type": "execute_result",
          "data": {
            "text/plain": [
              "1"
            ]
          },
          "metadata": {},
          "execution_count": 466
        }
      ]
    },
    {
      "cell_type": "code",
      "source": [
        "multiples_of_3=torch.arange(start=3,end=33,step=3)\n",
        "multiples_of_3\n"
      ],
      "metadata": {
        "colab": {
          "base_uri": "https://localhost:8080/"
        },
        "id": "p7Gd84MxRcQ5",
        "outputId": "279bf63b-e1d9-4ec4-f99e-d78c236cab07"
      },
      "execution_count": 467,
      "outputs": [
        {
          "output_type": "execute_result",
          "data": {
            "text/plain": [
              "tensor([ 3,  6,  9, 12, 15, 18, 21, 24, 27, 30])"
            ]
          },
          "metadata": {},
          "execution_count": 467
        }
      ]
    },
    {
      "cell_type": "code",
      "source": [
        "#Creating tensor like\n",
        "ten_zeros=torch.zeros_like(input=number1_t0_10)\n",
        "ten_zeros\n"
      ],
      "metadata": {
        "colab": {
          "base_uri": "https://localhost:8080/"
        },
        "id": "uViFbkqcRyjs",
        "outputId": "d6558664-37e1-4725-8b36-71f7cfb28236"
      },
      "execution_count": 468,
      "outputs": [
        {
          "output_type": "execute_result",
          "data": {
            "text/plain": [
              "tensor([0, 0, 0, 0, 0, 0, 0, 0, 0, 0])"
            ]
          },
          "metadata": {},
          "execution_count": 468
        }
      ]
    },
    {
      "cell_type": "markdown",
      "source": [
        "## Tensor data types\n",
        "* Tensor datatypes is one of thr 3 big issues/errors you will run into with Pytorch and deep learning:\n",
        "1. Tensor not right datatype\n",
        "2. Tensors not right shape\n",
        "3. Tensors not on right device"
      ],
      "metadata": {
        "id": "HbgFTcRDS63w"
      }
    },
    {
      "cell_type": "code",
      "source": [
        "#float 32 tensor (a tensor data type)\n",
        "float_32_tensor=torch.tensor([1.0,3.0,5.0],\n",
        "                             dtype= None, #what data type a tensor is\n",
        "                             device= None, # by default `cpu`. what device is your tensor on\n",
        "                             requires_grad=False, #whether or not to track gradients with this tensor operations\n",
        "                             )\n",
        "float_32_tensor"
      ],
      "metadata": {
        "colab": {
          "base_uri": "https://localhost:8080/"
        },
        "id": "RMx33sFVSX7Z",
        "outputId": "bba0017d-6c0c-47ea-b28d-f5bf6e0c03c4"
      },
      "execution_count": 469,
      "outputs": [
        {
          "output_type": "execute_result",
          "data": {
            "text/plain": [
              "tensor([1., 3., 5.])"
            ]
          },
          "metadata": {},
          "execution_count": 469
        }
      ]
    },
    {
      "cell_type": "code",
      "source": [
        "float_32_tensor.dtype # torch.float=float32"
      ],
      "metadata": {
        "colab": {
          "base_uri": "https://localhost:8080/"
        },
        "id": "BAI2ZofqTVoH",
        "outputId": "d3414dbd-ff00-4cd5-d4d1-7cd1c7de896a"
      },
      "execution_count": 470,
      "outputs": [
        {
          "output_type": "execute_result",
          "data": {
            "text/plain": [
              "torch.float32"
            ]
          },
          "metadata": {},
          "execution_count": 470
        }
      ]
    },
    {
      "cell_type": "code",
      "source": [
        "float_16_tensor=float_32_tensor.type(torch.float16)\n",
        "float_16_tensor"
      ],
      "metadata": {
        "id": "YguuSauaWlhd",
        "colab": {
          "base_uri": "https://localhost:8080/"
        },
        "outputId": "1c15b132-6abb-4c65-efb7-965a16914db2"
      },
      "execution_count": 471,
      "outputs": [
        {
          "output_type": "execute_result",
          "data": {
            "text/plain": [
              "tensor([1., 3., 5.], dtype=torch.float16)"
            ]
          },
          "metadata": {},
          "execution_count": 471
        }
      ]
    },
    {
      "cell_type": "code",
      "source": [
        "#other way to make tensor 32 to tensor 16\n",
        "float_16_tensor=float_32_tensor.type(torch.half)\n",
        "float_16_tensor"
      ],
      "metadata": {
        "colab": {
          "base_uri": "https://localhost:8080/"
        },
        "id": "cUWOtX-5_0ZS",
        "outputId": "07c76e74-a9e7-4818-a86f-6ce49c46015e"
      },
      "execution_count": 472,
      "outputs": [
        {
          "output_type": "execute_result",
          "data": {
            "text/plain": [
              "tensor([1., 3., 5.], dtype=torch.float16)"
            ]
          },
          "metadata": {},
          "execution_count": 472
        }
      ]
    },
    {
      "cell_type": "code",
      "source": [
        "result=float_32_tensor*float_16_tensor\n",
        "result"
      ],
      "metadata": {
        "id": "7XUuCQVmTj5s",
        "colab": {
          "base_uri": "https://localhost:8080/"
        },
        "outputId": "834985f3-750e-4bb2-a2f6-841dd72b307f"
      },
      "execution_count": 473,
      "outputs": [
        {
          "output_type": "execute_result",
          "data": {
            "text/plain": [
              "tensor([ 1.,  9., 25.])"
            ]
          },
          "metadata": {},
          "execution_count": 473
        }
      ]
    },
    {
      "cell_type": "code",
      "source": [
        "result.dtype"
      ],
      "metadata": {
        "colab": {
          "base_uri": "https://localhost:8080/"
        },
        "id": "9fHhliDd_N0g",
        "outputId": "a1c2b3d5-005a-49b9-ac66-623e97d532b3"
      },
      "execution_count": 474,
      "outputs": [
        {
          "output_type": "execute_result",
          "data": {
            "text/plain": [
              "torch.float32"
            ]
          },
          "metadata": {},
          "execution_count": 474
        }
      ]
    },
    {
      "cell_type": "code",
      "source": [
        "int_32_tensor=torch.tensor([2,4,6], dtype=torch.int32)\n",
        "int_32_tensor"
      ],
      "metadata": {
        "colab": {
          "base_uri": "https://localhost:8080/"
        },
        "id": "zQ74nBryACqy",
        "outputId": "4fe89067-1508-4df9-e018-a8d6ea6057c0"
      },
      "execution_count": 475,
      "outputs": [
        {
          "output_type": "execute_result",
          "data": {
            "text/plain": [
              "tensor([2, 4, 6], dtype=torch.int32)"
            ]
          },
          "metadata": {},
          "execution_count": 475
        }
      ]
    },
    {
      "cell_type": "code",
      "source": [
        "r=float_32_tensor*int_32_tensor\n",
        "r,r.dtype"
      ],
      "metadata": {
        "colab": {
          "base_uri": "https://localhost:8080/"
        },
        "id": "SChA2ePTB56a",
        "outputId": "f890c2ac-ab92-42de-e3e9-8adbd1f91b41"
      },
      "execution_count": 476,
      "outputs": [
        {
          "output_type": "execute_result",
          "data": {
            "text/plain": [
              "(tensor([ 2., 12., 30.]), torch.float32)"
            ]
          },
          "metadata": {},
          "execution_count": 476
        }
      ]
    },
    {
      "cell_type": "code",
      "source": [
        "#float64 is same as torch.double\n",
        "float_64_tensor=torch.tensor([1,6,9],dtype=torch.double)\n",
        "float_64_tensor\n"
      ],
      "metadata": {
        "colab": {
          "base_uri": "https://localhost:8080/"
        },
        "id": "JUzU0gdFCfBU",
        "outputId": "affb219d-855f-46b9-a360-a6f8722dd3ef"
      },
      "execution_count": 477,
      "outputs": [
        {
          "output_type": "execute_result",
          "data": {
            "text/plain": [
              "tensor([1., 6., 9.], dtype=torch.float64)"
            ]
          },
          "metadata": {},
          "execution_count": 477
        }
      ]
    },
    {
      "cell_type": "code",
      "source": [
        "# try with long tensor\n",
        "#torch.long is another name/word of int64  tensor\n",
        "long_tensor=torch.tensor([1,3,7],dtype=torch.long)\n",
        "long_tensor, long_tensor.dtype"
      ],
      "metadata": {
        "colab": {
          "base_uri": "https://localhost:8080/"
        },
        "id": "xo-jfMsuCAo8",
        "outputId": "9c7e400c-935a-4960-d954-b0470962ed5a"
      },
      "execution_count": 478,
      "outputs": [
        {
          "output_type": "execute_result",
          "data": {
            "text/plain": [
              "(tensor([1, 3, 7]), torch.int64)"
            ]
          },
          "metadata": {},
          "execution_count": 478
        }
      ]
    },
    {
      "cell_type": "code",
      "source": [
        " #multiply int32 with int64\n",
        " r2=int_32_tensor*long_tensor\n",
        " r2,r2.dtype"
      ],
      "metadata": {
        "colab": {
          "base_uri": "https://localhost:8080/"
        },
        "id": "Woka_qGpCsSX",
        "outputId": "d28b467a-c716-428e-bf4b-e2c1943ea933"
      },
      "execution_count": 479,
      "outputs": [
        {
          "output_type": "execute_result",
          "data": {
            "text/plain": [
              "(tensor([ 2, 12, 42]), torch.int64)"
            ]
          },
          "metadata": {},
          "execution_count": 479
        }
      ]
    },
    {
      "cell_type": "markdown",
      "source": [
        "#Getting information from tensor(tensor attributes)\n",
        "1.   Tensor not right shape _ to get shape we can use `tensor.shape`\n",
        "2.  Tensor not right datatype_ to get datatype we use `tensor.dtype`\n",
        "3. Tensor not on right device_to get device(CPU,GPU) from tensor `tensor.device`\n"
      ],
      "metadata": {
        "id": "PVMhGI-NDbIY"
      }
    },
    {
      "cell_type": "code",
      "source": [
        "# create a tensor\n",
        "random_tensor=torch.rand(4,3)\n",
        "random_tensor"
      ],
      "metadata": {
        "colab": {
          "base_uri": "https://localhost:8080/"
        },
        "id": "h18iuhvnH0I4",
        "outputId": "6dd44ea5-e5c5-4a20-e137-e694da234f84"
      },
      "execution_count": 480,
      "outputs": [
        {
          "output_type": "execute_result",
          "data": {
            "text/plain": [
              "tensor([[0.2986, 0.2240, 0.0445],\n",
              "        [0.2675, 0.6754, 0.7022],\n",
              "        [0.3396, 0.1839, 0.9218],\n",
              "        [0.9206, 0.3369, 0.3539]])"
            ]
          },
          "metadata": {},
          "execution_count": 480
        }
      ]
    },
    {
      "cell_type": "code",
      "source": [
        "#find out details about tensor\n",
        "print(f\"tensor:  {random_tensor}\")\n",
        "print(f\"Shape of tensor: {random_tensor.shape}\")\n",
        "print(f\"Datatype of tensor: {random_tensor.dtype}\" )\n",
        "print(f\"Device tensor is on: {random_tensor.device}\")"
      ],
      "metadata": {
        "colab": {
          "base_uri": "https://localhost:8080/"
        },
        "id": "0J4NpVeLH5UW",
        "outputId": "2a864c32-9a00-4816-b8c5-78994548c8d3"
      },
      "execution_count": 481,
      "outputs": [
        {
          "output_type": "stream",
          "name": "stdout",
          "text": [
            "tensor:  tensor([[0.2986, 0.2240, 0.0445],\n",
            "        [0.2675, 0.6754, 0.7022],\n",
            "        [0.3396, 0.1839, 0.9218],\n",
            "        [0.9206, 0.3369, 0.3539]])\n",
            "Shape of tensor: torch.Size([4, 3])\n",
            "Datatype of tensor: torch.float32\n",
            "Device tensor is on: cpu\n"
          ]
        }
      ]
    },
    {
      "cell_type": "code",
      "source": [
        "random1_tensor=torch.rand((5,4),device=GPU)\n",
        "#random1_tensor=random1_tensor.device=None\n",
        "random1_tensor.device"
      ],
      "metadata": {
        "colab": {
          "base_uri": "https://localhost:8080/",
          "height": 176
        },
        "id": "HnoztyPoIbTy",
        "outputId": "1bfc7d48-b33a-4aa7-8f2b-290f8fff11a4"
      },
      "execution_count": 482,
      "outputs": [
        {
          "output_type": "error",
          "ename": "NameError",
          "evalue": "name 'GPU' is not defined",
          "traceback": [
            "\u001b[0;31m---------------------------------------------------------------------------\u001b[0m",
            "\u001b[0;31mNameError\u001b[0m                                 Traceback (most recent call last)",
            "\u001b[0;32m/tmp/ipython-input-482-1272154301.py\u001b[0m in \u001b[0;36m<cell line: 0>\u001b[0;34m()\u001b[0m\n\u001b[0;32m----> 1\u001b[0;31m \u001b[0mrandom1_tensor\u001b[0m\u001b[0;34m=\u001b[0m\u001b[0mtorch\u001b[0m\u001b[0;34m.\u001b[0m\u001b[0mrand\u001b[0m\u001b[0;34m(\u001b[0m\u001b[0;34m(\u001b[0m\u001b[0;36m5\u001b[0m\u001b[0;34m,\u001b[0m\u001b[0;36m4\u001b[0m\u001b[0;34m)\u001b[0m\u001b[0;34m,\u001b[0m\u001b[0mdevice\u001b[0m\u001b[0;34m=\u001b[0m\u001b[0mGPU\u001b[0m\u001b[0;34m)\u001b[0m\u001b[0;34m\u001b[0m\u001b[0;34m\u001b[0m\u001b[0m\n\u001b[0m\u001b[1;32m      2\u001b[0m \u001b[0;31m#random1_tensor=random1_tensor.device=None\u001b[0m\u001b[0;34m\u001b[0m\u001b[0;34m\u001b[0m\u001b[0m\n\u001b[1;32m      3\u001b[0m \u001b[0mrandom1_tensor\u001b[0m\u001b[0;34m.\u001b[0m\u001b[0mdevice\u001b[0m\u001b[0;34m\u001b[0m\u001b[0;34m\u001b[0m\u001b[0m\n",
            "\u001b[0;31mNameError\u001b[0m: name 'GPU' is not defined"
          ]
        }
      ]
    },
    {
      "cell_type": "markdown",
      "source": [
        "### Tenosrs manipulation(tensors operations)\n",
        "Tensor operations include\n",
        "1. Addition\n",
        "2. Subraction\n",
        "3. Multiplication(element wise)\n",
        "4. Division\n",
        "5. Matrix multiplication\n"
      ],
      "metadata": {
        "id": "wfJWChNRLAh7"
      }
    },
    {
      "cell_type": "code",
      "source": [
        "# Addition\n",
        "#create a tensor and add something in it\n",
        "tensor1=torch.tensor([1,5,8])\n",
        "tensor1+20 # + operator is used for addition"
      ],
      "metadata": {
        "id": "fdJyTtlQNVkf"
      },
      "execution_count": null,
      "outputs": []
    },
    {
      "cell_type": "code",
      "source": [
        "#Multiplication\n",
        "tensor1*10  # * operator is used for multiplication"
      ],
      "metadata": {
        "id": "9QeZ45T4NoNC"
      },
      "execution_count": null,
      "outputs": []
    },
    {
      "cell_type": "code",
      "source": [
        "tensor1"
      ],
      "metadata": {
        "id": "0nuP0gIEN_oC"
      },
      "execution_count": null,
      "outputs": []
    },
    {
      "cell_type": "code",
      "source": [
        "#trying pytorch in-built functions\n",
        "tensor2=torch.tensor([3,6,9])\n",
        "torch.mul(tensor1,10) #mul short form for multiplication"
      ],
      "metadata": {
        "id": "da9m_NV_OeBP"
      },
      "execution_count": null,
      "outputs": []
    },
    {
      "cell_type": "code",
      "source": [
        "torch.mul(tensor1,tensor2)"
      ],
      "metadata": {
        "colab": {
          "base_uri": "https://localhost:8080/"
        },
        "id": "AVh2igxaPVp8",
        "outputId": "16d595fc-bb84-4e1f-b988-d3ae25ee1d39"
      },
      "execution_count": 483,
      "outputs": [
        {
          "output_type": "execute_result",
          "data": {
            "text/plain": [
              "tensor([ 3, 30, 72])"
            ]
          },
          "metadata": {},
          "execution_count": 483
        }
      ]
    },
    {
      "cell_type": "code",
      "source": [
        "# Subtraction\n",
        "tensor1 - 1"
      ],
      "metadata": {
        "colab": {
          "base_uri": "https://localhost:8080/"
        },
        "id": "GGHjmUBLOUJo",
        "outputId": "917d958b-f248-427b-aa82-99ba1b5b63d5"
      },
      "execution_count": 484,
      "outputs": [
        {
          "output_type": "execute_result",
          "data": {
            "text/plain": [
              "tensor([0, 4, 7])"
            ]
          },
          "metadata": {},
          "execution_count": 484
        }
      ]
    },
    {
      "cell_type": "code",
      "source": [
        "#addition\n",
        "torch.add(tensor1,1) # add is short form for addition"
      ],
      "metadata": {
        "colab": {
          "base_uri": "https://localhost:8080/"
        },
        "id": "OcoQVkITOz6X",
        "outputId": "840e97d0-c2b6-4361-aaaf-7fbc3864c101"
      },
      "execution_count": 485,
      "outputs": [
        {
          "output_type": "execute_result",
          "data": {
            "text/plain": [
              "tensor([2, 6, 9])"
            ]
          },
          "metadata": {},
          "execution_count": 485
        }
      ]
    },
    {
      "cell_type": "code",
      "source": [
        "torch.add(tensor1,tensor2)"
      ],
      "metadata": {
        "colab": {
          "base_uri": "https://localhost:8080/"
        },
        "id": "MM68yhKjPBWF",
        "outputId": "4482a249-9662-41fe-e489-1469324d941a"
      },
      "execution_count": 486,
      "outputs": [
        {
          "output_type": "execute_result",
          "data": {
            "text/plain": [
              "tensor([ 4, 11, 17])"
            ]
          },
          "metadata": {},
          "execution_count": 486
        }
      ]
    },
    {
      "cell_type": "code",
      "source": [
        "# Division\n",
        "torch.div(tensor1,2)"
      ],
      "metadata": {
        "colab": {
          "base_uri": "https://localhost:8080/"
        },
        "id": "J9qBgJhzPgqB",
        "outputId": "c3baa4c3-b05f-4f46-820b-1530a70f2321"
      },
      "execution_count": 487,
      "outputs": [
        {
          "output_type": "execute_result",
          "data": {
            "text/plain": [
              "tensor([0.5000, 2.5000, 4.0000])"
            ]
          },
          "metadata": {},
          "execution_count": 487
        }
      ]
    },
    {
      "cell_type": "markdown",
      "source": [
        "###Matrix multiplication\n",
        "there are two ways to perform multiplication in neural neywroks and deep learning\n",
        "1. Element-Wise multiplication\n",
        "2. Matrix multiplication(Dot product)\n",
        "\n"
      ],
      "metadata": {
        "id": "2188u175Q7pW"
      }
    },
    {
      "cell_type": "code",
      "source": [
        "#element-wise multiplication\n",
        "tensor3=torch.tensor([1,3,5])\n",
        "tensor4=torch.tensor([2,4,6])\n",
        "print(tensor3,\"*\",tensor4)"
      ],
      "metadata": {
        "colab": {
          "base_uri": "https://localhost:8080/"
        },
        "id": "Ew604ztWREQD",
        "outputId": "92ef4f6e-7c5f-464a-9623-8f0c84b7a827"
      },
      "execution_count": 488,
      "outputs": [
        {
          "output_type": "stream",
          "name": "stdout",
          "text": [
            "tensor([1, 3, 5]) * tensor([2, 4, 6])\n"
          ]
        }
      ]
    },
    {
      "cell_type": "code",
      "source": [
        "print(f\"Equals: {tensor3*tensor4}\")"
      ],
      "metadata": {
        "colab": {
          "base_uri": "https://localhost:8080/"
        },
        "id": "s8sfAaZQSSfV",
        "outputId": "06dd3651-a6c0-4cf4-e9dc-597fca41ddf0"
      },
      "execution_count": 489,
      "outputs": [
        {
          "output_type": "stream",
          "name": "stdout",
          "text": [
            "Equals: tensor([ 2, 12, 30])\n"
          ]
        }
      ]
    },
    {
      "cell_type": "code",
      "source": [
        "# Matrix  multiplication\n",
        "torch.matmul(tensor3,tensor4)"
      ],
      "metadata": {
        "colab": {
          "base_uri": "https://localhost:8080/"
        },
        "id": "ex-oUvsCSjS6",
        "outputId": "2b1c50a1-5d84-473d-913c-cbe2076acad6"
      },
      "execution_count": 490,
      "outputs": [
        {
          "output_type": "execute_result",
          "data": {
            "text/plain": [
              "tensor(44)"
            ]
          },
          "metadata": {},
          "execution_count": 490
        }
      ]
    },
    {
      "cell_type": "code",
      "source": [
        "# Matrix maltiplication by hand\n",
        "2*1+ 3*4+ 5*6\n",
        "#using for loop\n",
        "\n",
        "import time\n",
        "start =time.time()\n",
        "value=0\n",
        "for i in range(len(tensor3)):\n",
        "  value += tensor3[i]*tensor4[i]\n",
        "  print(value)\n",
        "end=time.time()\n",
        "print(f\"Total time taken: {end - start:.4f} seconds\")\n"
      ],
      "metadata": {
        "colab": {
          "base_uri": "https://localhost:8080/"
        },
        "id": "_ytJJ1X_UBwW",
        "outputId": "317c636b-218e-4bac-85f4-cfd0470ef497"
      },
      "execution_count": 491,
      "outputs": [
        {
          "output_type": "stream",
          "name": "stdout",
          "text": [
            "tensor(2)\n",
            "tensor(14)\n",
            "tensor(44)\n",
            "Total time taken: 0.0020 seconds\n"
          ]
        }
      ]
    },
    {
      "cell_type": "code",
      "source": [
        "%%time\n",
        "torch.matmul(tensor3,tensor4)"
      ],
      "metadata": {
        "colab": {
          "base_uri": "https://localhost:8080/"
        },
        "id": "xbaV1pHVWKww",
        "outputId": "9369b4e9-0dd3-482e-d75d-4ed3b07304c9"
      },
      "execution_count": 492,
      "outputs": [
        {
          "output_type": "stream",
          "name": "stdout",
          "text": [
            "CPU times: user 83 µs, sys: 4 µs, total: 87 µs\n",
            "Wall time: 94.2 µs\n"
          ]
        },
        {
          "output_type": "execute_result",
          "data": {
            "text/plain": [
              "tensor(44)"
            ]
          },
          "metadata": {},
          "execution_count": 492
        }
      ]
    },
    {
      "cell_type": "markdown",
      "source": [],
      "metadata": {
        "id": "S3IGOlVNWGh1"
      }
    },
    {
      "cell_type": "code",
      "source": [
        "tensort1=torch.tensor([[1,2,3],[4,5,6]])\n",
        "tensort2=torch.tensor([[1,3,5],[2,4,6],[1,3,5]])\n",
        "torch.matmul(tensort1,tensort2)\n"
      ],
      "metadata": {
        "colab": {
          "base_uri": "https://localhost:8080/"
        },
        "id": "EJC7U8DfSwL-",
        "outputId": "a25aae31-080b-484e-d592-1648bd9c2a6f"
      },
      "execution_count": 493,
      "outputs": [
        {
          "output_type": "execute_result",
          "data": {
            "text/plain": [
              "tensor([[ 8, 20, 32],\n",
              "        [20, 50, 80]])"
            ]
          },
          "metadata": {},
          "execution_count": 493
        }
      ]
    },
    {
      "cell_type": "markdown",
      "source": [
        "built_in functions are prefered more as they are FAST"
      ],
      "metadata": {
        "id": "41IMjr9VTcax"
      }
    },
    {
      "cell_type": "markdown",
      "source": [
        "Note : there are two rules that performing matrix multiplication needs\n",
        "to satisfy:\n",
        "\n",
        "1. the inner dimensions must match\n",
        "* the number of columns of first matrix must be equal to number of rows of 2nd matrix\n",
        "* `(3,2) @ (3,2)` won't work\n",
        "* `(2,3) @ (3,2)` will work\n",
        "* `(3,2) @ (2,3)` will work\n",
        "2. The resulting matrix has the shape of the **outer dimensions**\n",
        "* `(2,3) @ (3,2)` -> `(2,2)`\n",
        "* `(3,2) @ (2,3)` -> `(3,3)`"
      ],
      "metadata": {
        "id": "mA-ikt5JW0a7"
      }
    },
    {
      "cell_type": "code",
      "source": [
        "# will not work and we get an error\n",
        "torch.matmul(torch.rand(3,2),torch.rand(3,2))"
      ],
      "metadata": {
        "colab": {
          "base_uri": "https://localhost:8080/",
          "height": 159
        },
        "id": "2KoB68DyYggu",
        "outputId": "7634c796-1dd6-404b-92ac-3c097bd8de25"
      },
      "execution_count": 494,
      "outputs": [
        {
          "output_type": "error",
          "ename": "RuntimeError",
          "evalue": "mat1 and mat2 shapes cannot be multiplied (3x2 and 3x2)",
          "traceback": [
            "\u001b[0;31m---------------------------------------------------------------------------\u001b[0m",
            "\u001b[0;31mRuntimeError\u001b[0m                              Traceback (most recent call last)",
            "\u001b[0;32m/tmp/ipython-input-494-2004454575.py\u001b[0m in \u001b[0;36m<cell line: 0>\u001b[0;34m()\u001b[0m\n\u001b[1;32m      1\u001b[0m \u001b[0;31m# will not work and we get an error\u001b[0m\u001b[0;34m\u001b[0m\u001b[0;34m\u001b[0m\u001b[0m\n\u001b[0;32m----> 2\u001b[0;31m \u001b[0mtorch\u001b[0m\u001b[0;34m.\u001b[0m\u001b[0mmatmul\u001b[0m\u001b[0;34m(\u001b[0m\u001b[0mtorch\u001b[0m\u001b[0;34m.\u001b[0m\u001b[0mrand\u001b[0m\u001b[0;34m(\u001b[0m\u001b[0;36m3\u001b[0m\u001b[0;34m,\u001b[0m\u001b[0;36m2\u001b[0m\u001b[0;34m)\u001b[0m\u001b[0;34m,\u001b[0m\u001b[0mtorch\u001b[0m\u001b[0;34m.\u001b[0m\u001b[0mrand\u001b[0m\u001b[0;34m(\u001b[0m\u001b[0;36m3\u001b[0m\u001b[0;34m,\u001b[0m\u001b[0;36m2\u001b[0m\u001b[0;34m)\u001b[0m\u001b[0;34m)\u001b[0m\u001b[0;34m\u001b[0m\u001b[0;34m\u001b[0m\u001b[0m\n\u001b[0m",
            "\u001b[0;31mRuntimeError\u001b[0m: mat1 and mat2 shapes cannot be multiplied (3x2 and 3x2)"
          ]
        }
      ]
    },
    {
      "cell_type": "code",
      "source": [
        "# will work as inner dimensions match\n",
        "torch.matmul(torch.rand(2,3),torch.rand(3,2))"
      ],
      "metadata": {
        "id": "IUPDNZxCYzvF"
      },
      "execution_count": null,
      "outputs": []
    },
    {
      "cell_type": "code",
      "source": [
        "torch.matmul(torch.rand(10,3),torch.rand(3,10))"
      ],
      "metadata": {
        "id": "paHOdnc0ZLAK"
      },
      "execution_count": null,
      "outputs": []
    },
    {
      "cell_type": "markdown",
      "source": [
        " One of the most common error in deep learning is **Shape error**"
      ],
      "metadata": {
        "id": "Hxgj89UVaHcr"
      }
    },
    {
      "cell_type": "code",
      "source": [
        "# shapes for matrix multiplication\n",
        "tensor_a=torch.tensor([[1,2],[3,4],[4,5]])\n",
        "tensor_b=torch.tensor([[5,6],[7,8],[9,10]])\n",
        "torch.mm(tensor_a,tensor_b) # mm is same as torch.matmul"
      ],
      "metadata": {
        "id": "Rmdf_OMjalH4"
      },
      "execution_count": null,
      "outputs": []
    },
    {
      "cell_type": "code",
      "source": [
        "tensor_a.shape,tensor_b.shape"
      ],
      "metadata": {
        "id": "omHQN3OWc4XS"
      },
      "execution_count": null,
      "outputs": []
    },
    {
      "cell_type": "markdown",
      "source": [
        "1. To fix our tensor shape issues , we can manipulate the shape of one of our tensor  a **Transpose**\n",
        "* A Transpose switches the axes or dimension of given tensor"
      ],
      "metadata": {
        "id": "pqwuM80qcD0e"
      }
    },
    {
      "cell_type": "markdown",
      "source": [],
      "metadata": {
        "id": "8l4u0DaReznH"
      }
    },
    {
      "cell_type": "code",
      "source": [
        "# Tensor before transpose\n",
        "tensor_b"
      ],
      "metadata": {
        "id": "xajY_y13eP4t"
      },
      "execution_count": null,
      "outputs": []
    },
    {
      "cell_type": "code",
      "source": [
        "# Tensor after Transpose\n",
        "tensor_b_t=tensor_b.T\n",
        "print(tensor_b_t)\n",
        "tensor_b_t.shape"
      ],
      "metadata": {
        "id": "GxCv-tsSeYmR"
      },
      "execution_count": null,
      "outputs": []
    },
    {
      "cell_type": "code",
      "source": [
        "# The matrix multiplication operation works when tensor_b is transposed\n",
        "print(f'original shapes: tensor_a = {tensor_a.shape}, tensor_b = {tensor_b.shape}')\n",
        "print(f'New shapes after transpose: tensor_a = {tensor_a.shape} (same as above), tensor_b.T = {tensor_b.T.shape}')\n",
        "print(f'multipying: {tensor_a.shape} @ {tensor_b.T.shape} <- inner dimensions mus match')\n",
        "print(\"output: \\n\")\n",
        "output=torch.mm(tensor_a,tensor_b.T)\n",
        "print(output)\n",
        "print(f\"\\noutput shape :  {output.shape}\")\n",
        "\n"
      ],
      "metadata": {
        "id": "rdb4Lm9HezJs"
      },
      "execution_count": null,
      "outputs": []
    },
    {
      "cell_type": "markdown",
      "source": [
        "### Finding the min, max,mean,sum,etc(Tensor aggrigation)"
      ],
      "metadata": {
        "id": "yEecgd33r7BJ"
      }
    },
    {
      "cell_type": "code",
      "source": [
        "#create a tensor\n",
        "x=torch.arange(start=3,end=33, step=3 )\n",
        "x"
      ],
      "metadata": {
        "id": "iJuvH3GcfY-4"
      },
      "execution_count": null,
      "outputs": []
    },
    {
      "cell_type": "code",
      "source": [
        "# Find min\n",
        "torch.min(x)"
      ],
      "metadata": {
        "colab": {
          "base_uri": "https://localhost:8080/"
        },
        "id": "CE7crFtlsxWY",
        "outputId": "54a0edc0-f76c-4845-88ce-03df6899e609"
      },
      "execution_count": 495,
      "outputs": [
        {
          "output_type": "execute_result",
          "data": {
            "text/plain": [
              "tensor(3)"
            ]
          },
          "metadata": {},
          "execution_count": 495
        }
      ]
    },
    {
      "cell_type": "code",
      "source": [],
      "metadata": {
        "id": "lm7Y9U0VtR5Q"
      },
      "execution_count": 495,
      "outputs": []
    },
    {
      "cell_type": "code",
      "source": [
        "# find max\n",
        "torch.max(x)"
      ],
      "metadata": {
        "colab": {
          "base_uri": "https://localhost:8080/"
        },
        "id": "dJL3r3bhs5nw",
        "outputId": "50893024-1eed-482e-f119-7e6eb7739114"
      },
      "execution_count": 496,
      "outputs": [
        {
          "output_type": "execute_result",
          "data": {
            "text/plain": [
              "tensor(27)"
            ]
          },
          "metadata": {},
          "execution_count": 496
        }
      ]
    },
    {
      "cell_type": "code",
      "source": [
        "#Find the mean\n",
        "# mean works only on float or complex datatype.it do not wrok on long datatype\n",
        "# The torch.mean() function requires a tensor of float 32 to work\n",
        "torch.mean(x  , dtype=torch.float32 )"
      ],
      "metadata": {
        "colab": {
          "base_uri": "https://localhost:8080/"
        },
        "id": "OSSjmQLDs_3s",
        "outputId": "93eb4534-78cd-4ae8-cfc2-a11c259f255a"
      },
      "execution_count": 497,
      "outputs": [
        {
          "output_type": "execute_result",
          "data": {
            "text/plain": [
              "tensor(15.)"
            ]
          },
          "metadata": {},
          "execution_count": 497
        }
      ]
    },
    {
      "cell_type": "code",
      "source": [
        "# Find sum\n",
        "torch.sum(x)"
      ],
      "metadata": {
        "colab": {
          "base_uri": "https://localhost:8080/"
        },
        "id": "pBraRxV0tFPU",
        "outputId": "2f87106f-41c0-4dcb-f8b1-978c26893008"
      },
      "execution_count": 498,
      "outputs": [
        {
          "output_type": "execute_result",
          "data": {
            "text/plain": [
              "tensor(135)"
            ]
          },
          "metadata": {},
          "execution_count": 498
        }
      ]
    },
    {
      "cell_type": "code",
      "source": [
        "# we can use both ways\n",
        "x.sum()"
      ],
      "metadata": {
        "colab": {
          "base_uri": "https://localhost:8080/"
        },
        "id": "27AkgAVEurFA",
        "outputId": "8861b8b1-3b9a-4a60-ecb4-edb35138c03d"
      },
      "execution_count": 499,
      "outputs": [
        {
          "output_type": "execute_result",
          "data": {
            "text/plain": [
              "tensor(135)"
            ]
          },
          "metadata": {},
          "execution_count": 499
        }
      ]
    },
    {
      "cell_type": "markdown",
      "source": [
        "### Finding the positional min and max using argmin and argmax"
      ],
      "metadata": {
        "id": "j5lHPHh0vc70"
      }
    },
    {
      "cell_type": "code",
      "source": [
        "# create a tensor\n",
        "x1=torch.arange(start=5,end=55,step=5)\n",
        "x1"
      ],
      "metadata": {
        "colab": {
          "base_uri": "https://localhost:8080/"
        },
        "id": "hxyaITlquxco",
        "outputId": "621f406e-0d96-49f6-e7a9-0c26951bae84"
      },
      "execution_count": 500,
      "outputs": [
        {
          "output_type": "execute_result",
          "data": {
            "text/plain": [
              "tensor([ 5, 10, 15, 20, 25, 30, 35, 40, 45, 50])"
            ]
          },
          "metadata": {},
          "execution_count": 500
        }
      ]
    },
    {
      "cell_type": "code",
      "source": [
        "# First printing min\n",
        "# then printing position of that min\n",
        "print(f\"minimun : {x1.min()}\")\n",
        "print(f\"Position of min : {x1.argmin()}\") # Find the position i tensor that has minimum value with argmin()-> returns index position of min tensor"
      ],
      "metadata": {
        "colab": {
          "base_uri": "https://localhost:8080/"
        },
        "id": "i3VRc8Kzv1x3",
        "outputId": "f9fbedbd-b056-47c0-d7f3-5ac67ccb526e"
      },
      "execution_count": 501,
      "outputs": [
        {
          "output_type": "stream",
          "name": "stdout",
          "text": [
            "minimun : 5\n",
            "Position of min : 0\n"
          ]
        }
      ]
    },
    {
      "cell_type": "code",
      "source": [
        "x1[0]"
      ],
      "metadata": {
        "colab": {
          "base_uri": "https://localhost:8080/"
        },
        "id": "2ymseEDkv5sI",
        "outputId": "77e5ed50-f8ef-47e9-ad35-962fb0573c95"
      },
      "execution_count": 502,
      "outputs": [
        {
          "output_type": "execute_result",
          "data": {
            "text/plain": [
              "tensor(5)"
            ]
          },
          "metadata": {},
          "execution_count": 502
        }
      ]
    },
    {
      "cell_type": "code",
      "source": [
        "# Find the of tensor where value is max\n",
        "x1.argmax()"
      ],
      "metadata": {
        "colab": {
          "base_uri": "https://localhost:8080/"
        },
        "id": "KBAYfIenxdRe",
        "outputId": "fee7af23-a88e-4910-d4c0-34a1fa8a62ed"
      },
      "execution_count": 503,
      "outputs": [
        {
          "output_type": "execute_result",
          "data": {
            "text/plain": [
              "tensor(9)"
            ]
          },
          "metadata": {},
          "execution_count": 503
        }
      ]
    },
    {
      "cell_type": "code",
      "source": [
        "x1[9]"
      ],
      "metadata": {
        "colab": {
          "base_uri": "https://localhost:8080/"
        },
        "id": "1qd9n78b4yg6",
        "outputId": "07463b83-4910-4c3e-b119-60f8c9285e82"
      },
      "execution_count": 504,
      "outputs": [
        {
          "output_type": "execute_result",
          "data": {
            "text/plain": [
              "tensor(50)"
            ]
          },
          "metadata": {},
          "execution_count": 504
        }
      ]
    },
    {
      "cell_type": "markdown",
      "source": [
        "## Reshaping ,stacking,squeezing,and unsqueezing tensors\n",
        "* Reshaping - reshapes an input tensor to a defined shape .Changes the shape of a tensor without changing its data.\n",
        "*  View - return a view of an input tensor of certain shape but keep the same memory as orignal tensor\n",
        "* Stacking - combine multiple tensors on top of each other (vstack) or side by side(hstack)\n",
        "* Squeeze - removes all `1` dimensions from tensor\n",
        "* Unsqueez - add a `1` dimension to a target tensor\n",
        "* Permute - Return a view of the input with dimensions permutes (swapped ) in a certain way\n"
      ],
      "metadata": {
        "id": "s8rWbcs640ei"
      }
    },
    {
      "cell_type": "markdown",
      "source": [
        "#### Reshape"
      ],
      "metadata": {
        "id": "rPre3m4BEL1L"
      }
    },
    {
      "cell_type": "code",
      "source": [
        "# create a tensor\n",
        "r1= torch.arange(1.,15.)\n",
        "r1,r1.shape"
      ],
      "metadata": {
        "colab": {
          "base_uri": "https://localhost:8080/"
        },
        "id": "gv_4NsDE54u5",
        "outputId": "0d6b63da-c0b0-43a6-f205-e1d185a82223"
      },
      "execution_count": 505,
      "outputs": [
        {
          "output_type": "execute_result",
          "data": {
            "text/plain": [
              "(tensor([ 1.,  2.,  3.,  4.,  5.,  6.,  7.,  8.,  9., 10., 11., 12., 13., 14.]),\n",
              " torch.Size([14]))"
            ]
          },
          "metadata": {},
          "execution_count": 505
        }
      ]
    },
    {
      "cell_type": "code",
      "source": [
        "# add extra dimensions\n",
        "# reshape has to be compatable with orignal size of tensor .\n",
        "# only those shapes are valid that after multiplying make the orignal size of tensor\n",
        "# as in this case the orignal size is 14 we reshaped it as (2,7) that after multiplying 2 with 7 we get the orignal size that is 14\n",
        "r1_reshaped=r1.reshape(2,7)\n",
        "r1_reshaped,r1_reshaped.shape"
      ],
      "metadata": {
        "colab": {
          "base_uri": "https://localhost:8080/"
        },
        "id": "egwm-2Pe8Rku",
        "outputId": "26c70e09-855e-433c-fdaa-07d7c7c7d41d"
      },
      "execution_count": 506,
      "outputs": [
        {
          "output_type": "execute_result",
          "data": {
            "text/plain": [
              "(tensor([[ 1.,  2.,  3.,  4.,  5.,  6.,  7.],\n",
              "         [ 8.,  9., 10., 11., 12., 13., 14.]]),\n",
              " torch.Size([2, 7]))"
            ]
          },
          "metadata": {},
          "execution_count": 506
        }
      ]
    },
    {
      "cell_type": "code",
      "source": [
        "r2_reshaped=r1.reshape(14,1)\n",
        "r2_reshaped,r2_reshaped.shape"
      ],
      "metadata": {
        "colab": {
          "base_uri": "https://localhost:8080/"
        },
        "id": "HQnjcPeZ8_v4",
        "outputId": "16d62f79-9b9d-43d6-a0b3-38000e47ae1f"
      },
      "execution_count": 507,
      "outputs": [
        {
          "output_type": "execute_result",
          "data": {
            "text/plain": [
              "(tensor([[ 1.],\n",
              "         [ 2.],\n",
              "         [ 3.],\n",
              "         [ 4.],\n",
              "         [ 5.],\n",
              "         [ 6.],\n",
              "         [ 7.],\n",
              "         [ 8.],\n",
              "         [ 9.],\n",
              "         [10.],\n",
              "         [11.],\n",
              "         [12.],\n",
              "         [13.],\n",
              "         [14.]]),\n",
              " torch.Size([14, 1]))"
            ]
          },
          "metadata": {},
          "execution_count": 507
        }
      ]
    },
    {
      "cell_type": "markdown",
      "source": [
        "#### View"
      ],
      "metadata": {
        "id": "D-jZjeCcESQ_"
      }
    },
    {
      "cell_type": "code",
      "source": [
        "#change the  view\n",
        "#new_tensor.reshape(2,7)\n",
        "t6=torch.tensor([1,3,5,6,9,11])\n",
        "new_tensor1=t6.view(1,6)\n",
        "new_tensor1,new_tensor1.shape"
      ],
      "metadata": {
        "colab": {
          "base_uri": "https://localhost:8080/"
        },
        "id": "jxX4zUEy-K0C",
        "outputId": "ccb977fa-bbda-4a3f-f5e4-d09fb27d94b0"
      },
      "execution_count": 508,
      "outputs": [
        {
          "output_type": "execute_result",
          "data": {
            "text/plain": [
              "(tensor([[ 1,  3,  5,  6,  9, 11]]), torch.Size([1, 6]))"
            ]
          },
          "metadata": {},
          "execution_count": 508
        }
      ]
    },
    {
      "cell_type": "code",
      "source": [
        "#changing z changes x (because a view of tensor share the same memory as the orignal )\n",
        "new_tensor1[:,0]=6\n",
        "new_tensor1,t6"
      ],
      "metadata": {
        "colab": {
          "base_uri": "https://localhost:8080/"
        },
        "id": "_KkFHHS2_T3B",
        "outputId": "60cd6d5f-62db-44ac-a46b-8b55c3ef953a"
      },
      "execution_count": 509,
      "outputs": [
        {
          "output_type": "execute_result",
          "data": {
            "text/plain": [
              "(tensor([[ 6,  3,  5,  6,  9, 11]]), tensor([ 6,  3,  5,  6,  9, 11]))"
            ]
          },
          "metadata": {},
          "execution_count": 509
        }
      ]
    },
    {
      "cell_type": "markdown",
      "source": [
        "#### Stack"
      ],
      "metadata": {
        "id": "b2lx9HwNEaDE"
      }
    },
    {
      "cell_type": "code",
      "source": [
        "# Stack  tensor on each other\n",
        "t6_stacked=torch.stack([t6,t6,t6] ,dim=1)\n",
        "t6_stacked"
      ],
      "metadata": {
        "colab": {
          "base_uri": "https://localhost:8080/"
        },
        "id": "-KvwMiQX_1eS",
        "outputId": "bad6acf3-de94-41a1-a68e-e42b2bb4c753"
      },
      "execution_count": 510,
      "outputs": [
        {
          "output_type": "execute_result",
          "data": {
            "text/plain": [
              "tensor([[ 6,  6,  6],\n",
              "        [ 3,  3,  3],\n",
              "        [ 5,  5,  5],\n",
              "        [ 6,  6,  6],\n",
              "        [ 9,  9,  9],\n",
              "        [11, 11, 11]])"
            ]
          },
          "metadata": {},
          "execution_count": 510
        }
      ]
    },
    {
      "cell_type": "markdown",
      "source": [
        "#### Squeeze"
      ],
      "metadata": {
        "id": "QOswfg8CDroA"
      }
    },
    {
      "cell_type": "code",
      "source": [
        "# torch.squeeze() remove all the singlr dimensions from the target tensor\n",
        "# Tensor before squeezing\n",
        "tensor10=torch.tensor([[1,2,3,4,7,6]])\n",
        "print(f\" Tensor before squeezing: {tensor10}\")\n",
        "print(f\"shape of tensor before squeezing: {tensor10.shape}\")\n"
      ],
      "metadata": {
        "colab": {
          "base_uri": "https://localhost:8080/"
        },
        "id": "H4vzTeMKEEMs",
        "outputId": "5f68e80a-fec2-46d1-8fd4-1efabf554a51"
      },
      "execution_count": 511,
      "outputs": [
        {
          "output_type": "stream",
          "name": "stdout",
          "text": [
            " Tensor before squeezing: tensor([[1, 2, 3, 4, 7, 6]])\n",
            "shape of tensor before squeezing: torch.Size([1, 6])\n"
          ]
        }
      ]
    },
    {
      "cell_type": "code",
      "source": [
        "tensor10_squeezed=tensor10.squeeze()\n",
        "tensor10_squeezed, tensor10_squeezed.shape\n",
        "print(f\" Tensor after squeezing: {tensor10_squeezed}\")\n",
        "print(f\"shape of tensor after squeezing: {tensor10_squeezed.shape}\")\n"
      ],
      "metadata": {
        "colab": {
          "base_uri": "https://localhost:8080/"
        },
        "id": "yjTwqsOdE5RQ",
        "outputId": "c8045bad-7b91-42c1-83c9-3431a870688f"
      },
      "execution_count": 512,
      "outputs": [
        {
          "output_type": "stream",
          "name": "stdout",
          "text": [
            " Tensor after squeezing: tensor([1, 2, 3, 4, 7, 6])\n",
            "shape of tensor after squeezing: torch.Size([6])\n"
          ]
        }
      ]
    },
    {
      "cell_type": "markdown",
      "source": [
        "#### Unsqueezing"
      ],
      "metadata": {
        "id": "TaJqEqwIFJv7"
      }
    },
    {
      "cell_type": "code",
      "source": [],
      "metadata": {
        "id": "HKP_wxiaHJsk"
      },
      "execution_count": 512,
      "outputs": []
    },
    {
      "cell_type": "code",
      "source": [
        "# torch.unsqueeze() add a single dimension to a target tensor at specific dim\n",
        "print(f\"previous squeezed tensor :{tensor10_squeezed}\")\n",
        "print(f\"shape of squeezes tensor:{tensor10_squeezed.shape}\")\n",
        "\n",
        "# now we will unsqueeze it means add an extra dimension in it\n",
        "tensor10_unsqueezed=tensor10_squeezed.unsqueeze(dim=0)\n",
        "print(f\" new unsqueezed tensor: { tensor10_unsqueezed }\")\n",
        "print(f\" shape of unsqueezed tensor: {tensor10_unsqueezed.shape}\")\n",
        "\n",
        "\n"
      ],
      "metadata": {
        "colab": {
          "base_uri": "https://localhost:8080/"
        },
        "id": "PeGQBCJoG4zg",
        "outputId": "71bb18c4-c497-4bd3-bf7d-9cae0ba99536"
      },
      "execution_count": 513,
      "outputs": [
        {
          "output_type": "stream",
          "name": "stdout",
          "text": [
            "previous squeezed tensor :tensor([1, 2, 3, 4, 7, 6])\n",
            "shape of squeezes tensor:torch.Size([6])\n",
            " new unsqueezed tensor: tensor([[1, 2, 3, 4, 7, 6]])\n",
            " shape of unsqueezed tensor: torch.Size([1, 6])\n"
          ]
        }
      ]
    },
    {
      "cell_type": "markdown",
      "source": [
        "#### Permute"
      ],
      "metadata": {
        "id": "UDRJigYAKwp-"
      }
    },
    {
      "cell_type": "code",
      "source": [
        "# torch.permute -> rearranges the dimensionsof a target tensor in a specified order\n",
        "# permute commonly used with images\n",
        "org_tensor=torch.rand(3,244,244) #[ color channel, height,width]\n",
        "\n",
        "#permute the orignal tensor to rearrange the axis (or dim) order\n",
        "permuted_tensor=org_tensor.permute(2,1,0) #shift dim 0->1 ,1->2, 2->0\n",
        "print(f\"orignal tensor shape: {org_tensor.shape}\")\n",
        "print(f\"permuted tensor shape: { permuted_tensor.shape}\")# height,width,colorchannel\n",
        "\n",
        "#both share the same memory orignal tensor shares the same memory as permuted tensor"
      ],
      "metadata": {
        "colab": {
          "base_uri": "https://localhost:8080/"
        },
        "id": "vhaF73IqMLea",
        "outputId": "e40d06ee-c74f-4302-f21c-019a65b8a181"
      },
      "execution_count": 514,
      "outputs": [
        {
          "output_type": "stream",
          "name": "stdout",
          "text": [
            "orignal tensor shape: torch.Size([3, 244, 244])\n",
            "permuted tensor shape: torch.Size([244, 244, 3])\n"
          ]
        }
      ]
    },
    {
      "cell_type": "code",
      "source": [
        "org_tensor[0,0,0]"
      ],
      "metadata": {
        "colab": {
          "base_uri": "https://localhost:8080/"
        },
        "id": "pxDdNeNkQG9A",
        "outputId": "b98f82be-1562-41b8-aaeb-b0a1197a0b8d"
      },
      "execution_count": 515,
      "outputs": [
        {
          "output_type": "execute_result",
          "data": {
            "text/plain": [
              "tensor(0.1611)"
            ]
          },
          "metadata": {},
          "execution_count": 515
        }
      ]
    },
    {
      "cell_type": "code",
      "source": [
        "# if we change any value in orignal tensor it well also be changed  in permuted tensor as bot share the same memory\n",
        "org_tensor[0,0,0]=0.8740\n",
        "\n"
      ],
      "metadata": {
        "id": "YSLuoMn1OgNg"
      },
      "execution_count": 516,
      "outputs": []
    },
    {
      "cell_type": "code",
      "source": [
        "permuted_tensor[0,0,0]"
      ],
      "metadata": {
        "colab": {
          "base_uri": "https://localhost:8080/"
        },
        "id": "zTXsgjS3PmGN",
        "outputId": "35220aaf-d66e-4dbd-cbd9-19cf98a4236d"
      },
      "execution_count": 517,
      "outputs": [
        {
          "output_type": "execute_result",
          "data": {
            "text/plain": [
              "tensor(0.8740)"
            ]
          },
          "metadata": {},
          "execution_count": 517
        }
      ]
    },
    {
      "cell_type": "markdown",
      "source": [
        "#### Indexing (Selecting data from tensor)\n",
        "indexig in pytorch is similar to  in numpy"
      ],
      "metadata": {
        "id": "phoZYgvMPu1q"
      }
    },
    {
      "cell_type": "code",
      "source": [
        "#create a tensor\n",
        "x=torch.arange(3,30,3)\n",
        "print(f\"tensor before reshaping: {x}\")\n",
        "print(f\"shape of tensor before reshaping: {x.shape}\")\n",
        "x_re=x.reshape(1,3,3)\n",
        "print(f\"tensor after reshaping: {x_re}\")\n",
        "print(f\"shape of tensor after reshaped: {x_re.shape}\")\n",
        "\n"
      ],
      "metadata": {
        "colab": {
          "base_uri": "https://localhost:8080/"
        },
        "id": "GKcmk0O3Q8sM",
        "outputId": "6029f1a0-dc96-4ae4-9b22-f749dadc8e18"
      },
      "execution_count": 518,
      "outputs": [
        {
          "output_type": "stream",
          "name": "stdout",
          "text": [
            "tensor before reshaping: tensor([ 3,  6,  9, 12, 15, 18, 21, 24, 27])\n",
            "shape of tensor before reshaping: torch.Size([9])\n",
            "tensor after reshaping: tensor([[[ 3,  6,  9],\n",
            "         [12, 15, 18],\n",
            "         [21, 24, 27]]])\n",
            "shape of tensor after reshaped: torch.Size([1, 3, 3])\n"
          ]
        }
      ]
    },
    {
      "cell_type": "code",
      "source": [
        "# index of reshaped tensor\n",
        "x_re[0]"
      ],
      "metadata": {
        "colab": {
          "base_uri": "https://localhost:8080/"
        },
        "id": "jo6thRv7RJmE",
        "outputId": "dc36ebc7-5a9d-4211-8bf2-1487d1f44f63"
      },
      "execution_count": 519,
      "outputs": [
        {
          "output_type": "execute_result",
          "data": {
            "text/plain": [
              "tensor([[ 3,  6,  9],\n",
              "        [12, 15, 18],\n",
              "        [21, 24, 27]])"
            ]
          },
          "metadata": {},
          "execution_count": 519
        }
      ]
    },
    {
      "cell_type": "code",
      "source": [
        "#index on middle bracket(dim=1)\n",
        "x_re[0,0] # x_re[0][0 both are same]\n"
      ],
      "metadata": {
        "colab": {
          "base_uri": "https://localhost:8080/"
        },
        "id": "wxlMydPDTDOz",
        "outputId": "b70c632c-940d-4df2-986a-524bc9a024ad"
      },
      "execution_count": 520,
      "outputs": [
        {
          "output_type": "execute_result",
          "data": {
            "text/plain": [
              "tensor([3, 6, 9])"
            ]
          },
          "metadata": {},
          "execution_count": 520
        }
      ]
    },
    {
      "cell_type": "code",
      "source": [
        "x_re[0,1]"
      ],
      "metadata": {
        "colab": {
          "base_uri": "https://localhost:8080/"
        },
        "id": "vSlSjFfHT5vA",
        "outputId": "0b713551-e724-4118-9739-21aced22168a"
      },
      "execution_count": 521,
      "outputs": [
        {
          "output_type": "execute_result",
          "data": {
            "text/plain": [
              "tensor([12, 15, 18])"
            ]
          },
          "metadata": {},
          "execution_count": 521
        }
      ]
    },
    {
      "cell_type": "code",
      "source": [
        "x_re[0,2]"
      ],
      "metadata": {
        "colab": {
          "base_uri": "https://localhost:8080/"
        },
        "id": "x9VSZxq0UHhj",
        "outputId": "5e8c861a-ad2b-41d1-e679-34797317e0a4"
      },
      "execution_count": 522,
      "outputs": [
        {
          "output_type": "execute_result",
          "data": {
            "text/plain": [
              "tensor([21, 24, 27])"
            ]
          },
          "metadata": {},
          "execution_count": 522
        }
      ]
    },
    {
      "cell_type": "code",
      "source": [
        "x_re[0,0,1]"
      ],
      "metadata": {
        "colab": {
          "base_uri": "https://localhost:8080/"
        },
        "id": "CJowPrYnUQSg",
        "outputId": "bc400c3b-3bc8-416f-c70f-ac80f44aa8c6"
      },
      "execution_count": 523,
      "outputs": [
        {
          "output_type": "execute_result",
          "data": {
            "text/plain": [
              "tensor(6)"
            ]
          },
          "metadata": {},
          "execution_count": 523
        }
      ]
    },
    {
      "cell_type": "code",
      "source": [
        "# index on most inner bracket  last dim\n",
        "x_re[0,0,0]"
      ],
      "metadata": {
        "colab": {
          "base_uri": "https://localhost:8080/"
        },
        "id": "I3zdOirgTRvY",
        "outputId": "afb68ae6-c4ac-48df-9a76-d12b8f72c87a"
      },
      "execution_count": 524,
      "outputs": [
        {
          "output_type": "execute_result",
          "data": {
            "text/plain": [
              "tensor(3)"
            ]
          },
          "metadata": {},
          "execution_count": 524
        }
      ]
    },
    {
      "cell_type": "code",
      "source": [
        "x_re[0,1,0]"
      ],
      "metadata": {
        "colab": {
          "base_uri": "https://localhost:8080/"
        },
        "id": "qMPgi0zwT2BH",
        "outputId": "9ab67593-317a-482a-b655-de3c5a5fa146"
      },
      "execution_count": 525,
      "outputs": [
        {
          "output_type": "execute_result",
          "data": {
            "text/plain": [
              "tensor(12)"
            ]
          },
          "metadata": {},
          "execution_count": 525
        }
      ]
    },
    {
      "cell_type": "code",
      "source": [
        "x_re[0,2,2]"
      ],
      "metadata": {
        "colab": {
          "base_uri": "https://localhost:8080/"
        },
        "id": "BPrErqErUc9Q",
        "outputId": "6917fb2f-a000-48db-ba58-67e051644d17"
      },
      "execution_count": 526,
      "outputs": [
        {
          "output_type": "execute_result",
          "data": {
            "text/plain": [
              "tensor(27)"
            ]
          },
          "metadata": {},
          "execution_count": 526
        }
      ]
    },
    {
      "cell_type": "code",
      "source": [
        "# can use \":\" to select  aff of the target dimension"
      ],
      "metadata": {
        "id": "9Ap64tNAUkXB"
      },
      "execution_count": 527,
      "outputs": []
    },
    {
      "cell_type": "code",
      "source": [
        "x_re[:,0]"
      ],
      "metadata": {
        "colab": {
          "base_uri": "https://localhost:8080/"
        },
        "id": "V4LwHrelVBv0",
        "outputId": "068d8d17-1e56-41a5-f7c7-9b9c6daa3520"
      },
      "execution_count": 528,
      "outputs": [
        {
          "output_type": "execute_result",
          "data": {
            "text/plain": [
              "tensor([[3, 6, 9]])"
            ]
          },
          "metadata": {},
          "execution_count": 528
        }
      ]
    },
    {
      "cell_type": "code",
      "source": [
        "x_re[:,1]"
      ],
      "metadata": {
        "colab": {
          "base_uri": "https://localhost:8080/"
        },
        "id": "Pgr-o_fpVF-t",
        "outputId": "07eb8f2f-dac2-48fa-9a34-27be14ed6909"
      },
      "execution_count": 529,
      "outputs": [
        {
          "output_type": "execute_result",
          "data": {
            "text/plain": [
              "tensor([[12, 15, 18]])"
            ]
          },
          "metadata": {},
          "execution_count": 529
        }
      ]
    },
    {
      "cell_type": "code",
      "source": [
        "# get all the values  of oth and 1st dimension but only index 1 of 2nd dim\n",
        "x_re[:, : ,0]"
      ],
      "metadata": {
        "colab": {
          "base_uri": "https://localhost:8080/"
        },
        "id": "Yf-HSLaYVR-_",
        "outputId": "3c76ad4d-6b74-489f-f177-c29dc12e40a4"
      },
      "execution_count": 530,
      "outputs": [
        {
          "output_type": "execute_result",
          "data": {
            "text/plain": [
              "tensor([[ 3, 12, 21]])"
            ]
          },
          "metadata": {},
          "execution_count": 530
        }
      ]
    },
    {
      "cell_type": "code",
      "source": [
        "# get all the values of 0 dimension but only the 1 index value of 1st and 2nd dimension\n",
        "# get 2nd element of second row\n",
        "x_re[:,1,1]"
      ],
      "metadata": {
        "colab": {
          "base_uri": "https://localhost:8080/"
        },
        "id": "aSsJe-R3VxCt",
        "outputId": "97ccd0ba-3aa8-4257-c0dc-cd267b99ce0b"
      },
      "execution_count": 531,
      "outputs": [
        {
          "output_type": "execute_result",
          "data": {
            "text/plain": [
              "tensor([15])"
            ]
          },
          "metadata": {},
          "execution_count": 531
        }
      ]
    },
    {
      "cell_type": "code",
      "source": [
        "#get 0 index o of 0th and 1st dimension and all the values of 2nd dimension\n",
        "x_re[0,0,:]"
      ],
      "metadata": {
        "colab": {
          "base_uri": "https://localhost:8080/"
        },
        "id": "R0jkuK1jWS4p",
        "outputId": "1b2d4e30-acea-40bb-cb9a-f96e15040cee"
      },
      "execution_count": 532,
      "outputs": [
        {
          "output_type": "execute_result",
          "data": {
            "text/plain": [
              "tensor([3, 6, 9])"
            ]
          },
          "metadata": {},
          "execution_count": 532
        }
      ]
    },
    {
      "cell_type": "code",
      "source": [
        "#index to return 27\n",
        "x_re[0,2,2]"
      ],
      "metadata": {
        "colab": {
          "base_uri": "https://localhost:8080/"
        },
        "id": "9GKC-zv_Xs82",
        "outputId": "4e361553-4e6a-4480-b46f-0f1ae2a1f8d1"
      },
      "execution_count": 533,
      "outputs": [
        {
          "output_type": "execute_result",
          "data": {
            "text/plain": [
              "tensor(27)"
            ]
          },
          "metadata": {},
          "execution_count": 533
        }
      ]
    },
    {
      "cell_type": "code",
      "source": [
        "# index to return  9,18,27\n",
        "x_re[:,:,2]"
      ],
      "metadata": {
        "colab": {
          "base_uri": "https://localhost:8080/"
        },
        "id": "gGVCPYcuX7To",
        "outputId": "390201f1-cb47-470c-ba70-986cd12175ad"
      },
      "execution_count": 534,
      "outputs": [
        {
          "output_type": "execute_result",
          "data": {
            "text/plain": [
              "tensor([[ 9, 18, 27]])"
            ]
          },
          "metadata": {},
          "execution_count": 534
        }
      ]
    },
    {
      "cell_type": "markdown",
      "source": [
        "## pytorch tensors and numpy\n",
        "* NumPy is a Python library used for fast numerical computations and working with arrays.\n",
        "\n",
        "1. change data from numpy array to pytorch tensor ->`torch.from_numpy(ndarray)`\n",
        "2. change from pytorch to NumP -> `torch.tensor.numpy`"
      ],
      "metadata": {
        "id": "-YI28LFGYIxn"
      }
    },
    {
      "cell_type": "code",
      "source": [
        "# numpy array to tensor\n",
        "arr1=np.arange(1.,11.,1.)\n",
        "print(f\"numpy array: {arr1}\")\n",
        "ten1=torch.from_numpy(arr1) # while converting from numpy to pytorch reflects default datatype of array that is float 64\n",
        "print(f\"After conversion into tenor: {ten1} \")\n",
        "print (f\"Data type: {ten1.dtype}\")\n",
        "# default numpy data type is float64 and for tensors it is float32"
      ],
      "metadata": {
        "colab": {
          "base_uri": "https://localhost:8080/"
        },
        "id": "1Hf1NkXDZ1Wy",
        "outputId": "134990c0-203f-479f-d4dc-474ddfb9d880"
      },
      "execution_count": 535,
      "outputs": [
        {
          "output_type": "stream",
          "name": "stdout",
          "text": [
            "numpy array: [ 1.  2.  3.  4.  5.  6.  7.  8.  9. 10.]\n",
            "After conversion into tenor: tensor([ 1.,  2.,  3.,  4.,  5.,  6.,  7.,  8.,  9., 10.], dtype=torch.float64) \n",
            "Data type: torch.float64\n"
          ]
        }
      ]
    },
    {
      "cell_type": "code",
      "source": [
        "# change the valur of array . what it will do to tensor?\n",
        "arr1=arr1+1 # the values in the tensor made from array  does not change even if we chnage values in orignal array\n",
        "arr1,ten1"
      ],
      "metadata": {
        "colab": {
          "base_uri": "https://localhost:8080/"
        },
        "id": "ujpaBXkqaE75",
        "outputId": "ba5da4e6-2420-4bd9-99f1-20a78abf255b"
      },
      "execution_count": 536,
      "outputs": [
        {
          "output_type": "execute_result",
          "data": {
            "text/plain": [
              "(array([ 2.,  3.,  4.,  5.,  6.,  7.,  8.,  9., 10., 11.]),\n",
              " tensor([ 1.,  2.,  3.,  4.,  5.,  6.,  7.,  8.,  9., 10.], dtype=torch.float64))"
            ]
          },
          "metadata": {},
          "execution_count": 536
        }
      ]
    },
    {
      "cell_type": "code",
      "source": [
        "# Tensor to numpy array\n",
        "ten2=torch.tensor([1.,2.,3.,4.])\n",
        "print(f\"Tensor before conversion into array: {ten2}\")\n",
        "tensor_to_numpy=ten2.numpy()\n",
        "print(f\"Tensor after conversion into array: {tensor_to_numpy}\")\n",
        "tenser_to_numpy.dtype # datatype will be the one you have assigned to tensor before conversion by default it is float32\n"
      ],
      "metadata": {
        "colab": {
          "base_uri": "https://localhost:8080/"
        },
        "id": "C1zMEsJceAUX",
        "outputId": "5958cc26-34fc-4924-9864-94f392c28251"
      },
      "execution_count": 537,
      "outputs": [
        {
          "output_type": "stream",
          "name": "stdout",
          "text": [
            "Tensor before conversion into array: tensor([1., 2., 3., 4.])\n",
            "Tensor after conversion into array: [1. 2. 3. 4.]\n"
          ]
        },
        {
          "output_type": "execute_result",
          "data": {
            "text/plain": [
              "dtype('float32')"
            ]
          },
          "metadata": {},
          "execution_count": 537
        }
      ]
    },
    {
      "cell_type": "code",
      "source": [
        "# if we change values in tensor will that affect the array values\n",
        "ten2=ten2+1\n",
        "ten2,tensor_to_numpy\n",
        "#values in array will not chnage"
      ],
      "metadata": {
        "colab": {
          "base_uri": "https://localhost:8080/"
        },
        "id": "X69j8JJ6e9XZ",
        "outputId": "298401c2-c480-4eb9-ed74-813706cf5573"
      },
      "execution_count": 538,
      "outputs": [
        {
          "output_type": "execute_result",
          "data": {
            "text/plain": [
              "(tensor([2., 3., 4., 5.]), array([1., 2., 3., 4.], dtype=float32))"
            ]
          },
          "metadata": {},
          "execution_count": 538
        }
      ]
    },
    {
      "cell_type": "markdown",
      "source": [
        "## Reproducbility (trying to take random out of random)\n",
        "* In short how neural network learns\n",
        "` start with random numbers ->  Tensor opertion -> update random numbers to try and make them better representation of data -> again -> again ->agian .... `\n",
        "* To reduce the randomness in neural network and pytorch comes the concept of a **Random Seed**\n",
        "1. Random seed \"flavour\" the randomness"
      ],
      "metadata": {
        "id": "27ZwVb_CgYZq"
      }
    },
    {
      "cell_type": "code",
      "source": [
        "# create 2 random tensors\n",
        "random_tensor1=torch.rand(4,3)\n",
        "random_tensor2=torch.rand(4,3)\n",
        "print(random_tensor1)\n",
        "print(random_tensor2)\n",
        "print(random_tensor1==random_tensor2)"
      ],
      "metadata": {
        "colab": {
          "base_uri": "https://localhost:8080/"
        },
        "id": "wGM76MlUg0Fq",
        "outputId": "6c56ec1c-5a8e-43ec-de33-7746dc5387dc"
      },
      "execution_count": 539,
      "outputs": [
        {
          "output_type": "stream",
          "name": "stdout",
          "text": [
            "tensor([[0.5766, 0.8764, 0.8779],\n",
            "        [0.6731, 0.6362, 0.8230],\n",
            "        [0.1302, 0.1416, 0.4901],\n",
            "        [0.6446, 0.1680, 0.6516]])\n",
            "tensor([[0.7159, 0.5130, 0.6978],\n",
            "        [0.8230, 0.0809, 0.9740],\n",
            "        [0.6509, 0.5285, 0.5211],\n",
            "        [0.4960, 0.8270, 0.1687]])\n",
            "tensor([[False, False, False],\n",
            "        [False, False, False],\n",
            "        [False, False, False],\n",
            "        [False, False, False]])\n"
          ]
        }
      ]
    },
    {
      "cell_type": "code",
      "source": [
        "# lets make some random but reproducible tensors\n",
        "#set the random seed\n",
        "RANDOM_SEED=42 # 42 is universal and most common value for random_seed .the value of random_seed can be any value you like\n",
        "\n",
        "torch.manual_seed(RANDOM_SEED)\n",
        "#now create random tensors with the flavour of random seed\n",
        "random_tensor3=torch.rand(4,3)\n",
        "\n",
        "torch.manual_seed(RANDOM_SEED) #in nooteboke it only work for one block of code\n",
        "random_tensor4=torch.rand(4,3)\n",
        "\n",
        "print(random_tensor3)\n",
        "print(random_tensor4)\n",
        "print(random_tensor3==random_tensor4)\n",
        "\n"
      ],
      "metadata": {
        "colab": {
          "base_uri": "https://localhost:8080/"
        },
        "id": "juLvrpV2jDu9",
        "outputId": "80e3e1cd-133d-4d9a-a1a9-17f969b9376a"
      },
      "execution_count": 540,
      "outputs": [
        {
          "output_type": "stream",
          "name": "stdout",
          "text": [
            "tensor([[0.8823, 0.9150, 0.3829],\n",
            "        [0.9593, 0.3904, 0.6009],\n",
            "        [0.2566, 0.7936, 0.9408],\n",
            "        [0.1332, 0.9346, 0.5936]])\n",
            "tensor([[0.8823, 0.9150, 0.3829],\n",
            "        [0.9593, 0.3904, 0.6009],\n",
            "        [0.2566, 0.7936, 0.9408],\n",
            "        [0.1332, 0.9346, 0.5936]])\n",
            "tensor([[True, True, True],\n",
            "        [True, True, True],\n",
            "        [True, True, True],\n",
            "        [True, True, True]])\n"
          ]
        }
      ]
    },
    {
      "cell_type": "code",
      "source": [],
      "metadata": {
        "id": "Ko5jE1Z5mF7h"
      },
      "execution_count": 540,
      "outputs": []
    },
    {
      "cell_type": "code",
      "source": [],
      "metadata": {
        "id": "rWYP5t3dlMNq"
      },
      "execution_count": 540,
      "outputs": []
    },
    {
      "cell_type": "markdown",
      "source": [
        "## Runing tensors and pytorch objects on the GPUs(making the computation faster\n",
        "* GPU = faster computation  on numbers , thanks to CUDA + NVIDIA hardware + Pytorch working behind the scenes to make everything good\n"
      ],
      "metadata": {
        "id": "e-3Gq1xqmLnR"
      }
    },
    {
      "cell_type": "markdown",
      "source": [
        "####  1. Getting a GPU\n",
        "* easiest - use google colab for free gpu\n",
        "* Use your own GPU - take a little bit of setup , set it on your own system\n",
        "* use cloud computing(rent from cloud) -AWS,Azure - allowa you to rent computers on the cloud and access them"
      ],
      "metadata": {
        "id": "FHTZjIU6m_32"
      }
    },
    {
      "cell_type": "code",
      "source": [
        "!nvidia-smi"
      ],
      "metadata": {
        "colab": {
          "base_uri": "https://localhost:8080/"
        },
        "id": "UaG-a8aeoHO3",
        "outputId": "2f4e66dc-b680-4efe-9ae2-44bb0b68d4e4"
      },
      "execution_count": 3,
      "outputs": [
        {
          "output_type": "stream",
          "name": "stdout",
          "text": [
            "Wed Jul 30 14:01:06 2025       \n",
            "+-----------------------------------------------------------------------------------------+\n",
            "| NVIDIA-SMI 550.54.15              Driver Version: 550.54.15      CUDA Version: 12.4     |\n",
            "|-----------------------------------------+------------------------+----------------------+\n",
            "| GPU  Name                 Persistence-M | Bus-Id          Disp.A | Volatile Uncorr. ECC |\n",
            "| Fan  Temp   Perf          Pwr:Usage/Cap |           Memory-Usage | GPU-Util  Compute M. |\n",
            "|                                         |                        |               MIG M. |\n",
            "|=========================================+========================+======================|\n",
            "|   0  Tesla T4                       Off |   00000000:00:04.0 Off |                    0 |\n",
            "| N/A   47C    P8              9W /   70W |       0MiB /  15360MiB |      0%      Default |\n",
            "|                                         |                        |                  N/A |\n",
            "+-----------------------------------------+------------------------+----------------------+\n",
            "                                                                                         \n",
            "+-----------------------------------------------------------------------------------------+\n",
            "| Processes:                                                                              |\n",
            "|  GPU   GI   CI        PID   Type   Process name                              GPU Memory |\n",
            "|        ID   ID                                                               Usage      |\n",
            "|=========================================================================================|\n",
            "|  No running processes found                                                             |\n",
            "+-----------------------------------------------------------------------------------------+\n"
          ]
        }
      ]
    },
    {
      "cell_type": "code",
      "source": [
        "# AS we are trying to use the GPU from gogle colab free version\n",
        "# First we need to check that even a GPU is available at this time or not\n",
        "#check GPU access with pytorch\n",
        "import torch\n",
        "torch.cuda.is_available()\n",
        "\n",
        "\n"
      ],
      "metadata": {
        "colab": {
          "base_uri": "https://localhost:8080/"
        },
        "id": "c3_S02KFoqWr",
        "outputId": "bd262fc2-0c98-4447-ed8e-d69127adca0a"
      },
      "execution_count": 5,
      "outputs": [
        {
          "output_type": "execute_result",
          "data": {
            "text/plain": [
              "True"
            ]
          },
          "metadata": {},
          "execution_count": 5
        }
      ]
    },
    {
      "cell_type": "code",
      "source": [
        "#setup device agnostic code\n",
        "# If GPU is available change the device from CPU to GPU\n",
        "device=\"cuda\" if torch.cuda.is_available() else \"cpu\"\n",
        "device"
      ],
      "metadata": {
        "colab": {
          "base_uri": "https://localhost:8080/",
          "height": 35
        },
        "id": "_dwZ_siFpMdA",
        "outputId": "da8e8a31-2de5-4ca2-923c-b2632c7f40d5"
      },
      "execution_count": 6,
      "outputs": [
        {
          "output_type": "execute_result",
          "data": {
            "text/plain": [
              "'cuda'"
            ],
            "application/vnd.google.colaboratory.intrinsic+json": {
              "type": "string"
            }
          },
          "metadata": {},
          "execution_count": 6
        }
      ]
    },
    {
      "cell_type": "code",
      "source": [
        "#count number of devices\n",
        "torch.cuda.device_count()"
      ],
      "metadata": {
        "colab": {
          "base_uri": "https://localhost:8080/"
        },
        "id": "ZER3X2ODpMMb",
        "outputId": "072234b0-ba99-40f6-ba21-62ac3e41a12f"
      },
      "execution_count": 9,
      "outputs": [
        {
          "output_type": "execute_result",
          "data": {
            "text/plain": [
              "1"
            ]
          },
          "metadata": {},
          "execution_count": 9
        }
      ]
    },
    {
      "cell_type": "markdown",
      "source": [
        "## putting tensors ( and models ) on GPU\n",
        "* The reason we want our tensors /models on GPU is because using GPU results in faster computations"
      ],
      "metadata": {
        "id": "T0RHyx0_pMIf"
      }
    },
    {
      "cell_type": "code",
      "source": [
        "# create tensor (default on the CPU)\n",
        "tensor =torch.tensor([1,2,3,4])\n",
        "# tensor is not on GPU\n",
        "print(tensor,tensor.device)"
      ],
      "metadata": {
        "colab": {
          "base_uri": "https://localhost:8080/"
        },
        "id": "uOobIFrFrbNK",
        "outputId": "50ca85ba-2271-4b26-9ff6-79ac127b8c35"
      },
      "execution_count": 10,
      "outputs": [
        {
          "output_type": "stream",
          "name": "stdout",
          "text": [
            "tensor([1, 2, 3, 4]) cpu\n"
          ]
        }
      ]
    },
    {
      "cell_type": "code",
      "source": [
        "# Move tensor to GPU if available\n",
        "tensor_on_gpu=tensor.to(device)\n",
        "tensor_on_gpu"
      ],
      "metadata": {
        "colab": {
          "base_uri": "https://localhost:8080/"
        },
        "id": "ejONBBpZr0cO",
        "outputId": "28385291-cdf7-4edb-e9f3-5511d3f64342"
      },
      "execution_count": 11,
      "outputs": [
        {
          "output_type": "execute_result",
          "data": {
            "text/plain": [
              "tensor([1, 2, 3, 4], device='cuda:0')"
            ]
          },
          "metadata": {},
          "execution_count": 11
        }
      ]
    },
    {
      "cell_type": "markdown",
      "source": [
        "#### Moving tensors back to the CPU\n",
        "numpy array works on CPU"
      ],
      "metadata": {
        "id": "uLxBYCSssIpE"
      }
    },
    {
      "cell_type": "code",
      "source": [
        "# if tensor is on GPU it cannot  be transformed into numpy\n",
        "tensor_on_gpu.numpy()\n",
        "# 3rd main issue that we face in deep learning as we have talked about it above\n"
      ],
      "metadata": {
        "colab": {
          "base_uri": "https://localhost:8080/",
          "height": 159
        },
        "id": "-dURNf4vst_O",
        "outputId": "e2b303e5-d4d1-47d7-a75a-60ddef8a5a56"
      },
      "execution_count": 12,
      "outputs": [
        {
          "output_type": "error",
          "ename": "TypeError",
          "evalue": "can't convert cuda:0 device type tensor to numpy. Use Tensor.cpu() to copy the tensor to host memory first.",
          "traceback": [
            "\u001b[0;31m---------------------------------------------------------------------------\u001b[0m",
            "\u001b[0;31mTypeError\u001b[0m                                 Traceback (most recent call last)",
            "\u001b[0;32m/tmp/ipython-input-12-2967614474.py\u001b[0m in \u001b[0;36m<cell line: 0>\u001b[0;34m()\u001b[0m\n\u001b[1;32m      1\u001b[0m \u001b[0;31m# if tensor is on GPU it cannot  be transformed into numpy\u001b[0m\u001b[0;34m\u001b[0m\u001b[0;34m\u001b[0m\u001b[0m\n\u001b[0;32m----> 2\u001b[0;31m \u001b[0mtensor_on_gpu\u001b[0m\u001b[0;34m.\u001b[0m\u001b[0mnumpy\u001b[0m\u001b[0;34m(\u001b[0m\u001b[0;34m)\u001b[0m\u001b[0;34m\u001b[0m\u001b[0;34m\u001b[0m\u001b[0m\n\u001b[0m",
            "\u001b[0;31mTypeError\u001b[0m: can't convert cuda:0 device type tensor to numpy. Use Tensor.cpu() to copy the tensor to host memory first."
          ]
        }
      ]
    },
    {
      "cell_type": "code",
      "source": [
        "# to fix  the GPU tensor withnumpy issue , we can first set it to the CPU\n",
        "tensor_back_on_cpu=tensor_on_gpu.cpu().numpy()\n",
        "tensor_back_on_cpu"
      ],
      "metadata": {
        "colab": {
          "base_uri": "https://localhost:8080/"
        },
        "id": "mPTbuSbptHIe",
        "outputId": "e85b626f-97de-4b02-e3ec-efc1ae0bd68f"
      },
      "execution_count": 13,
      "outputs": [
        {
          "output_type": "execute_result",
          "data": {
            "text/plain": [
              "array([1, 2, 3, 4])"
            ]
          },
          "metadata": {},
          "execution_count": 13
        }
      ]
    },
    {
      "cell_type": "code",
      "source": [],
      "metadata": {
        "id": "TePaMA6_t8LC"
      },
      "execution_count": null,
      "outputs": []
    }
  ]
}